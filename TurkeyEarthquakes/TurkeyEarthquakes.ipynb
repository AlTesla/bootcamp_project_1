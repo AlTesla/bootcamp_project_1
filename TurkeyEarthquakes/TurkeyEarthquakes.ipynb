{
 "cells": [
  {
   "cell_type": "markdown",
   "metadata": {},
   "source": [
    "# Turkey Earthquake "
   ]
  },
  {
   "cell_type": "markdown",
   "metadata": {},
   "source": [
    "## Project 1 Team 2\n",
    "Cecilia Lizcano, \n",
    "Omar Alejandro Vallejo, \n",
    "Erica Alvarez, \n",
    "Roberto Rodas, \n",
    "Alvaro Corona"
   ]
  },
  {
   "cell_type": "code",
   "execution_count": 1,
   "metadata": {},
   "outputs": [
    {
     "data": {
      "application/javascript": "(function(root) {\n  function now() {\n    return new Date();\n  }\n\n  var force = true;\n  var py_version = '3.1.1'.replace('rc', '-rc.');\n  var is_dev = py_version.indexOf(\"+\") !== -1 || py_version.indexOf(\"-\") !== -1;\n  var reloading = false;\n  var Bokeh = root.Bokeh;\n  var bokeh_loaded = Bokeh != null && (Bokeh.version === py_version || (Bokeh.versions !== undefined && Bokeh.versions.has(py_version)));\n\n  if (typeof (root._bokeh_timeout) === \"undefined\" || force) {\n    root._bokeh_timeout = Date.now() + 5000;\n    root._bokeh_failed_load = false;\n  }\n\n  function run_callbacks() {\n    try {\n      root._bokeh_onload_callbacks.forEach(function(callback) {\n        if (callback != null)\n          callback();\n      });\n    } finally {\n      delete root._bokeh_onload_callbacks;\n    }\n    console.debug(\"Bokeh: all callbacks have finished\");\n  }\n\n  function load_libs(css_urls, js_urls, js_modules, js_exports, callback) {\n    if (css_urls == null) css_urls = [];\n    if (js_urls == null) js_urls = [];\n    if (js_modules == null) js_modules = [];\n    if (js_exports == null) js_exports = {};\n\n    root._bokeh_onload_callbacks.push(callback);\n\n    if (root._bokeh_is_loading > 0) {\n      console.debug(\"Bokeh: BokehJS is being loaded, scheduling callback at\", now());\n      return null;\n    }\n    if (js_urls.length === 0 && js_modules.length === 0 && Object.keys(js_exports).length === 0) {\n      run_callbacks();\n      return null;\n    }\n    if (!reloading) {\n      console.debug(\"Bokeh: BokehJS not loaded, scheduling load and callback at\", now());\n    }\n\n    function on_load() {\n      root._bokeh_is_loading--;\n      if (root._bokeh_is_loading === 0) {\n        console.debug(\"Bokeh: all BokehJS libraries/stylesheets loaded\");\n        run_callbacks()\n      }\n    }\n    window._bokeh_on_load = on_load\n\n    function on_error() {\n      console.error(\"failed to load \" + url);\n    }\n\n    var skip = [];\n    if (window.requirejs) {\n      window.requirejs.config({'packages': {}, 'paths': {'jspanel': 'https://cdn.jsdelivr.net/npm/jspanel4@4.12.0/dist/jspanel', 'jspanel-modal': 'https://cdn.jsdelivr.net/npm/jspanel4@4.12.0/dist/extensions/modal/jspanel.modal', 'jspanel-tooltip': 'https://cdn.jsdelivr.net/npm/jspanel4@4.12.0/dist/extensions/tooltip/jspanel.tooltip', 'jspanel-hint': 'https://cdn.jsdelivr.net/npm/jspanel4@4.12.0/dist/extensions/hint/jspanel.hint', 'jspanel-layout': 'https://cdn.jsdelivr.net/npm/jspanel4@4.12.0/dist/extensions/layout/jspanel.layout', 'jspanel-contextmenu': 'https://cdn.jsdelivr.net/npm/jspanel4@4.12.0/dist/extensions/contextmenu/jspanel.contextmenu', 'jspanel-dock': 'https://cdn.jsdelivr.net/npm/jspanel4@4.12.0/dist/extensions/dock/jspanel.dock', 'gridstack': 'https://cdn.jsdelivr.net/npm/gridstack@7.2.3/dist/gridstack-all', 'notyf': 'https://cdn.jsdelivr.net/npm/notyf@3/notyf.min'}, 'shim': {'jspanel': {'exports': 'jsPanel'}, 'gridstack': {'exports': 'GridStack'}}});\n      require([\"jspanel\"], function(jsPanel) {\n\twindow.jsPanel = jsPanel\n\ton_load()\n      })\n      require([\"jspanel-modal\"], function() {\n\ton_load()\n      })\n      require([\"jspanel-tooltip\"], function() {\n\ton_load()\n      })\n      require([\"jspanel-hint\"], function() {\n\ton_load()\n      })\n      require([\"jspanel-layout\"], function() {\n\ton_load()\n      })\n      require([\"jspanel-contextmenu\"], function() {\n\ton_load()\n      })\n      require([\"jspanel-dock\"], function() {\n\ton_load()\n      })\n      require([\"gridstack\"], function(GridStack) {\n\twindow.GridStack = GridStack\n\ton_load()\n      })\n      require([\"notyf\"], function() {\n\ton_load()\n      })\n      root._bokeh_is_loading = css_urls.length + 9;\n    } else {\n      root._bokeh_is_loading = css_urls.length + js_urls.length + js_modules.length + Object.keys(js_exports).length;\n    }\n\n    var existing_stylesheets = []\n    var links = document.getElementsByTagName('link')\n    for (var i = 0; i < links.length; i++) {\n      var link = links[i]\n      if (link.href != null) {\n\texisting_stylesheets.push(link.href)\n      }\n    }\n    for (var i = 0; i < css_urls.length; i++) {\n      var url = css_urls[i];\n      if (existing_stylesheets.indexOf(url) !== -1) {\n\ton_load()\n\tcontinue;\n      }\n      const element = document.createElement(\"link\");\n      element.onload = on_load;\n      element.onerror = on_error;\n      element.rel = \"stylesheet\";\n      element.type = \"text/css\";\n      element.href = url;\n      console.debug(\"Bokeh: injecting link tag for BokehJS stylesheet: \", url);\n      document.body.appendChild(element);\n    }    if (((window['jsPanel'] !== undefined) && (!(window['jsPanel'] instanceof HTMLElement))) || window.requirejs) {\n      var urls = ['https://cdn.holoviz.org/panel/1.1.0/dist/bundled/floatpanel/jspanel4@4.12.0/dist/jspanel.js', 'https://cdn.holoviz.org/panel/1.1.0/dist/bundled/floatpanel/jspanel4@4.12.0/dist/extensions/modal/jspanel.modal.js', 'https://cdn.holoviz.org/panel/1.1.0/dist/bundled/floatpanel/jspanel4@4.12.0/dist/extensions/tooltip/jspanel.tooltip.js', 'https://cdn.holoviz.org/panel/1.1.0/dist/bundled/floatpanel/jspanel4@4.12.0/dist/extensions/hint/jspanel.hint.js', 'https://cdn.holoviz.org/panel/1.1.0/dist/bundled/floatpanel/jspanel4@4.12.0/dist/extensions/layout/jspanel.layout.js', 'https://cdn.holoviz.org/panel/1.1.0/dist/bundled/floatpanel/jspanel4@4.12.0/dist/extensions/contextmenu/jspanel.contextmenu.js', 'https://cdn.holoviz.org/panel/1.1.0/dist/bundled/floatpanel/jspanel4@4.12.0/dist/extensions/dock/jspanel.dock.js'];\n      for (var i = 0; i < urls.length; i++) {\n        skip.push(urls[i])\n      }\n    }    if (((window['GridStack'] !== undefined) && (!(window['GridStack'] instanceof HTMLElement))) || window.requirejs) {\n      var urls = ['https://cdn.holoviz.org/panel/1.1.0/dist/bundled/gridstack/gridstack@7.2.3/dist/gridstack-all.js'];\n      for (var i = 0; i < urls.length; i++) {\n        skip.push(urls[i])\n      }\n    }    if (((window['Notyf'] !== undefined) && (!(window['Notyf'] instanceof HTMLElement))) || window.requirejs) {\n      var urls = ['https://cdn.holoviz.org/panel/1.1.0/dist/bundled/notificationarea/notyf@3/notyf.min.js'];\n      for (var i = 0; i < urls.length; i++) {\n        skip.push(urls[i])\n      }\n    }    var existing_scripts = []\n    var scripts = document.getElementsByTagName('script')\n    for (var i = 0; i < scripts.length; i++) {\n      var script = scripts[i]\n      if (script.src != null) {\n\texisting_scripts.push(script.src)\n      }\n    }\n    for (var i = 0; i < js_urls.length; i++) {\n      var url = js_urls[i];\n      if (skip.indexOf(url) !== -1 || existing_scripts.indexOf(url) !== -1) {\n\tif (!window.requirejs) {\n\t  on_load();\n\t}\n\tcontinue;\n      }\n      var element = document.createElement('script');\n      element.onload = on_load;\n      element.onerror = on_error;\n      element.async = false;\n      element.src = url;\n      console.debug(\"Bokeh: injecting script tag for BokehJS library: \", url);\n      document.head.appendChild(element);\n    }\n    for (var i = 0; i < js_modules.length; i++) {\n      var url = js_modules[i];\n      if (skip.indexOf(url) !== -1 || existing_scripts.indexOf(url) !== -1) {\n\tif (!window.requirejs) {\n\t  on_load();\n\t}\n\tcontinue;\n      }\n      var element = document.createElement('script');\n      element.onload = on_load;\n      element.onerror = on_error;\n      element.async = false;\n      element.src = url;\n      element.type = \"module\";\n      console.debug(\"Bokeh: injecting script tag for BokehJS library: \", url);\n      document.head.appendChild(element);\n    }\n    for (const name in js_exports) {\n      var url = js_exports[name];\n      if (skip.indexOf(url) >= 0 || root[name] != null) {\n\tif (!window.requirejs) {\n\t  on_load();\n\t}\n\tcontinue;\n      }\n      var element = document.createElement('script');\n      element.onerror = on_error;\n      element.async = false;\n      element.type = \"module\";\n      console.debug(\"Bokeh: injecting script tag for BokehJS library: \", url);\n      element.textContent = `\n      import ${name} from \"${url}\"\n      window.${name} = ${name}\n      window._bokeh_on_load()\n      `\n      document.head.appendChild(element);\n    }\n    if (!js_urls.length && !js_modules.length) {\n      on_load()\n    }\n  };\n\n  function inject_raw_css(css) {\n    const element = document.createElement(\"style\");\n    element.appendChild(document.createTextNode(css));\n    document.body.appendChild(element);\n  }\n\n  var js_urls = [\"https://cdn.bokeh.org/bokeh/release/bokeh-3.1.1.min.js\", \"https://cdn.bokeh.org/bokeh/release/bokeh-gl-3.1.1.min.js\", \"https://cdn.bokeh.org/bokeh/release/bokeh-widgets-3.1.1.min.js\", \"https://cdn.bokeh.org/bokeh/release/bokeh-tables-3.1.1.min.js\", \"https://cdn.holoviz.org/panel/1.1.0/dist/panel.min.js\"];\n  var js_modules = [];\n  var js_exports = {};\n  var css_urls = [];\n  var inline_js = [    function(Bokeh) {\n      Bokeh.set_log_level(\"info\");\n    },\nfunction(Bokeh) {} // ensure no trailing comma for IE\n  ];\n\n  function run_inline_js() {\n    if ((root.Bokeh !== undefined) || (force === true)) {\n      for (var i = 0; i < inline_js.length; i++) {\n        inline_js[i].call(root, root.Bokeh);\n      }\n      // Cache old bokeh versions\n      if (Bokeh != undefined && !reloading) {\n\tvar NewBokeh = root.Bokeh;\n\tif (Bokeh.versions === undefined) {\n\t  Bokeh.versions = new Map();\n\t}\n\tif (NewBokeh.version !== Bokeh.version) {\n\t  Bokeh.versions.set(NewBokeh.version, NewBokeh)\n\t}\n\troot.Bokeh = Bokeh;\n      }} else if (Date.now() < root._bokeh_timeout) {\n      setTimeout(run_inline_js, 100);\n    } else if (!root._bokeh_failed_load) {\n      console.log(\"Bokeh: BokehJS failed to load within specified timeout.\");\n      root._bokeh_failed_load = true;\n    }\n    root._bokeh_is_initializing = false\n  }\n\n  function load_or_wait() {\n    // Implement a backoff loop that tries to ensure we do not load multiple\n    // versions of Bokeh and its dependencies at the same time.\n    // In recent versions we use the root._bokeh_is_initializing flag\n    // to determine whether there is an ongoing attempt to initialize\n    // bokeh, however for backward compatibility we also try to ensure\n    // that we do not start loading a newer (Panel>=1.0 and Bokeh>3) version\n    // before older versions are fully initialized.\n    if (root._bokeh_is_initializing && Date.now() > root._bokeh_timeout) {\n      root._bokeh_is_initializing = false;\n      root._bokeh_onload_callbacks = undefined;\n      console.log(\"Bokeh: BokehJS was loaded multiple times but one version failed to initialize.\");\n      load_or_wait();\n    } else if (root._bokeh_is_initializing || (typeof root._bokeh_is_initializing === \"undefined\" && root._bokeh_onload_callbacks !== undefined)) {\n      setTimeout(load_or_wait, 100);\n    } else {\n      Bokeh = root.Bokeh;\n      bokeh_loaded = Bokeh != null && (Bokeh.version === py_version || (Bokeh.versions !== undefined && Bokeh.versions.has(py_version)));\n      root._bokeh_is_initializing = true\n      root._bokeh_onload_callbacks = []\n      if (!reloading && (!bokeh_loaded || is_dev)) {\n\troot.Bokeh = undefined;\n      }\n      load_libs(css_urls, js_urls, js_modules, js_exports, function() {\n\tconsole.debug(\"Bokeh: BokehJS plotting callback run at\", now());\n\trun_inline_js();\n      });\n    }\n  }\n  // Give older versions of the autoload script a head-start to ensure\n  // they initialize before we start loading newer version.\n  setTimeout(load_or_wait, 100)\n}(window));",
      "application/vnd.holoviews_load.v0+json": ""
     },
     "metadata": {},
     "output_type": "display_data"
    },
    {
     "data": {
      "application/javascript": "\nif ((window.PyViz === undefined) || (window.PyViz instanceof HTMLElement)) {\n  window.PyViz = {comms: {}, comm_status:{}, kernels:{}, receivers: {}, plot_index: []}\n}\n\n\n    function JupyterCommManager() {\n    }\n\n    JupyterCommManager.prototype.register_target = function(plot_id, comm_id, msg_handler) {\n      if (window.comm_manager || ((window.Jupyter !== undefined) && (Jupyter.notebook.kernel != null))) {\n        var comm_manager = window.comm_manager || Jupyter.notebook.kernel.comm_manager;\n        comm_manager.register_target(comm_id, function(comm) {\n          comm.on_msg(msg_handler);\n        });\n      } else if ((plot_id in window.PyViz.kernels) && (window.PyViz.kernels[plot_id])) {\n        window.PyViz.kernels[plot_id].registerCommTarget(comm_id, function(comm) {\n          comm.onMsg = msg_handler;\n        });\n      } else if (typeof google != 'undefined' && google.colab.kernel != null) {\n        google.colab.kernel.comms.registerTarget(comm_id, (comm) => {\n          var messages = comm.messages[Symbol.asyncIterator]();\n          function processIteratorResult(result) {\n            var message = result.value;\n            console.log(message)\n            var content = {data: message.data, comm_id};\n            var buffers = []\n            for (var buffer of message.buffers || []) {\n              buffers.push(new DataView(buffer))\n            }\n            var metadata = message.metadata || {};\n            var msg = {content, buffers, metadata}\n            msg_handler(msg);\n            return messages.next().then(processIteratorResult);\n          }\n          return messages.next().then(processIteratorResult);\n        })\n      }\n    }\n\n    JupyterCommManager.prototype.get_client_comm = function(plot_id, comm_id, msg_handler) {\n      if (comm_id in window.PyViz.comms) {\n        return window.PyViz.comms[comm_id];\n      } else if (window.comm_manager || ((window.Jupyter !== undefined) && (Jupyter.notebook.kernel != null))) {\n        var comm_manager = window.comm_manager || Jupyter.notebook.kernel.comm_manager;\n        var comm = comm_manager.new_comm(comm_id, {}, {}, {}, comm_id);\n        if (msg_handler) {\n          comm.on_msg(msg_handler);\n        }\n      } else if ((plot_id in window.PyViz.kernels) && (window.PyViz.kernels[plot_id])) {\n        var comm = window.PyViz.kernels[plot_id].connectToComm(comm_id);\n        comm.open();\n        if (msg_handler) {\n          comm.onMsg = msg_handler;\n        }\n      } else if (typeof google != 'undefined' && google.colab.kernel != null) {\n        var comm_promise = google.colab.kernel.comms.open(comm_id)\n        comm_promise.then((comm) => {\n          window.PyViz.comms[comm_id] = comm;\n          if (msg_handler) {\n            var messages = comm.messages[Symbol.asyncIterator]();\n            function processIteratorResult(result) {\n              var message = result.value;\n              var content = {data: message.data};\n              var metadata = message.metadata || {comm_id};\n              var msg = {content, metadata}\n              msg_handler(msg);\n              return messages.next().then(processIteratorResult);\n            }\n            return messages.next().then(processIteratorResult);\n          }\n        }) \n        var sendClosure = (data, metadata, buffers, disposeOnDone) => {\n          return comm_promise.then((comm) => {\n            comm.send(data, metadata, buffers, disposeOnDone);\n          });\n        };\n        var comm = {\n          send: sendClosure\n        };\n      }\n      window.PyViz.comms[comm_id] = comm;\n      return comm;\n    }\n    window.PyViz.comm_manager = new JupyterCommManager();\n    \n\n\nvar JS_MIME_TYPE = 'application/javascript';\nvar HTML_MIME_TYPE = 'text/html';\nvar EXEC_MIME_TYPE = 'application/vnd.holoviews_exec.v0+json';\nvar CLASS_NAME = 'output';\n\n/**\n * Render data to the DOM node\n */\nfunction render(props, node) {\n  var div = document.createElement(\"div\");\n  var script = document.createElement(\"script\");\n  node.appendChild(div);\n  node.appendChild(script);\n}\n\n/**\n * Handle when a new output is added\n */\nfunction handle_add_output(event, handle) {\n  var output_area = handle.output_area;\n  var output = handle.output;\n  if ((output.data == undefined) || (!output.data.hasOwnProperty(EXEC_MIME_TYPE))) {\n    return\n  }\n  var id = output.metadata[EXEC_MIME_TYPE][\"id\"];\n  var toinsert = output_area.element.find(\".\" + CLASS_NAME.split(' ')[0]);\n  if (id !== undefined) {\n    var nchildren = toinsert.length;\n    var html_node = toinsert[nchildren-1].children[0];\n    html_node.innerHTML = output.data[HTML_MIME_TYPE];\n    var scripts = [];\n    var nodelist = html_node.querySelectorAll(\"script\");\n    for (var i in nodelist) {\n      if (nodelist.hasOwnProperty(i)) {\n        scripts.push(nodelist[i])\n      }\n    }\n\n    scripts.forEach( function (oldScript) {\n      var newScript = document.createElement(\"script\");\n      var attrs = [];\n      var nodemap = oldScript.attributes;\n      for (var j in nodemap) {\n        if (nodemap.hasOwnProperty(j)) {\n          attrs.push(nodemap[j])\n        }\n      }\n      attrs.forEach(function(attr) { newScript.setAttribute(attr.name, attr.value) });\n      newScript.appendChild(document.createTextNode(oldScript.innerHTML));\n      oldScript.parentNode.replaceChild(newScript, oldScript);\n    });\n    if (JS_MIME_TYPE in output.data) {\n      toinsert[nchildren-1].children[1].textContent = output.data[JS_MIME_TYPE];\n    }\n    output_area._hv_plot_id = id;\n    if ((window.Bokeh !== undefined) && (id in Bokeh.index)) {\n      window.PyViz.plot_index[id] = Bokeh.index[id];\n    } else {\n      window.PyViz.plot_index[id] = null;\n    }\n  } else if (output.metadata[EXEC_MIME_TYPE][\"server_id\"] !== undefined) {\n    var bk_div = document.createElement(\"div\");\n    bk_div.innerHTML = output.data[HTML_MIME_TYPE];\n    var script_attrs = bk_div.children[0].attributes;\n    for (var i = 0; i < script_attrs.length; i++) {\n      toinsert[toinsert.length - 1].childNodes[1].setAttribute(script_attrs[i].name, script_attrs[i].value);\n    }\n    // store reference to server id on output_area\n    output_area._bokeh_server_id = output.metadata[EXEC_MIME_TYPE][\"server_id\"];\n  }\n}\n\n/**\n * Handle when an output is cleared or removed\n */\nfunction handle_clear_output(event, handle) {\n  var id = handle.cell.output_area._hv_plot_id;\n  var server_id = handle.cell.output_area._bokeh_server_id;\n  if (((id === undefined) || !(id in PyViz.plot_index)) && (server_id !== undefined)) { return; }\n  var comm = window.PyViz.comm_manager.get_client_comm(\"hv-extension-comm\", \"hv-extension-comm\", function () {});\n  if (server_id !== null) {\n    comm.send({event_type: 'server_delete', 'id': server_id});\n    return;\n  } else if (comm !== null) {\n    comm.send({event_type: 'delete', 'id': id});\n  }\n  delete PyViz.plot_index[id];\n  if ((window.Bokeh !== undefined) & (id in window.Bokeh.index)) {\n    var doc = window.Bokeh.index[id].model.document\n    doc.clear();\n    const i = window.Bokeh.documents.indexOf(doc);\n    if (i > -1) {\n      window.Bokeh.documents.splice(i, 1);\n    }\n  }\n}\n\n/**\n * Handle kernel restart event\n */\nfunction handle_kernel_cleanup(event, handle) {\n  delete PyViz.comms[\"hv-extension-comm\"];\n  window.PyViz.plot_index = {}\n}\n\n/**\n * Handle update_display_data messages\n */\nfunction handle_update_output(event, handle) {\n  handle_clear_output(event, {cell: {output_area: handle.output_area}})\n  handle_add_output(event, handle)\n}\n\nfunction register_renderer(events, OutputArea) {\n  function append_mime(data, metadata, element) {\n    // create a DOM node to render to\n    var toinsert = this.create_output_subarea(\n    metadata,\n    CLASS_NAME,\n    EXEC_MIME_TYPE\n    );\n    this.keyboard_manager.register_events(toinsert);\n    // Render to node\n    var props = {data: data, metadata: metadata[EXEC_MIME_TYPE]};\n    render(props, toinsert[0]);\n    element.append(toinsert);\n    return toinsert\n  }\n\n  events.on('output_added.OutputArea', handle_add_output);\n  events.on('output_updated.OutputArea', handle_update_output);\n  events.on('clear_output.CodeCell', handle_clear_output);\n  events.on('delete.Cell', handle_clear_output);\n  events.on('kernel_ready.Kernel', handle_kernel_cleanup);\n\n  OutputArea.prototype.register_mime_type(EXEC_MIME_TYPE, append_mime, {\n    safe: true,\n    index: 0\n  });\n}\n\nif (window.Jupyter !== undefined) {\n  try {\n    var events = require('base/js/events');\n    var OutputArea = require('notebook/js/outputarea').OutputArea;\n    if (OutputArea.prototype.mime_types().indexOf(EXEC_MIME_TYPE) == -1) {\n      register_renderer(events, OutputArea);\n    }\n  } catch(err) {\n  }\n}\n",
      "application/vnd.holoviews_load.v0+json": ""
     },
     "metadata": {},
     "output_type": "display_data"
    },
    {
     "data": {
      "text/html": [
       "<style>*[data-root-id],\n",
       "*[data-root-id] > * {\n",
       "  box-sizing: border-box;\n",
       "  font-family: var(--jp-ui-font-family);\n",
       "  font-size: var(--jp-ui-font-size1);\n",
       "  color: var(--vscode-editor-foreground, var(--jp-ui-font-color1));\n",
       "}\n",
       "\n",
       "/* Override VSCode background color */\n",
       ".cell-output-ipywidget-background:has(> .cell-output-ipywidget-background\n",
       "    > .lm-Widget\n",
       "    > *[data-root-id]),\n",
       ".cell-output-ipywidget-background:has(> .lm-Widget > *[data-root-id]) {\n",
       "  background-color: transparent !important;\n",
       "}\n",
       "</style>"
      ]
     },
     "metadata": {},
     "output_type": "display_data"
    }
   ],
   "source": [
    "import pandas as pd\n",
    "from pathlib import Path\n",
    "import matplotlib.pyplot as plt\n",
    "from shapely.geometry import Point\n",
    "import geopandas as gpd\n",
    "from geopandas import GeoDataFrame\n",
    "import hvplot.pandas\n",
    "import requests"
   ]
  },
  {
   "cell_type": "code",
   "execution_count": 2,
   "metadata": {},
   "outputs": [],
   "source": [
    "import warnings\n",
    "warnings.filterwarnings(\"ignore\")"
   ]
  },
  {
   "cell_type": "code",
   "execution_count": 3,
   "metadata": {},
   "outputs": [],
   "source": [
    "file = Path(\"../Resources/TurkeyEarthquakes_2008_2023.csv\")"
   ]
  },
  {
   "cell_type": "code",
   "execution_count": 4,
   "metadata": {},
   "outputs": [
    {
     "name": "stdout",
     "output_type": "stream",
     "text": [
      "<class 'pandas.core.frame.DataFrame'>\n",
      "RangeIndex: 7770 entries, 0 to 7769\n",
      "Data columns (total 22 columns):\n",
      " #   Column           Non-Null Count  Dtype  \n",
      "---  ------           --------------  -----  \n",
      " 0   time             7770 non-null   object \n",
      " 1   latitude         7770 non-null   float64\n",
      " 2   longitude        7770 non-null   float64\n",
      " 3   depth            7770 non-null   float64\n",
      " 4   mag              7770 non-null   float64\n",
      " 5   magType          7770 non-null   object \n",
      " 6   nst              3718 non-null   float64\n",
      " 7   gap              7139 non-null   float64\n",
      " 8   dmin             4421 non-null   float64\n",
      " 9   rms              5688 non-null   float64\n",
      " 10  net              7770 non-null   object \n",
      " 11  id               7770 non-null   object \n",
      " 12  updated          7770 non-null   object \n",
      " 13  place            7724 non-null   object \n",
      " 14  type             7770 non-null   object \n",
      " 15  horizontalError  4567 non-null   float64\n",
      " 16  depthError       5406 non-null   float64\n",
      " 17  magError         4954 non-null   float64\n",
      " 18  magNst           6091 non-null   float64\n",
      " 19  status           7770 non-null   object \n",
      " 20  locationSource   7770 non-null   object \n",
      " 21  magSource        7770 non-null   object \n",
      "dtypes: float64(12), object(10)\n",
      "memory usage: 1.3+ MB\n"
     ]
    }
   ],
   "source": [
    "original_df = pd.read_csv(file)\n",
    "original_df.info()"
   ]
  },
  {
   "cell_type": "code",
   "execution_count": 5,
   "metadata": {},
   "outputs": [
    {
     "data": {
      "text/plain": [
       "Index(['time', 'latitude', 'longitude', 'depth', 'mag', 'magType', 'nst',\n",
       "       'gap', 'dmin', 'rms', 'net', 'id', 'updated', 'place', 'type',\n",
       "       'horizontalError', 'depthError', 'magError', 'magNst', 'status',\n",
       "       'locationSource', 'magSource'],\n",
       "      dtype='object')"
      ]
     },
     "execution_count": 5,
     "metadata": {},
     "output_type": "execute_result"
    }
   ],
   "source": [
    "original_df.columns"
   ]
  },
  {
   "cell_type": "code",
   "execution_count": 6,
   "metadata": {},
   "outputs": [
    {
     "name": "stdout",
     "output_type": "stream",
     "text": [
      "<class 'pandas.core.frame.DataFrame'>\n",
      "RangeIndex: 7770 entries, 0 to 7769\n",
      "Data columns (total 13 columns):\n",
      " #   Column          Non-Null Count  Dtype  \n",
      "---  ------          --------------  -----  \n",
      " 0   time            7770 non-null   object \n",
      " 1   latitude        7770 non-null   float64\n",
      " 2   longitude       7770 non-null   float64\n",
      " 3   depth           7770 non-null   float64\n",
      " 4   mag             7770 non-null   float64\n",
      " 5   magType         7770 non-null   object \n",
      " 6   net             7770 non-null   object \n",
      " 7   id              7770 non-null   object \n",
      " 8   updated         7770 non-null   object \n",
      " 9   type            7770 non-null   object \n",
      " 10  status          7770 non-null   object \n",
      " 11  locationSource  7770 non-null   object \n",
      " 12  magSource       7770 non-null   object \n",
      "dtypes: float64(4), object(9)\n",
      "memory usage: 789.3+ KB\n"
     ]
    }
   ],
   "source": [
    "df = original_df[['time', 'latitude', 'longitude', 'depth', \n",
    "                  'mag', 'magType', 'net', 'id', 'updated',\n",
    "                  'type', 'status','locationSource', 'magSource']].copy()\n",
    "df.info()"
   ]
  },
  {
   "cell_type": "code",
   "execution_count": 7,
   "metadata": {},
   "outputs": [
    {
     "data": {
      "text/html": [
       "<div>\n",
       "<style scoped>\n",
       "    .dataframe tbody tr th:only-of-type {\n",
       "        vertical-align: middle;\n",
       "    }\n",
       "\n",
       "    .dataframe tbody tr th {\n",
       "        vertical-align: top;\n",
       "    }\n",
       "\n",
       "    .dataframe thead th {\n",
       "        text-align: right;\n",
       "    }\n",
       "</style>\n",
       "<table border=\"1\" class=\"dataframe\">\n",
       "  <thead>\n",
       "    <tr style=\"text-align: right;\">\n",
       "      <th></th>\n",
       "      <th>time</th>\n",
       "      <th>latitude</th>\n",
       "      <th>longitude</th>\n",
       "      <th>depth</th>\n",
       "      <th>mag</th>\n",
       "      <th>magType</th>\n",
       "      <th>net</th>\n",
       "      <th>id</th>\n",
       "      <th>updated</th>\n",
       "      <th>type</th>\n",
       "      <th>status</th>\n",
       "      <th>locationSource</th>\n",
       "      <th>magSource</th>\n",
       "    </tr>\n",
       "  </thead>\n",
       "  <tbody>\n",
       "    <tr>\n",
       "      <th>0</th>\n",
       "      <td>2023-07-19T14:14:47.038Z</td>\n",
       "      <td>36.4116</td>\n",
       "      <td>53.9089</td>\n",
       "      <td>10.000</td>\n",
       "      <td>4.3</td>\n",
       "      <td>mb</td>\n",
       "      <td>us</td>\n",
       "      <td>us7000kgw7</td>\n",
       "      <td>2023-07-19T20:19:41.040Z</td>\n",
       "      <td>earthquake</td>\n",
       "      <td>reviewed</td>\n",
       "      <td>us</td>\n",
       "      <td>us</td>\n",
       "    </tr>\n",
       "    <tr>\n",
       "      <th>1</th>\n",
       "      <td>2023-07-18T20:30:55.209Z</td>\n",
       "      <td>45.0385</td>\n",
       "      <td>23.0251</td>\n",
       "      <td>12.806</td>\n",
       "      <td>4.0</td>\n",
       "      <td>mb</td>\n",
       "      <td>us</td>\n",
       "      <td>us7000kgn3</td>\n",
       "      <td>2023-07-19T04:47:16.666Z</td>\n",
       "      <td>earthquake</td>\n",
       "      <td>reviewed</td>\n",
       "      <td>us</td>\n",
       "      <td>us</td>\n",
       "    </tr>\n",
       "    <tr>\n",
       "      <th>2</th>\n",
       "      <td>2023-07-17T12:04:26.739Z</td>\n",
       "      <td>36.5808</td>\n",
       "      <td>23.0401</td>\n",
       "      <td>70.563</td>\n",
       "      <td>4.2</td>\n",
       "      <td>mb</td>\n",
       "      <td>us</td>\n",
       "      <td>us7000kgby</td>\n",
       "      <td>2023-07-17T12:24:40.040Z</td>\n",
       "      <td>earthquake</td>\n",
       "      <td>reviewed</td>\n",
       "      <td>us</td>\n",
       "      <td>us</td>\n",
       "    </tr>\n",
       "    <tr>\n",
       "      <th>3</th>\n",
       "      <td>2023-07-11T09:52:19.105Z</td>\n",
       "      <td>39.3973</td>\n",
       "      <td>26.2615</td>\n",
       "      <td>10.000</td>\n",
       "      <td>3.4</td>\n",
       "      <td>ml</td>\n",
       "      <td>us</td>\n",
       "      <td>us7000ketw</td>\n",
       "      <td>2023-07-11T13:19:44.229Z</td>\n",
       "      <td>earthquake</td>\n",
       "      <td>reviewed</td>\n",
       "      <td>us</td>\n",
       "      <td>us</td>\n",
       "    </tr>\n",
       "    <tr>\n",
       "      <th>4</th>\n",
       "      <td>2023-07-09T02:27:36.163Z</td>\n",
       "      <td>38.0000</td>\n",
       "      <td>36.3643</td>\n",
       "      <td>5.736</td>\n",
       "      <td>3.5</td>\n",
       "      <td>ml</td>\n",
       "      <td>us</td>\n",
       "      <td>us6000kr1s</td>\n",
       "      <td>2023-07-10T02:41:16.388Z</td>\n",
       "      <td>earthquake</td>\n",
       "      <td>reviewed</td>\n",
       "      <td>us</td>\n",
       "      <td>us</td>\n",
       "    </tr>\n",
       "  </tbody>\n",
       "</table>\n",
       "</div>"
      ],
      "text/plain": [
       "                       time  latitude  longitude   depth  mag magType net  \\\n",
       "0  2023-07-19T14:14:47.038Z   36.4116    53.9089  10.000  4.3      mb  us   \n",
       "1  2023-07-18T20:30:55.209Z   45.0385    23.0251  12.806  4.0      mb  us   \n",
       "2  2023-07-17T12:04:26.739Z   36.5808    23.0401  70.563  4.2      mb  us   \n",
       "3  2023-07-11T09:52:19.105Z   39.3973    26.2615  10.000  3.4      ml  us   \n",
       "4  2023-07-09T02:27:36.163Z   38.0000    36.3643   5.736  3.5      ml  us   \n",
       "\n",
       "           id                   updated        type    status locationSource  \\\n",
       "0  us7000kgw7  2023-07-19T20:19:41.040Z  earthquake  reviewed             us   \n",
       "1  us7000kgn3  2023-07-19T04:47:16.666Z  earthquake  reviewed             us   \n",
       "2  us7000kgby  2023-07-17T12:24:40.040Z  earthquake  reviewed             us   \n",
       "3  us7000ketw  2023-07-11T13:19:44.229Z  earthquake  reviewed             us   \n",
       "4  us6000kr1s  2023-07-10T02:41:16.388Z  earthquake  reviewed             us   \n",
       "\n",
       "  magSource  \n",
       "0        us  \n",
       "1        us  \n",
       "2        us  \n",
       "3        us  \n",
       "4        us  "
      ]
     },
     "execution_count": 7,
     "metadata": {},
     "output_type": "execute_result"
    }
   ],
   "source": [
    "df.head()"
   ]
  },
  {
   "cell_type": "code",
   "execution_count": 8,
   "metadata": {},
   "outputs": [],
   "source": [
    "df['year'] = pd.DatetimeIndex(df['time']).year\n",
    "df['month'] = pd.DatetimeIndex(df['time']).month"
   ]
  },
  {
   "cell_type": "code",
   "execution_count": 9,
   "metadata": {},
   "outputs": [
    {
     "data": {
      "text/html": [
       "<div>\n",
       "<style scoped>\n",
       "    .dataframe tbody tr th:only-of-type {\n",
       "        vertical-align: middle;\n",
       "    }\n",
       "\n",
       "    .dataframe tbody tr th {\n",
       "        vertical-align: top;\n",
       "    }\n",
       "\n",
       "    .dataframe thead th {\n",
       "        text-align: right;\n",
       "    }\n",
       "</style>\n",
       "<table border=\"1\" class=\"dataframe\">\n",
       "  <thead>\n",
       "    <tr style=\"text-align: right;\">\n",
       "      <th></th>\n",
       "      <th>time</th>\n",
       "      <th>latitude</th>\n",
       "      <th>longitude</th>\n",
       "      <th>depth</th>\n",
       "      <th>mag</th>\n",
       "      <th>magType</th>\n",
       "      <th>net</th>\n",
       "      <th>id</th>\n",
       "      <th>updated</th>\n",
       "      <th>type</th>\n",
       "      <th>status</th>\n",
       "      <th>locationSource</th>\n",
       "      <th>magSource</th>\n",
       "      <th>year</th>\n",
       "      <th>month</th>\n",
       "    </tr>\n",
       "  </thead>\n",
       "  <tbody>\n",
       "    <tr>\n",
       "      <th>0</th>\n",
       "      <td>2023-07-19T14:14:47.038Z</td>\n",
       "      <td>36.4116</td>\n",
       "      <td>53.9089</td>\n",
       "      <td>10.000</td>\n",
       "      <td>4.3</td>\n",
       "      <td>mb</td>\n",
       "      <td>us</td>\n",
       "      <td>us7000kgw7</td>\n",
       "      <td>2023-07-19T20:19:41.040Z</td>\n",
       "      <td>earthquake</td>\n",
       "      <td>reviewed</td>\n",
       "      <td>us</td>\n",
       "      <td>us</td>\n",
       "      <td>2023</td>\n",
       "      <td>7</td>\n",
       "    </tr>\n",
       "    <tr>\n",
       "      <th>1</th>\n",
       "      <td>2023-07-18T20:30:55.209Z</td>\n",
       "      <td>45.0385</td>\n",
       "      <td>23.0251</td>\n",
       "      <td>12.806</td>\n",
       "      <td>4.0</td>\n",
       "      <td>mb</td>\n",
       "      <td>us</td>\n",
       "      <td>us7000kgn3</td>\n",
       "      <td>2023-07-19T04:47:16.666Z</td>\n",
       "      <td>earthquake</td>\n",
       "      <td>reviewed</td>\n",
       "      <td>us</td>\n",
       "      <td>us</td>\n",
       "      <td>2023</td>\n",
       "      <td>7</td>\n",
       "    </tr>\n",
       "    <tr>\n",
       "      <th>2</th>\n",
       "      <td>2023-07-17T12:04:26.739Z</td>\n",
       "      <td>36.5808</td>\n",
       "      <td>23.0401</td>\n",
       "      <td>70.563</td>\n",
       "      <td>4.2</td>\n",
       "      <td>mb</td>\n",
       "      <td>us</td>\n",
       "      <td>us7000kgby</td>\n",
       "      <td>2023-07-17T12:24:40.040Z</td>\n",
       "      <td>earthquake</td>\n",
       "      <td>reviewed</td>\n",
       "      <td>us</td>\n",
       "      <td>us</td>\n",
       "      <td>2023</td>\n",
       "      <td>7</td>\n",
       "    </tr>\n",
       "    <tr>\n",
       "      <th>3</th>\n",
       "      <td>2023-07-11T09:52:19.105Z</td>\n",
       "      <td>39.3973</td>\n",
       "      <td>26.2615</td>\n",
       "      <td>10.000</td>\n",
       "      <td>3.4</td>\n",
       "      <td>ml</td>\n",
       "      <td>us</td>\n",
       "      <td>us7000ketw</td>\n",
       "      <td>2023-07-11T13:19:44.229Z</td>\n",
       "      <td>earthquake</td>\n",
       "      <td>reviewed</td>\n",
       "      <td>us</td>\n",
       "      <td>us</td>\n",
       "      <td>2023</td>\n",
       "      <td>7</td>\n",
       "    </tr>\n",
       "    <tr>\n",
       "      <th>4</th>\n",
       "      <td>2023-07-09T02:27:36.163Z</td>\n",
       "      <td>38.0000</td>\n",
       "      <td>36.3643</td>\n",
       "      <td>5.736</td>\n",
       "      <td>3.5</td>\n",
       "      <td>ml</td>\n",
       "      <td>us</td>\n",
       "      <td>us6000kr1s</td>\n",
       "      <td>2023-07-10T02:41:16.388Z</td>\n",
       "      <td>earthquake</td>\n",
       "      <td>reviewed</td>\n",
       "      <td>us</td>\n",
       "      <td>us</td>\n",
       "      <td>2023</td>\n",
       "      <td>7</td>\n",
       "    </tr>\n",
       "  </tbody>\n",
       "</table>\n",
       "</div>"
      ],
      "text/plain": [
       "                       time  latitude  longitude   depth  mag magType net  \\\n",
       "0  2023-07-19T14:14:47.038Z   36.4116    53.9089  10.000  4.3      mb  us   \n",
       "1  2023-07-18T20:30:55.209Z   45.0385    23.0251  12.806  4.0      mb  us   \n",
       "2  2023-07-17T12:04:26.739Z   36.5808    23.0401  70.563  4.2      mb  us   \n",
       "3  2023-07-11T09:52:19.105Z   39.3973    26.2615  10.000  3.4      ml  us   \n",
       "4  2023-07-09T02:27:36.163Z   38.0000    36.3643   5.736  3.5      ml  us   \n",
       "\n",
       "           id                   updated        type    status locationSource  \\\n",
       "0  us7000kgw7  2023-07-19T20:19:41.040Z  earthquake  reviewed             us   \n",
       "1  us7000kgn3  2023-07-19T04:47:16.666Z  earthquake  reviewed             us   \n",
       "2  us7000kgby  2023-07-17T12:24:40.040Z  earthquake  reviewed             us   \n",
       "3  us7000ketw  2023-07-11T13:19:44.229Z  earthquake  reviewed             us   \n",
       "4  us6000kr1s  2023-07-10T02:41:16.388Z  earthquake  reviewed             us   \n",
       "\n",
       "  magSource  year  month  \n",
       "0        us  2023      7  \n",
       "1        us  2023      7  \n",
       "2        us  2023      7  \n",
       "3        us  2023      7  \n",
       "4        us  2023      7  "
      ]
     },
     "execution_count": 9,
     "metadata": {},
     "output_type": "execute_result"
    }
   ],
   "source": [
    "df.head()"
   ]
  },
  {
   "cell_type": "code",
   "execution_count": 10,
   "metadata": {},
   "outputs": [
    {
     "data": {
      "text/plain": [
       "array(['earthquake', 'explosion'], dtype=object)"
      ]
     },
     "execution_count": 10,
     "metadata": {},
     "output_type": "execute_result"
    }
   ],
   "source": [
    "df['type'].unique()"
   ]
  },
  {
   "cell_type": "markdown",
   "metadata": {},
   "source": [
    "## EDA Questions "
   ]
  },
  {
   "cell_type": "markdown",
   "metadata": {},
   "source": [
    "### 1. What was the date and time of the most disastrous earthquake recorded in Turkey according to the dataset?\n"
   ]
  },
  {
   "cell_type": "code",
   "execution_count": 11,
   "metadata": {},
   "outputs": [
    {
     "data": {
      "text/html": [
       "<div>\n",
       "<style scoped>\n",
       "    .dataframe tbody tr th:only-of-type {\n",
       "        vertical-align: middle;\n",
       "    }\n",
       "\n",
       "    .dataframe tbody tr th {\n",
       "        vertical-align: top;\n",
       "    }\n",
       "\n",
       "    .dataframe thead th {\n",
       "        text-align: right;\n",
       "    }\n",
       "</style>\n",
       "<table border=\"1\" class=\"dataframe\">\n",
       "  <thead>\n",
       "    <tr style=\"text-align: right;\">\n",
       "      <th></th>\n",
       "      <th>time</th>\n",
       "      <th>latitude</th>\n",
       "      <th>longitude</th>\n",
       "      <th>depth</th>\n",
       "      <th>mag</th>\n",
       "      <th>magType</th>\n",
       "      <th>net</th>\n",
       "      <th>id</th>\n",
       "      <th>updated</th>\n",
       "      <th>type</th>\n",
       "      <th>status</th>\n",
       "      <th>locationSource</th>\n",
       "      <th>magSource</th>\n",
       "      <th>year</th>\n",
       "      <th>month</th>\n",
       "    </tr>\n",
       "  </thead>\n",
       "  <tbody>\n",
       "    <tr>\n",
       "      <th>709</th>\n",
       "      <td>2023-02-06T01:17:34.342Z</td>\n",
       "      <td>37.2256</td>\n",
       "      <td>37.0143</td>\n",
       "      <td>10.000</td>\n",
       "      <td>7.8</td>\n",
       "      <td>mww</td>\n",
       "      <td>us</td>\n",
       "      <td>us6000jllz</td>\n",
       "      <td>2023-07-19T08:32:38.718Z</td>\n",
       "      <td>earthquake</td>\n",
       "      <td>reviewed</td>\n",
       "      <td>us</td>\n",
       "      <td>us</td>\n",
       "      <td>2023</td>\n",
       "      <td>2</td>\n",
       "    </tr>\n",
       "    <tr>\n",
       "      <th>605</th>\n",
       "      <td>2023-02-06T10:24:48.811Z</td>\n",
       "      <td>38.0106</td>\n",
       "      <td>37.1962</td>\n",
       "      <td>7.432</td>\n",
       "      <td>7.5</td>\n",
       "      <td>mww</td>\n",
       "      <td>us</td>\n",
       "      <td>us6000jlqa</td>\n",
       "      <td>2023-06-17T18:00:10.939Z</td>\n",
       "      <td>earthquake</td>\n",
       "      <td>reviewed</td>\n",
       "      <td>us</td>\n",
       "      <td>us</td>\n",
       "      <td>2023</td>\n",
       "      <td>2</td>\n",
       "    </tr>\n",
       "    <tr>\n",
       "      <th>3382</th>\n",
       "      <td>2017-11-12T18:18:17.180Z</td>\n",
       "      <td>34.9109</td>\n",
       "      <td>45.9592</td>\n",
       "      <td>19.000</td>\n",
       "      <td>7.3</td>\n",
       "      <td>mww</td>\n",
       "      <td>us</td>\n",
       "      <td>us2000bmcg</td>\n",
       "      <td>2022-05-03T20:02:36.492Z</td>\n",
       "      <td>earthquake</td>\n",
       "      <td>reviewed</td>\n",
       "      <td>us</td>\n",
       "      <td>us</td>\n",
       "      <td>2017</td>\n",
       "      <td>11</td>\n",
       "    </tr>\n",
       "    <tr>\n",
       "      <th>5871</th>\n",
       "      <td>2011-10-23T10:41:23.250Z</td>\n",
       "      <td>38.7210</td>\n",
       "      <td>43.5080</td>\n",
       "      <td>18.000</td>\n",
       "      <td>7.1</td>\n",
       "      <td>mww</td>\n",
       "      <td>us</td>\n",
       "      <td>usp000j9rr</td>\n",
       "      <td>2022-04-08T22:08:47.620Z</td>\n",
       "      <td>earthquake</td>\n",
       "      <td>reviewed</td>\n",
       "      <td>us</td>\n",
       "      <td>us</td>\n",
       "      <td>2011</td>\n",
       "      <td>10</td>\n",
       "    </tr>\n",
       "    <tr>\n",
       "      <th>1734</th>\n",
       "      <td>2020-10-30T11:51:27.348Z</td>\n",
       "      <td>37.8973</td>\n",
       "      <td>26.7838</td>\n",
       "      <td>21.000</td>\n",
       "      <td>7.0</td>\n",
       "      <td>mww</td>\n",
       "      <td>us</td>\n",
       "      <td>us7000c7y0</td>\n",
       "      <td>2023-03-28T14:51:23.263Z</td>\n",
       "      <td>earthquake</td>\n",
       "      <td>reviewed</td>\n",
       "      <td>us</td>\n",
       "      <td>us</td>\n",
       "      <td>2020</td>\n",
       "      <td>10</td>\n",
       "    </tr>\n",
       "  </tbody>\n",
       "</table>\n",
       "</div>"
      ],
      "text/plain": [
       "                          time  latitude  longitude   depth  mag magType net  \\\n",
       "709   2023-02-06T01:17:34.342Z   37.2256    37.0143  10.000  7.8     mww  us   \n",
       "605   2023-02-06T10:24:48.811Z   38.0106    37.1962   7.432  7.5     mww  us   \n",
       "3382  2017-11-12T18:18:17.180Z   34.9109    45.9592  19.000  7.3     mww  us   \n",
       "5871  2011-10-23T10:41:23.250Z   38.7210    43.5080  18.000  7.1     mww  us   \n",
       "1734  2020-10-30T11:51:27.348Z   37.8973    26.7838  21.000  7.0     mww  us   \n",
       "\n",
       "              id                   updated        type    status  \\\n",
       "709   us6000jllz  2023-07-19T08:32:38.718Z  earthquake  reviewed   \n",
       "605   us6000jlqa  2023-06-17T18:00:10.939Z  earthquake  reviewed   \n",
       "3382  us2000bmcg  2022-05-03T20:02:36.492Z  earthquake  reviewed   \n",
       "5871  usp000j9rr  2022-04-08T22:08:47.620Z  earthquake  reviewed   \n",
       "1734  us7000c7y0  2023-03-28T14:51:23.263Z  earthquake  reviewed   \n",
       "\n",
       "     locationSource magSource  year  month  \n",
       "709              us        us  2023      2  \n",
       "605              us        us  2023      2  \n",
       "3382             us        us  2017     11  \n",
       "5871             us        us  2011     10  \n",
       "1734             us        us  2020     10  "
      ]
     },
     "execution_count": 11,
     "metadata": {},
     "output_type": "execute_result"
    }
   ],
   "source": [
    "df_increase = df.copy()\n",
    "df_increase.sort_values(by='mag', ascending=False, inplace=True)\n",
    "df_disastrous = df_increase.head(5)\n",
    "df_disastrous "
   ]
  },
  {
   "cell_type": "code",
   "execution_count": 12,
   "metadata": {},
   "outputs": [
    {
     "data": {
      "image/png": "[encoded data removed]",
      "text/plain": [
       "<Figure size 600x300 with 1 Axes>"
      ]
     },
     "metadata": {},
     "output_type": "display_data"
    }
   ],
   "source": [
    "x= pd.to_datetime(df_disastrous['time'], format='%Y-%m-%dT%H:%M:%S.%fZ').dt.strftime('%Y-%m-%d %H:%M:%S')\n",
    "y= df_disastrous['mag']\n",
    "plt.figure(figsize=(6, 3))\n",
    "plt.bar(x, y, color='crimson')\n",
    "plt.xticks(rotation = 65)\n",
    "plt.title('The five largest earthquakes \\non the richter scale in the last 15 years')\n",
    "#\n",
    "plt.ylim(6.9, 7.9)\n",
    "plt.show()"
   ]
  },
  {
   "cell_type": "markdown",
   "metadata": {},
   "source": [
    "### 2. During what period of time did the seismic activity increase in turkey?"
   ]
  },
  {
   "cell_type": "code",
   "execution_count": 13,
   "metadata": {},
   "outputs": [],
   "source": [
    "df_time_range = df.copy()\n",
    "df_time_range = df_time_range.query(\"'2022-02-23' < time <= '2023-06-24'\")\n",
    "df_increase = df_time_range.copy()\n",
    "df_time_range = df_time_range.query(\"mag >= 5\")\n",
    "df_time_range.sort_values(by=['time'], ascending=True, inplace=True)"
   ]
  },
  {
   "cell_type": "code",
   "execution_count": 14,
   "metadata": {},
   "outputs": [
    {
     "data": {
      "text/html": [
       "<div>\n",
       "<style scoped>\n",
       "    .dataframe tbody tr th:only-of-type {\n",
       "        vertical-align: middle;\n",
       "    }\n",
       "\n",
       "    .dataframe tbody tr th {\n",
       "        vertical-align: top;\n",
       "    }\n",
       "\n",
       "    .dataframe thead th {\n",
       "        text-align: right;\n",
       "    }\n",
       "</style>\n",
       "<table border=\"1\" class=\"dataframe\">\n",
       "  <thead>\n",
       "    <tr style=\"text-align: right;\">\n",
       "      <th></th>\n",
       "      <th>time</th>\n",
       "      <th>latitude</th>\n",
       "      <th>longitude</th>\n",
       "      <th>depth</th>\n",
       "      <th>mag</th>\n",
       "      <th>magType</th>\n",
       "      <th>net</th>\n",
       "      <th>id</th>\n",
       "      <th>updated</th>\n",
       "      <th>type</th>\n",
       "      <th>status</th>\n",
       "      <th>locationSource</th>\n",
       "      <th>magSource</th>\n",
       "      <th>year</th>\n",
       "      <th>month</th>\n",
       "      <th>color</th>\n",
       "    </tr>\n",
       "  </thead>\n",
       "  <tbody>\n",
       "    <tr>\n",
       "      <th>1015</th>\n",
       "      <td>2022-04-09T14:02:15.496Z</td>\n",
       "      <td>38.1155</td>\n",
       "      <td>38.6617</td>\n",
       "      <td>10.000</td>\n",
       "      <td>5.3</td>\n",
       "      <td>mww</td>\n",
       "      <td>us</td>\n",
       "      <td>us7000h0wh</td>\n",
       "      <td>2022-06-20T22:07:34.040Z</td>\n",
       "      <td>earthquake</td>\n",
       "      <td>reviewed</td>\n",
       "      <td>us</td>\n",
       "      <td>us</td>\n",
       "      <td>2022</td>\n",
       "      <td>4</td>\n",
       "      <td>gold</td>\n",
       "    </tr>\n",
       "    <tr>\n",
       "      <th>943</th>\n",
       "      <td>2022-06-10T01:40:21.404Z</td>\n",
       "      <td>34.8354</td>\n",
       "      <td>33.8695</td>\n",
       "      <td>47.150</td>\n",
       "      <td>5.0</td>\n",
       "      <td>mww</td>\n",
       "      <td>us</td>\n",
       "      <td>us7000hgcl</td>\n",
       "      <td>2022-08-13T21:52:43.040Z</td>\n",
       "      <td>earthquake</td>\n",
       "      <td>reviewed</td>\n",
       "      <td>us</td>\n",
       "      <td>us</td>\n",
       "      <td>2022</td>\n",
       "      <td>6</td>\n",
       "      <td>palegreen</td>\n",
       "    </tr>\n",
       "    <tr>\n",
       "      <th>939</th>\n",
       "      <td>2022-06-12T18:35:20.871Z</td>\n",
       "      <td>38.7366</td>\n",
       "      <td>43.5068</td>\n",
       "      <td>10.000</td>\n",
       "      <td>5.2</td>\n",
       "      <td>mww</td>\n",
       "      <td>us</td>\n",
       "      <td>us7000hgyu</td>\n",
       "      <td>2022-08-21T00:16:32.040Z</td>\n",
       "      <td>earthquake</td>\n",
       "      <td>reviewed</td>\n",
       "      <td>us</td>\n",
       "      <td>us</td>\n",
       "      <td>2022</td>\n",
       "      <td>6</td>\n",
       "      <td>gold</td>\n",
       "    </tr>\n",
       "    <tr>\n",
       "      <th>890</th>\n",
       "      <td>2022-08-14T03:24:22.958Z</td>\n",
       "      <td>37.9952</td>\n",
       "      <td>27.1512</td>\n",
       "      <td>11.697</td>\n",
       "      <td>5.0</td>\n",
       "      <td>mww</td>\n",
       "      <td>us</td>\n",
       "      <td>us6000ianw</td>\n",
       "      <td>2022-10-28T02:25:49.040Z</td>\n",
       "      <td>earthquake</td>\n",
       "      <td>reviewed</td>\n",
       "      <td>us</td>\n",
       "      <td>us</td>\n",
       "      <td>2022</td>\n",
       "      <td>8</td>\n",
       "      <td>palegreen</td>\n",
       "    </tr>\n",
       "    <tr>\n",
       "      <th>875</th>\n",
       "      <td>2022-08-31T10:10:11.426Z</td>\n",
       "      <td>37.5527</td>\n",
       "      <td>26.8515</td>\n",
       "      <td>10.926</td>\n",
       "      <td>5.4</td>\n",
       "      <td>mww</td>\n",
       "      <td>us</td>\n",
       "      <td>us7000i3yp</td>\n",
       "      <td>2022-11-06T04:36:59.040Z</td>\n",
       "      <td>earthquake</td>\n",
       "      <td>reviewed</td>\n",
       "      <td>us</td>\n",
       "      <td>us</td>\n",
       "      <td>2022</td>\n",
       "      <td>8</td>\n",
       "      <td>gold</td>\n",
       "    </tr>\n",
       "  </tbody>\n",
       "</table>\n",
       "</div>"
      ],
      "text/plain": [
       "                          time  latitude  longitude   depth  mag magType net  \\\n",
       "1015  2022-04-09T14:02:15.496Z   38.1155    38.6617  10.000  5.3     mww  us   \n",
       "943   2022-06-10T01:40:21.404Z   34.8354    33.8695  47.150  5.0     mww  us   \n",
       "939   2022-06-12T18:35:20.871Z   38.7366    43.5068  10.000  5.2     mww  us   \n",
       "890   2022-08-14T03:24:22.958Z   37.9952    27.1512  11.697  5.0     mww  us   \n",
       "875   2022-08-31T10:10:11.426Z   37.5527    26.8515  10.926  5.4     mww  us   \n",
       "\n",
       "              id                   updated        type    status  \\\n",
       "1015  us7000h0wh  2022-06-20T22:07:34.040Z  earthquake  reviewed   \n",
       "943   us7000hgcl  2022-08-13T21:52:43.040Z  earthquake  reviewed   \n",
       "939   us7000hgyu  2022-08-21T00:16:32.040Z  earthquake  reviewed   \n",
       "890   us6000ianw  2022-10-28T02:25:49.040Z  earthquake  reviewed   \n",
       "875   us7000i3yp  2022-11-06T04:36:59.040Z  earthquake  reviewed   \n",
       "\n",
       "     locationSource magSource  year  month      color  \n",
       "1015             us        us  2022      4       gold  \n",
       "943              us        us  2022      6  palegreen  \n",
       "939              us        us  2022      6       gold  \n",
       "890              us        us  2022      8  palegreen  \n",
       "875              us        us  2022      8       gold  "
      ]
     },
     "execution_count": 14,
     "metadata": {},
     "output_type": "execute_result"
    }
   ],
   "source": [
    "bins = [0, 5.0, 6.0, 7.0, 10.0]\n",
    "labels = ['palegreen', 'gold', 'darkorange', 'crimson']\n",
    "df_time_range['color'] = pd.cut(df['mag'], bins=bins, labels=labels)\n",
    "df_time_range.head()"
   ]
  },
  {
   "cell_type": "code",
   "execution_count": 15,
   "metadata": {},
   "outputs": [
    {
     "data": {
      "image/png": "[encoded data removed]",
      "text/plain": [
       "<Figure size 2100x600 with 1 Axes>"
      ]
     },
     "metadata": {},
     "output_type": "display_data"
    }
   ],
   "source": [
    "x= pd.to_datetime(df_time_range['time'], format='%Y-%m-%dT%H:%M:%S.%fZ').dt.strftime('%Y-%m-%d %H:%M:%S')\n",
    "y= df_time_range['mag']\n",
    "plt.figure(figsize=(21, 6))\n",
    "plt.xticks(rotation = 90)\n",
    "#plt.xticks([])\n",
    "plt.axvline(x=20.5)\n",
    "plt.axvline(x=60.5)\n",
    "plt.title('Chart 4')\n",
    "plt.text(1, 7.5, 'february 2022 to january 2023')\n",
    "plt.text(38, 7.5, 'february 2023')\n",
    "plt.text(63, 7.5, 'march to june 2023')\n",
    "plt.tick_params(axis='x', pad=0)\n",
    "plt.ylim(4.8, 8)\n",
    "plt.bar(x, y, color=df_time_range['color'])\n",
    "plt.show()"
   ]
  },
  {
   "cell_type": "code",
   "execution_count": 16,
   "metadata": {},
   "outputs": [],
   "source": [
    "df_disastrous_copy = df.copy()\n",
    "df_disastrous_copy = df_disastrous_copy.query(\"mag >= 5\")\n",
    "df_disastrous_copy['year'] = df_disastrous_copy['year'].astype(str)\n",
    "df_disastrous_copy['month'] = df_disastrous_copy['month'].astype(str)\n",
    "df_disastrous_copy['year_month'] = df_disastrous_copy['year'] +'-'+ df_disastrous_copy['month']\n",
    "df_disastrous_copy = df_disastrous_copy.query(\"'2021-06-24' < time <= '2023-06-24'\")\n"
   ]
  },
  {
   "cell_type": "code",
   "execution_count": 17,
   "metadata": {},
   "outputs": [],
   "source": [
    "grouped = df_disastrous_copy.groupby(['year_month']).size().reset_index(name='count')\n",
    "grouped['sort']=[5,6,7,1,2,3,4,8,13,14,15,9,10,11,12,16,17,18,19,20,21]\n",
    "grouped.sort_values(by='sort', ascending=True, inplace=True)"
   ]
  },
  {
   "cell_type": "code",
   "execution_count": 18,
   "metadata": {},
   "outputs": [],
   "source": [
    "bins = [0, 2, 10, 100]\n",
    "labels = ['gold', 'darkorange', 'crimson']\n",
    "grouped['color'] = pd.cut(grouped['count'], bins=bins, labels=labels)"
   ]
  },
  {
   "cell_type": "code",
   "execution_count": 19,
   "metadata": {},
   "outputs": [
    {
     "data": {
      "image/png": "[encoded data removed]",
      "text/plain": [
       "<Figure size 800x400 with 1 Axes>"
      ]
     },
     "metadata": {},
     "output_type": "display_data"
    }
   ],
   "source": [
    "x= grouped['year_month']\n",
    "y= grouped['count']\n",
    "plt.figure(figsize=(8, 4))\n",
    "#plt.title('EarthQuake amount per month from june 2021 to june 2023 \\n greater than 5 on richter scale')\n",
    "plt.title('Chart 3')\n",
    "plt.xticks(rotation = 90)\n",
    "plt.bar(x, y, color=grouped['color'])\n",
    "plt.show()"
   ]
  },
  {
   "cell_type": "code",
   "execution_count": 20,
   "metadata": {},
   "outputs": [],
   "source": [
    "grouped2 = df_disastrous_copy.groupby(['year_month'])['mag'].max().reset_index() \n",
    "\n",
    "bins = [0, 5.0, 6.0, 7.0, 10.0]\n",
    "labels = ['palegreen', 'gold', 'darkorange', 'crimson']\n",
    "grouped2['color'] = pd.cut(grouped2['mag'], bins=bins, labels=labels)\n",
    "\n",
    "grouped2['sort']=[5,6,7,1,2,3,4,8,14,15,16,9,10,11,12,13,17,18,19,20,21]\n",
    "grouped2.sort_values(by='sort', ascending=True, inplace=True)\n"
   ]
  },
  {
   "cell_type": "code",
   "execution_count": 21,
   "metadata": {},
   "outputs": [
    {
     "data": {
      "image/png": "[encoded data removed]",
      "text/plain": [
       "<Figure size 600x300 with 1 Axes>"
      ]
     },
     "metadata": {},
     "output_type": "display_data"
    }
   ],
   "source": [
    "x= grouped2['year_month']\n",
    "y= grouped2['mag']\n",
    "plt.figure(figsize=(6, 3))\n",
    "#plt.title('The greatest Earthquakes per month from june 2021 to june 2023 \\n greater than 5 on richter scale')\n",
    "plt.title('Chart 2')\n",
    "plt.xticks(rotation = 90)\n",
    "plt.ylim(4.5, 8)\n",
    "plt.bar(x, y, color=grouped2['color'])\n",
    "plt.show()"
   ]
  },
  {
   "cell_type": "markdown",
   "metadata": {},
   "source": [
    "### 3. What was the magnitude of the most devastating earthquake in Turkey's history according to the dataset?"
   ]
  },
  {
   "cell_type": "code",
   "execution_count": 22,
   "metadata": {},
   "outputs": [
    {
     "data": {
      "text/html": [
       "<div>\n",
       "<style scoped>\n",
       "    .dataframe tbody tr th:only-of-type {\n",
       "        vertical-align: middle;\n",
       "    }\n",
       "\n",
       "    .dataframe tbody tr th {\n",
       "        vertical-align: top;\n",
       "    }\n",
       "\n",
       "    .dataframe thead th {\n",
       "        text-align: right;\n",
       "    }\n",
       "</style>\n",
       "<table border=\"1\" class=\"dataframe\">\n",
       "  <thead>\n",
       "    <tr style=\"text-align: right;\">\n",
       "      <th></th>\n",
       "      <th>time</th>\n",
       "      <th>latitude</th>\n",
       "      <th>longitude</th>\n",
       "      <th>depth</th>\n",
       "      <th>mag</th>\n",
       "      <th>magType</th>\n",
       "      <th>net</th>\n",
       "      <th>id</th>\n",
       "      <th>updated</th>\n",
       "      <th>type</th>\n",
       "      <th>status</th>\n",
       "      <th>locationSource</th>\n",
       "      <th>magSource</th>\n",
       "      <th>year</th>\n",
       "      <th>month</th>\n",
       "    </tr>\n",
       "  </thead>\n",
       "  <tbody>\n",
       "    <tr>\n",
       "      <th>709</th>\n",
       "      <td>2023-02-06T01:17:34.342Z</td>\n",
       "      <td>37.2256</td>\n",
       "      <td>37.0143</td>\n",
       "      <td>10.0</td>\n",
       "      <td>7.8</td>\n",
       "      <td>mww</td>\n",
       "      <td>us</td>\n",
       "      <td>us6000jllz</td>\n",
       "      <td>2023-07-19T08:32:38.718Z</td>\n",
       "      <td>earthquake</td>\n",
       "      <td>reviewed</td>\n",
       "      <td>us</td>\n",
       "      <td>us</td>\n",
       "      <td>2023</td>\n",
       "      <td>2</td>\n",
       "    </tr>\n",
       "  </tbody>\n",
       "</table>\n",
       "</div>"
      ],
      "text/plain": [
       "                         time  latitude  longitude  depth  mag magType net  \\\n",
       "709  2023-02-06T01:17:34.342Z   37.2256    37.0143   10.0  7.8     mww  us   \n",
       "\n",
       "             id                   updated        type    status  \\\n",
       "709  us6000jllz  2023-07-19T08:32:38.718Z  earthquake  reviewed   \n",
       "\n",
       "    locationSource magSource  year  month  \n",
       "709             us        us  2023      2  "
      ]
     },
     "execution_count": 22,
     "metadata": {},
     "output_type": "execute_result"
    }
   ],
   "source": [
    "df_increase = df.copy()\n",
    "df_increase.sort_values(by='mag', ascending=False, inplace=True)\n",
    "df_disastrous3 = df_increase.head(1)\n",
    "df_disastrous3 "
   ]
  },
  {
   "cell_type": "code",
   "execution_count": 23,
   "metadata": {},
   "outputs": [
    {
     "name": "stdout",
     "output_type": "stream",
     "text": [
      "The strongest magnitude is 7.8 the date 2023-02-06T01:17:34.342Z at the depth of 10.0. \n",
      "Which is considered the most powerful earthquake?  \n",
      "That has occurred in the selected country in relation to the database\n"
     ]
    }
   ],
   "source": [
    "dato_mas_grande = 7.8\n",
    "column_to_check = 'mag'\n",
    "x= df[column_to_check].max()\n",
    "indice_dato_mas_grande = df[df[column_to_check] == dato_mas_grande].index[0]\n",
    "y = df.at[indice_dato_mas_grande, 'time']\n",
    "z=df.at[indice_dato_mas_grande, 'type']\n",
    "w=df.at[indice_dato_mas_grande, 'depth']\n",
    "print(f'The strongest magnitude is {x} the date {y} at the depth of {w}. \\nWhich is considered the most powerful {z}?  \\nThat has occurred in the selected country in relation to the database')"
   ]
  },
  {
   "cell_type": "markdown",
   "metadata": {},
   "source": [
    "### 4. In which specific region of Turkey did the most destructive earthquake recorded in the dataset occur?"
   ]
  },
  {
   "cell_type": "code",
   "execution_count": 24,
   "metadata": {},
   "outputs": [],
   "source": [
    "df_max_region=df.copy()\n",
    "df_max_region = df_max_region.query(\"mag >= 5\")\n",
    "df_max_region.sort_values(by='mag', ascending=False, inplace=True)\n",
    "df_max_region = df_max_region.head(50)\n",
    "\n",
    "grouped = df_max_region.groupby(['mag', 'id', 'latitude', 'longitude']).size().reset_index(name='count')\n",
    "grouped = grouped.sort_values(by='mag', ascending=False)"
   ]
  },
  {
   "cell_type": "code",
   "execution_count": 25,
   "metadata": {},
   "outputs": [
    {
     "data": {
      "text/html": [
       "<div>\n",
       "<style scoped>\n",
       "    .dataframe tbody tr th:only-of-type {\n",
       "        vertical-align: middle;\n",
       "    }\n",
       "\n",
       "    .dataframe tbody tr th {\n",
       "        vertical-align: top;\n",
       "    }\n",
       "\n",
       "    .dataframe thead th {\n",
       "        text-align: right;\n",
       "    }\n",
       "</style>\n",
       "<table border=\"1\" class=\"dataframe\">\n",
       "  <thead>\n",
       "    <tr style=\"text-align: right;\">\n",
       "      <th></th>\n",
       "      <th>mag</th>\n",
       "      <th>id</th>\n",
       "      <th>latitude</th>\n",
       "      <th>longitude</th>\n",
       "      <th>count</th>\n",
       "    </tr>\n",
       "  </thead>\n",
       "  <tbody>\n",
       "    <tr>\n",
       "      <th>49</th>\n",
       "      <td>7.8</td>\n",
       "      <td>us6000jllz</td>\n",
       "      <td>37.2256</td>\n",
       "      <td>37.0143</td>\n",
       "      <td>1</td>\n",
       "    </tr>\n",
       "  </tbody>\n",
       "</table>\n",
       "</div>"
      ],
      "text/plain": [
       "    mag          id  latitude  longitude  count\n",
       "49  7.8  us6000jllz   37.2256    37.0143      1"
      ]
     },
     "execution_count": 25,
     "metadata": {},
     "output_type": "execute_result"
    }
   ],
   "source": [
    "Max_region=grouped.loc[grouped['id'] == 'us6000jllz']\n",
    "Max_region"
   ]
  },
  {
   "cell_type": "code",
   "execution_count": 26,
   "metadata": {},
   "outputs": [],
   "source": [
    "geometry = [Point(xy) for xy in zip(Max_region['longitude'], Max_region['latitude'])]\n",
    "gdf= GeoDataFrame(Max_region, geometry=geometry)"
   ]
  },
  {
   "cell_type": "code",
   "execution_count": 27,
   "metadata": {},
   "outputs": [
    {
     "data": {
      "text/plain": [
       "Text(0.5, 1.0, 'Map 1')"
      ]
     },
     "execution_count": 27,
     "metadata": {},
     "output_type": "execute_result"
    },
    {
     "data": {
      "image/png": "[encoded data removed]",
      "text/plain": [
       "<Figure size 1000x600 with 1 Axes>"
      ]
     },
     "metadata": {},
     "output_type": "display_data"
    }
   ],
   "source": [
    "world_filepath = gpd.datasets.get_path('naturalearth_lowres')\n",
    "world = gpd.read_file(world_filepath)\n",
    "world.head()\n",
    "turkey = world.loc[world['name'] == 'Turkey'] # get Turkey row\n",
    "map_1 = gdf.plot(ax=turkey.plot(figsize=(10, 6), color='palegreen'), marker='o', color='crimson', markersize=55)\n",
    "map_1.set_title('Map 1')"
   ]
  },
  {
   "cell_type": "markdown",
   "metadata": {},
   "source": [
    "### 5. What was the depth of the epicenter of the most devastating earthquake recorded in Turkey, according to the dataset?"
   ]
  },
  {
   "cell_type": "markdown",
   "metadata": {},
   "source": [
    "### 6. Which were the main cities or localities affected by the most catastrophic earthquake in Turkey according to the dataset?"
   ]
  },
  {
   "cell_type": "code",
   "execution_count": 28,
   "metadata": {},
   "outputs": [
    {
     "data": {
      "text/html": [
       "<div>\n",
       "<style scoped>\n",
       "    .dataframe tbody tr th:only-of-type {\n",
       "        vertical-align: middle;\n",
       "    }\n",
       "\n",
       "    .dataframe tbody tr th {\n",
       "        vertical-align: top;\n",
       "    }\n",
       "\n",
       "    .dataframe thead th {\n",
       "        text-align: right;\n",
       "    }\n",
       "</style>\n",
       "<table border=\"1\" class=\"dataframe\">\n",
       "  <thead>\n",
       "    <tr style=\"text-align: right;\">\n",
       "      <th></th>\n",
       "      <th>time</th>\n",
       "      <th>latitude</th>\n",
       "      <th>longitude</th>\n",
       "      <th>depth</th>\n",
       "      <th>mag</th>\n",
       "      <th>magType</th>\n",
       "      <th>net</th>\n",
       "      <th>id</th>\n",
       "      <th>updated</th>\n",
       "      <th>type</th>\n",
       "      <th>status</th>\n",
       "      <th>locationSource</th>\n",
       "      <th>magSource</th>\n",
       "      <th>year</th>\n",
       "      <th>month</th>\n",
       "      <th>size</th>\n",
       "    </tr>\n",
       "  </thead>\n",
       "  <tbody>\n",
       "    <tr>\n",
       "      <th>709</th>\n",
       "      <td>2023-02-06T01:17:34.342Z</td>\n",
       "      <td>37.2256</td>\n",
       "      <td>37.0143</td>\n",
       "      <td>10.000</td>\n",
       "      <td>7.8</td>\n",
       "      <td>mww</td>\n",
       "      <td>us</td>\n",
       "      <td>us6000jllz</td>\n",
       "      <td>2023-07-19T08:32:38.718Z</td>\n",
       "      <td>earthquake</td>\n",
       "      <td>reviewed</td>\n",
       "      <td>us</td>\n",
       "      <td>us</td>\n",
       "      <td>2023</td>\n",
       "      <td>2</td>\n",
       "      <td>112.672411</td>\n",
       "    </tr>\n",
       "    <tr>\n",
       "      <th>605</th>\n",
       "      <td>2023-02-06T10:24:48.811Z</td>\n",
       "      <td>38.0106</td>\n",
       "      <td>37.1962</td>\n",
       "      <td>7.432</td>\n",
       "      <td>7.5</td>\n",
       "      <td>mww</td>\n",
       "      <td>us</td>\n",
       "      <td>us6000jlqa</td>\n",
       "      <td>2023-06-17T18:00:10.939Z</td>\n",
       "      <td>earthquake</td>\n",
       "      <td>reviewed</td>\n",
       "      <td>us</td>\n",
       "      <td>us</td>\n",
       "      <td>2023</td>\n",
       "      <td>2</td>\n",
       "      <td>102.953450</td>\n",
       "    </tr>\n",
       "    <tr>\n",
       "      <th>3382</th>\n",
       "      <td>2017-11-12T18:18:17.180Z</td>\n",
       "      <td>34.9109</td>\n",
       "      <td>45.9592</td>\n",
       "      <td>19.000</td>\n",
       "      <td>7.3</td>\n",
       "      <td>mww</td>\n",
       "      <td>us</td>\n",
       "      <td>us2000bmcg</td>\n",
       "      <td>2022-05-03T20:02:36.492Z</td>\n",
       "      <td>earthquake</td>\n",
       "      <td>reviewed</td>\n",
       "      <td>us</td>\n",
       "      <td>us</td>\n",
       "      <td>2017</td>\n",
       "      <td>11</td>\n",
       "      <td>96.748130</td>\n",
       "    </tr>\n",
       "    <tr>\n",
       "      <th>5871</th>\n",
       "      <td>2011-10-23T10:41:23.250Z</td>\n",
       "      <td>38.7210</td>\n",
       "      <td>43.5080</td>\n",
       "      <td>18.000</td>\n",
       "      <td>7.1</td>\n",
       "      <td>mww</td>\n",
       "      <td>us</td>\n",
       "      <td>usp000j9rr</td>\n",
       "      <td>2022-04-08T22:08:47.620Z</td>\n",
       "      <td>earthquake</td>\n",
       "      <td>reviewed</td>\n",
       "      <td>us</td>\n",
       "      <td>us</td>\n",
       "      <td>2011</td>\n",
       "      <td>10</td>\n",
       "      <td>90.759940</td>\n",
       "    </tr>\n",
       "    <tr>\n",
       "      <th>1734</th>\n",
       "      <td>2020-10-30T11:51:27.348Z</td>\n",
       "      <td>37.8973</td>\n",
       "      <td>26.7838</td>\n",
       "      <td>21.000</td>\n",
       "      <td>7.0</td>\n",
       "      <td>mww</td>\n",
       "      <td>us</td>\n",
       "      <td>us7000c7y0</td>\n",
       "      <td>2023-03-28T14:51:23.263Z</td>\n",
       "      <td>earthquake</td>\n",
       "      <td>reviewed</td>\n",
       "      <td>us</td>\n",
       "      <td>us</td>\n",
       "      <td>2020</td>\n",
       "      <td>10</td>\n",
       "      <td>87.846708</td>\n",
       "    </tr>\n",
       "  </tbody>\n",
       "</table>\n",
       "</div>"
      ],
      "text/plain": [
       "                          time  latitude  longitude   depth  mag magType net  \\\n",
       "709   2023-02-06T01:17:34.342Z   37.2256    37.0143  10.000  7.8     mww  us   \n",
       "605   2023-02-06T10:24:48.811Z   38.0106    37.1962   7.432  7.5     mww  us   \n",
       "3382  2017-11-12T18:18:17.180Z   34.9109    45.9592  19.000  7.3     mww  us   \n",
       "5871  2011-10-23T10:41:23.250Z   38.7210    43.5080  18.000  7.1     mww  us   \n",
       "1734  2020-10-30T11:51:27.348Z   37.8973    26.7838  21.000  7.0     mww  us   \n",
       "\n",
       "              id                   updated        type    status  \\\n",
       "709   us6000jllz  2023-07-19T08:32:38.718Z  earthquake  reviewed   \n",
       "605   us6000jlqa  2023-06-17T18:00:10.939Z  earthquake  reviewed   \n",
       "3382  us2000bmcg  2022-05-03T20:02:36.492Z  earthquake  reviewed   \n",
       "5871  usp000j9rr  2022-04-08T22:08:47.620Z  earthquake  reviewed   \n",
       "1734  us7000c7y0  2023-03-28T14:51:23.263Z  earthquake  reviewed   \n",
       "\n",
       "     locationSource magSource  year  month        size  \n",
       "709              us        us  2023      2  112.672411  \n",
       "605              us        us  2023      2  102.953450  \n",
       "3382             us        us  2017     11   96.748130  \n",
       "5871             us        us  2011     10   90.759940  \n",
       "1734             us        us  2020     10   87.846708  "
      ]
     },
     "execution_count": 28,
     "metadata": {},
     "output_type": "execute_result"
    }
   ],
   "source": [
    "df_disastrous[\"size\"]=df_disastrous[\"mag\"] ** 2.3\n",
    "df_disastrous.head(5)"
   ]
  },
  {
   "cell_type": "code",
   "execution_count": 29,
   "metadata": {},
   "outputs": [],
   "source": [
    "df_dis=df_disastrous.head(5)"
   ]
  },
  {
   "cell_type": "code",
   "execution_count": 31,
   "metadata": {},
   "outputs": [
    {
     "data": {},
     "metadata": {},
     "output_type": "display_data"
    },
    {
     "data": {
      "application/vnd.holoviews_exec.v0+json": "",
      "text/html": [
       "<div id='p1173'>\n",
       "  <div id=\"a32e5e18-985b-4aa0-9503-539a0e458e95\" data-root-id=\"p1173\" style=\"display: contents;\"></div>\n",
       "</div>\n",
       "<script type=\"application/javascript\">(function(root) {\n",
       "  var docs_json = {\"f6305bf3-9397-4ceb-b6f9-fd8ed14c967b\":{\"version\":\"3.1.1\",\"title\":\"Bokeh Application\",\"defs\":[{\"type\":\"model\",\"name\":\"ReactiveHTML1\"},{\"type\":\"model\",\"name\":\"FlexBox1\",\"properties\":[{\"name\":\"align_content\",\"kind\":\"Any\",\"default\":\"flex-start\"},{\"name\":\"align_items\",\"kind\":\"Any\",\"default\":\"flex-start\"},{\"name\":\"flex_direction\",\"kind\":\"Any\",\"default\":\"row\"},{\"name\":\"flex_wrap\",\"kind\":\"Any\",\"default\":\"wrap\"},{\"name\":\"justify_content\",\"kind\":\"Any\",\"default\":\"flex-start\"}]},{\"type\":\"model\",\"name\":\"FloatPanel1\",\"properties\":[{\"name\":\"config\",\"kind\":\"Any\",\"default\":{\"type\":\"map\"}},{\"name\":\"contained\",\"kind\":\"Any\",\"default\":true},{\"name\":\"position\",\"kind\":\"Any\",\"default\":\"right-top\"},{\"name\":\"offsetx\",\"kind\":\"Any\",\"default\":null},{\"name\":\"offsety\",\"kind\":\"Any\",\"default\":null},{\"name\":\"theme\",\"kind\":\"Any\",\"default\":\"primary\"},{\"name\":\"status\",\"kind\":\"Any\",\"default\":\"normalized\"}]},{\"type\":\"model\",\"name\":\"GridStack1\",\"properties\":[{\"name\":\"mode\",\"kind\":\"Any\",\"default\":\"warn\"},{\"name\":\"ncols\",\"kind\":\"Any\",\"default\":null},{\"name\":\"nrows\",\"kind\":\"Any\",\"default\":null},{\"name\":\"allow_resize\",\"kind\":\"Any\",\"default\":true},{\"name\":\"allow_drag\",\"kind\":\"Any\",\"default\":true},{\"name\":\"state\",\"kind\":\"Any\",\"default\":[]}]},{\"type\":\"model\",\"name\":\"drag1\",\"properties\":[{\"name\":\"slider_width\",\"kind\":\"Any\",\"default\":5},{\"name\":\"slider_color\",\"kind\":\"Any\",\"default\":\"black\"},{\"name\":\"value\",\"kind\":\"Any\",\"default\":50}]},{\"type\":\"model\",\"name\":\"click1\",\"properties\":[{\"name\":\"terminal_output\",\"kind\":\"Any\",\"default\":\"\"},{\"name\":\"debug_name\",\"kind\":\"Any\",\"default\":\"\"},{\"name\":\"clears\",\"kind\":\"Any\",\"default\":0}]},{\"type\":\"model\",\"name\":\"FastWrapper1\",\"properties\":[{\"name\":\"object\",\"kind\":\"Any\",\"default\":null},{\"name\":\"style\",\"kind\":\"Any\",\"default\":null}]},{\"type\":\"model\",\"name\":\"NotificationAreaBase1\",\"properties\":[{\"name\":\"position\",\"kind\":\"Any\",\"default\":\"bottom-right\"},{\"name\":\"_clear\",\"kind\":\"Any\",\"default\":0}]},{\"type\":\"model\",\"name\":\"NotificationArea1\",\"properties\":[{\"name\":\"notifications\",\"kind\":\"Any\",\"default\":[]},{\"name\":\"position\",\"kind\":\"Any\",\"default\":\"bottom-right\"},{\"name\":\"_clear\",\"kind\":\"Any\",\"default\":0},{\"name\":\"types\",\"kind\":\"Any\",\"default\":[{\"type\":\"map\",\"entries\":[[\"type\",\"warning\"],[\"background\",\"#ffc107\"],[\"icon\",{\"type\":\"map\",\"entries\":[[\"className\",\"fas fa-exclamation-triangle\"],[\"tagName\",\"i\"],[\"color\",\"white\"]]}]]},{\"type\":\"map\",\"entries\":[[\"type\",\"info\"],[\"background\",\"#007bff\"],[\"icon\",{\"type\":\"map\",\"entries\":[[\"className\",\"fas fa-info-circle\"],[\"tagName\",\"i\"],[\"color\",\"white\"]]}]]}]}]},{\"type\":\"model\",\"name\":\"Notification\",\"properties\":[{\"name\":\"background\",\"kind\":\"Any\",\"default\":null},{\"name\":\"duration\",\"kind\":\"Any\",\"default\":3000},{\"name\":\"icon\",\"kind\":\"Any\",\"default\":null},{\"name\":\"message\",\"kind\":\"Any\",\"default\":\"\"},{\"name\":\"notification_type\",\"kind\":\"Any\",\"default\":null},{\"name\":\"_destroyed\",\"kind\":\"Any\",\"default\":false}]},{\"type\":\"model\",\"name\":\"TemplateActions1\",\"properties\":[{\"name\":\"open_modal\",\"kind\":\"Any\",\"default\":0},{\"name\":\"close_modal\",\"kind\":\"Any\",\"default\":0}]},{\"type\":\"model\",\"name\":\"BootstrapTemplateActions1\",\"properties\":[{\"name\":\"open_modal\",\"kind\":\"Any\",\"default\":0},{\"name\":\"close_modal\",\"kind\":\"Any\",\"default\":0}]},{\"type\":\"model\",\"name\":\"MaterialTemplateActions1\",\"properties\":[{\"name\":\"open_modal\",\"kind\":\"Any\",\"default\":0},{\"name\":\"close_modal\",\"kind\":\"Any\",\"default\":0}]}],\"roots\":[{\"type\":\"object\",\"name\":\"Row\",\"id\":\"p1173\",\"attributes\":{\"name\":\"Row01732\",\"tags\":[\"embedded\"],\"stylesheets\":[\"\\n:host(.pn-loading.pn-arc):before, .pn-loading.pn-arc:before {\\n  background-image: url(\\\"data:image/svg+xml;base64,PHN2ZyB4bWxucz0iaHR0cDovL3d3dy53My5vcmcvMjAwMC9zdmciIHN0eWxlPSJtYXJnaW46IGF1dG87IGJhY2tncm91bmQ6IG5vbmU7IGRpc3BsYXk6IGJsb2NrOyBzaGFwZS1yZW5kZXJpbmc6IGF1dG87IiB2aWV3Qm94PSIwIDAgMTAwIDEwMCIgcHJlc2VydmVBc3BlY3RSYXRpbz0ieE1pZFlNaWQiPiAgPGNpcmNsZSBjeD0iNTAiIGN5PSI1MCIgZmlsbD0ibm9uZSIgc3Ryb2tlPSIjYzNjM2MzIiBzdHJva2Utd2lkdGg9IjEwIiByPSIzNSIgc3Ryb2tlLWRhc2hhcnJheT0iMTY0LjkzMzYxNDMxMzQ2NDE1IDU2Ljk3Nzg3MTQzNzgyMTM4Ij4gICAgPGFuaW1hdGVUcmFuc2Zvcm0gYXR0cmlidXRlTmFtZT0idHJhbnNmb3JtIiB0eXBlPSJyb3RhdGUiIHJlcGVhdENvdW50PSJpbmRlZmluaXRlIiBkdXI9IjFzIiB2YWx1ZXM9IjAgNTAgNTA7MzYwIDUwIDUwIiBrZXlUaW1lcz0iMDsxIj48L2FuaW1hdGVUcmFuc2Zvcm0+ICA8L2NpcmNsZT48L3N2Zz4=\\\");\\n  background-size: auto calc(min(50%, 400px));\\n}\",{\"type\":\"object\",\"name\":\"ImportedStyleSheet\",\"id\":\"p1176\",\"attributes\":{\"url\":\"https://cdn.holoviz.org/panel/1.1.0/dist/css/loading.css\"}},{\"type\":\"object\",\"name\":\"ImportedStyleSheet\",\"id\":\"p1299\",\"attributes\":{\"url\":\"https://cdn.holoviz.org/panel/1.1.0/dist/css/listpanel.css\"}},{\"type\":\"object\",\"name\":\"ImportedStyleSheet\",\"id\":\"p1174\",\"attributes\":{\"url\":\"https://cdn.holoviz.org/panel/1.1.0/dist/bundled/theme/default.css\"}},{\"type\":\"object\",\"name\":\"ImportedStyleSheet\",\"id\":\"p1175\",\"attributes\":{\"url\":\"https://cdn.holoviz.org/panel/1.1.0/dist/bundled/theme/native.css\"}}],\"margin\":0,\"sizing_mode\":\"stretch_width\",\"align\":\"start\",\"children\":[{\"type\":\"object\",\"name\":\"Spacer\",\"id\":\"p1177\",\"attributes\":{\"name\":\"HSpacer01742\",\"stylesheets\":[\"\\n:host(.pn-loading.pn-arc):before, .pn-loading.pn-arc:before {\\n  background-image: url(\\\"data:image/svg+xml;base64,PHN2ZyB4bWxucz0iaHR0cDovL3d3dy53My5vcmcvMjAwMC9zdmciIHN0eWxlPSJtYXJnaW46IGF1dG87IGJhY2tncm91bmQ6IG5vbmU7IGRpc3BsYXk6IGJsb2NrOyBzaGFwZS1yZW5kZXJpbmc6IGF1dG87IiB2aWV3Qm94PSIwIDAgMTAwIDEwMCIgcHJlc2VydmVBc3BlY3RSYXRpbz0ieE1pZFlNaWQiPiAgPGNpcmNsZSBjeD0iNTAiIGN5PSI1MCIgZmlsbD0ibm9uZSIgc3Ryb2tlPSIjYzNjM2MzIiBzdHJva2Utd2lkdGg9IjEwIiByPSIzNSIgc3Ryb2tlLWRhc2hhcnJheT0iMTY0LjkzMzYxNDMxMzQ2NDE1IDU2Ljk3Nzg3MTQzNzgyMTM4Ij4gICAgPGFuaW1hdGVUcmFuc2Zvcm0gYXR0cmlidXRlTmFtZT0idHJhbnNmb3JtIiB0eXBlPSJyb3RhdGUiIHJlcGVhdENvdW50PSJpbmRlZmluaXRlIiBkdXI9IjFzIiB2YWx1ZXM9IjAgNTAgNTA7MzYwIDUwIDUwIiBrZXlUaW1lcz0iMDsxIj48L2FuaW1hdGVUcmFuc2Zvcm0+ICA8L2NpcmNsZT48L3N2Zz4=\\\");\\n  background-size: auto calc(min(50%, 400px));\\n}\",{\"id\":\"p1176\"},{\"id\":\"p1174\"},{\"id\":\"p1175\"}],\"margin\":0,\"sizing_mode\":\"stretch_width\",\"align\":\"start\"}},{\"type\":\"object\",\"name\":\"Figure\",\"id\":\"p1191\",\"attributes\":{\"width\":null,\"height\":null,\"margin\":[5,10],\"sizing_mode\":\"fixed\",\"align\":\"start\",\"x_range\":{\"type\":\"object\",\"name\":\"Range1d\",\"id\":\"p1184\",\"attributes\":{\"tags\":[[[\"longitude\",\"longitude\",null]]],\"start\":2874829.3117724685,\"end\":5222884.407002666,\"reset_start\":2874829.3117724685,\"reset_end\":5222884.407002666,\"min_interval\":5}},\"y_range\":{\"type\":\"object\",\"name\":\"Range1d\",\"id\":\"p1185\",\"attributes\":{\"tags\":[[[\"latitude\",\"latitude\",null]]],\"start\":3829768.7424731255,\"end\":5003796.290088224,\"reset_start\":3829768.7424731255,\"reset_end\":5003796.290088224,\"min_interval\":5}},\"x_scale\":{\"type\":\"object\",\"name\":\"LinearScale\",\"id\":\"p1203\"},\"y_scale\":{\"type\":\"object\",\"name\":\"LinearScale\",\"id\":\"p1205\"},\"title\":{\"type\":\"object\",\"name\":\"Title\",\"id\":\"p1194\",\"attributes\":{\"text\":\"Map 2\",\"text_color\":\"black\",\"text_font_size\":\"12pt\"}},\"renderers\":[{\"type\":\"object\",\"name\":\"TileRenderer\",\"id\":\"p1266\",\"attributes\":{\"level\":\"glyph\",\"tile_source\":{\"type\":\"object\",\"name\":\"WMTSTileSource\",\"id\":\"p1261\",\"attributes\":{\"url\":\"https://c.tile.openstreetmap.org/{Z}/{X}/{Y}.png\",\"attribution\":\"&copy; <a href=\\\"https://www.openstreetmap.org/copyright\\\">OpenStreetMap</a> contributors\"}}}},{\"type\":\"object\",\"name\":\"GlyphRenderer\",\"id\":\"p1278\",\"attributes\":{\"data_source\":{\"type\":\"object\",\"name\":\"ColumnDataSource\",\"id\":\"p1268\",\"attributes\":{\"selected\":{\"type\":\"object\",\"name\":\"Selection\",\"id\":\"p1270\",\"attributes\":{\"indices\":[],\"line_indices\":[]}},\"selection_policy\":{\"type\":\"object\",\"name\":\"UnionRenderers\",\"id\":\"p1269\"},\"data\":{\"type\":\"map\",\"entries\":[[\"longitude\",{\"type\":\"ndarray\",\"array\":{\"type\":\"bytes\",\"data\":\"4MeXg65vT0E2mY8FO5dPQfLncK8+hFNBdqDyGcZ5UkHpAh99W79GQQ==\"},\"shape\":[5],\"dtype\":\"float64\",\"order\":\"little\"}],[\"latitude\",{\"type\":\"ndarray\",\"array\":{\"type\":\"bytes\",\"data\":\"SE/11dENUUGIVB7WjnlRQWu2QLLxrE9BerRmaQ7cUUEhzeD472lRQQ==\"},\"shape\":[5],\"dtype\":\"float64\",\"order\":\"little\"}],[\"size\",{\"type\":\"ndarray\",\"array\":{\"type\":\"bytes\",\"data\":\"2qvYYb06JUBjhYLjDkskQNqpgmkQrCNA7X7Q4bgNI0CLkfD1zL4iQA==\"},\"shape\":[5],\"dtype\":\"float64\",\"order\":\"little\"}],[\"city\",{\"type\":\"ndarray\",\"array\":[\"Nurda\\u011f\\u0131\",\"Ekin\\u00f6z\\u00fc\",\"\\u062f\\u0647\\u0633\\u062a\\u0627\\u0646 \\u062e\\u0627\\u0646\\u0647 \\u0634\\u0648\\u0631\",\"Tu\\u015fba\",null],\"shape\":[5],\"dtype\":\"object\",\"order\":\"little\"}],[\"mag\",{\"type\":\"ndarray\",\"array\":{\"type\":\"bytes\",\"data\":\"MzMzMzMzH0AAAAAAAAAeQDMzMzMzMx1AZmZmZmZmHEAAAAAAAAAcQA==\"},\"shape\":[5],\"dtype\":\"float64\",\"order\":\"little\"}]]}}},\"view\":{\"type\":\"object\",\"name\":\"CDSView\",\"id\":\"p1279\",\"attributes\":{\"filter\":{\"type\":\"object\",\"name\":\"AllIndices\",\"id\":\"p1280\"}}},\"glyph\":{\"type\":\"object\",\"name\":\"Scatter\",\"id\":\"p1275\",\"attributes\":{\"tags\":[\"apply_ranges\"],\"x\":{\"type\":\"field\",\"field\":\"longitude\"},\"y\":{\"type\":\"field\",\"field\":\"latitude\"},\"size\":{\"type\":\"field\",\"field\":\"size\"},\"line_color\":{\"type\":\"value\",\"value\":\"crimson\"},\"fill_color\":{\"type\":\"value\",\"value\":\"crimson\"},\"hatch_color\":{\"type\":\"value\",\"value\":\"crimson\"}}},\"selection_glyph\":{\"type\":\"object\",\"name\":\"Scatter\",\"id\":\"p1284\",\"attributes\":{\"tags\":[\"apply_ranges\"],\"x\":{\"type\":\"field\",\"field\":\"longitude\"},\"y\":{\"type\":\"field\",\"field\":\"latitude\"},\"size\":{\"type\":\"field\",\"field\":\"size\"},\"angle\":{\"type\":\"value\",\"value\":0.0},\"line_color\":{\"type\":\"value\",\"value\":\"crimson\"},\"line_alpha\":{\"type\":\"value\",\"value\":1},\"line_width\":{\"type\":\"value\",\"value\":1},\"line_join\":{\"type\":\"value\",\"value\":\"bevel\"},\"line_cap\":{\"type\":\"value\",\"value\":\"butt\"},\"line_dash\":{\"type\":\"value\",\"value\":[]},\"line_dash_offset\":{\"type\":\"value\",\"value\":0},\"fill_color\":{\"type\":\"value\",\"value\":\"crimson\"},\"fill_alpha\":{\"type\":\"value\",\"value\":1},\"hatch_color\":{\"type\":\"value\",\"value\":\"crimson\"},\"hatch_alpha\":{\"type\":\"value\",\"value\":1.0},\"hatch_scale\":{\"type\":\"value\",\"value\":12.0},\"hatch_pattern\":{\"type\":\"value\",\"value\":null},\"hatch_weight\":{\"type\":\"value\",\"value\":1.0},\"marker\":{\"type\":\"value\",\"value\":\"circle\"}}},\"nonselection_glyph\":{\"type\":\"object\",\"name\":\"Scatter\",\"id\":\"p1276\",\"attributes\":{\"tags\":[\"apply_ranges\"],\"x\":{\"type\":\"field\",\"field\":\"longitude\"},\"y\":{\"type\":\"field\",\"field\":\"latitude\"},\"size\":{\"type\":\"field\",\"field\":\"size\"},\"line_color\":{\"type\":\"value\",\"value\":\"crimson\"},\"line_alpha\":{\"type\":\"value\",\"value\":1},\"fill_color\":{\"type\":\"value\",\"value\":\"crimson\"},\"fill_alpha\":{\"type\":\"value\",\"value\":1},\"hatch_color\":{\"type\":\"value\",\"value\":\"crimson\"},\"hatch_alpha\":{\"type\":\"value\",\"value\":0.1}}},\"muted_glyph\":{\"type\":\"object\",\"name\":\"Scatter\",\"id\":\"p1277\",\"attributes\":{\"tags\":[\"apply_ranges\"],\"x\":{\"type\":\"field\",\"field\":\"longitude\"},\"y\":{\"type\":\"field\",\"field\":\"latitude\"},\"size\":{\"type\":\"field\",\"field\":\"size\"},\"line_color\":{\"type\":\"value\",\"value\":\"crimson\"},\"line_alpha\":{\"type\":\"value\",\"value\":0.2},\"fill_color\":{\"type\":\"value\",\"value\":\"crimson\"},\"fill_alpha\":{\"type\":\"value\",\"value\":0.2},\"hatch_color\":{\"type\":\"value\",\"value\":\"crimson\"},\"hatch_alpha\":{\"type\":\"value\",\"value\":0.2}}}}}],\"toolbar\":{\"type\":\"object\",\"name\":\"Toolbar\",\"id\":\"p1199\",\"attributes\":{\"tools\":[{\"type\":\"object\",\"name\":\"HoverTool\",\"id\":\"p1190\",\"attributes\":{\"tags\":[\"hv_created\"],\"renderers\":[{\"id\":\"p1278\"}],\"tooltips\":[[\"longitude\",\"$x{custom}\"],[\"latitude\",\"$y{custom}\"],[\"size\",\"@{size}\"],[\"city\",\"@{city}\"],[\"mag\",\"@{mag}\"]],\"formatters\":{\"type\":\"map\",\"entries\":[[\"$x\",{\"type\":\"object\",\"name\":\"CustomJSHover\",\"id\":\"p1282\",\"attributes\":{\"code\":\"\\n        const projections = Bokeh.require(\\\"core/util/projections\\\");\\n        const {snap_x, snap_y} = special_vars\\n        const coords = projections.wgs84_mercator.invert(snap_x, snap_y)\\n        return \\\"\\\" + (coords[0]).toFixed(4)\\n    \"}}],[\"$y\",{\"type\":\"object\",\"name\":\"CustomJSHover\",\"id\":\"p1283\",\"attributes\":{\"code\":\"\\n        const projections = Bokeh.require(\\\"core/util/projections\\\");\\n        const {snap_x, snap_y} = special_vars\\n        const coords = projections.wgs84_mercator.invert(snap_x, snap_y)\\n        return \\\"\\\" + (coords[1]).toFixed(4)\\n    \"}}]]}}},{\"type\":\"object\",\"name\":\"SaveTool\",\"id\":\"p1221\"},{\"type\":\"object\",\"name\":\"PanTool\",\"id\":\"p1222\"},{\"type\":\"object\",\"name\":\"WheelZoomTool\",\"id\":\"p1223\",\"attributes\":{\"zoom_on_axis\":false}},{\"type\":\"object\",\"name\":\"BoxZoomTool\",\"id\":\"p1224\",\"attributes\":{\"overlay\":{\"type\":\"object\",\"name\":\"BoxAnnotation\",\"id\":\"p1225\",\"attributes\":{\"syncable\":false,\"level\":\"overlay\",\"visible\":false,\"left_units\":\"canvas\",\"right_units\":\"canvas\",\"bottom_units\":\"canvas\",\"top_units\":\"canvas\",\"line_color\":\"black\",\"line_alpha\":1.0,\"line_width\":2,\"line_dash\":[4,4],\"fill_color\":\"lightgrey\",\"fill_alpha\":0.5}},\"match_aspect\":true}},{\"type\":\"object\",\"name\":\"ResetTool\",\"id\":\"p1226\"}],\"active_drag\":{\"id\":\"p1222\"}}},\"left\":[{\"type\":\"object\",\"name\":\"LinearAxis\",\"id\":\"p1214\",\"attributes\":{\"ticker\":{\"type\":\"object\",\"name\":\"MercatorTicker\",\"id\":\"p1237\",\"attributes\":{\"mantissas\":[1,2,5],\"dimension\":\"lat\"}},\"formatter\":{\"type\":\"object\",\"name\":\"MercatorTickFormatter\",\"id\":\"p1238\",\"attributes\":{\"dimension\":\"lat\"}},\"axis_label\":\"y\",\"major_label_policy\":{\"type\":\"object\",\"name\":\"AllLabels\",\"id\":\"p1215\"}}}],\"below\":[{\"type\":\"object\",\"name\":\"LinearAxis\",\"id\":\"p1207\",\"attributes\":{\"ticker\":{\"type\":\"object\",\"name\":\"MercatorTicker\",\"id\":\"p1235\",\"attributes\":{\"mantissas\":[1,2,5],\"dimension\":\"lon\"}},\"formatter\":{\"type\":\"object\",\"name\":\"MercatorTickFormatter\",\"id\":\"p1236\",\"attributes\":{\"dimension\":\"lon\"}},\"axis_label\":\"x\",\"major_label_policy\":{\"type\":\"object\",\"name\":\"AllLabels\",\"id\":\"p1208\"}}}],\"center\":[{\"type\":\"object\",\"name\":\"Grid\",\"id\":\"p1213\",\"attributes\":{\"axis\":{\"id\":\"p1207\"},\"grid_line_color\":null}},{\"type\":\"object\",\"name\":\"Grid\",\"id\":\"p1220\",\"attributes\":{\"dimension\":1,\"axis\":{\"id\":\"p1214\"},\"grid_line_color\":null}}],\"frame_width\":1200,\"frame_height\":600,\"min_border_top\":10,\"min_border_bottom\":10,\"min_border_left\":10,\"min_border_right\":10,\"output_backend\":\"webgl\",\"match_aspect\":true}},{\"type\":\"object\",\"name\":\"Spacer\",\"id\":\"p1297\",\"attributes\":{\"name\":\"HSpacer01745\",\"stylesheets\":[\"\\n:host(.pn-loading.pn-arc):before, .pn-loading.pn-arc:before {\\n  background-image: url(\\\"data:image/svg+xml;base64,PHN2ZyB4bWxucz0iaHR0cDovL3d3dy53My5vcmcvMjAwMC9zdmciIHN0eWxlPSJtYXJnaW46IGF1dG87IGJhY2tncm91bmQ6IG5vbmU7IGRpc3BsYXk6IGJsb2NrOyBzaGFwZS1yZW5kZXJpbmc6IGF1dG87IiB2aWV3Qm94PSIwIDAgMTAwIDEwMCIgcHJlc2VydmVBc3BlY3RSYXRpbz0ieE1pZFlNaWQiPiAgPGNpcmNsZSBjeD0iNTAiIGN5PSI1MCIgZmlsbD0ibm9uZSIgc3Ryb2tlPSIjYzNjM2MzIiBzdHJva2Utd2lkdGg9IjEwIiByPSIzNSIgc3Ryb2tlLWRhc2hhcnJheT0iMTY0LjkzMzYxNDMxMzQ2NDE1IDU2Ljk3Nzg3MTQzNzgyMTM4Ij4gICAgPGFuaW1hdGVUcmFuc2Zvcm0gYXR0cmlidXRlTmFtZT0idHJhbnNmb3JtIiB0eXBlPSJyb3RhdGUiIHJlcGVhdENvdW50PSJpbmRlZmluaXRlIiBkdXI9IjFzIiB2YWx1ZXM9IjAgNTAgNTA7MzYwIDUwIDUwIiBrZXlUaW1lcz0iMDsxIj48L2FuaW1hdGVUcmFuc2Zvcm0+ICA8L2NpcmNsZT48L3N2Zz4=\\\");\\n  background-size: auto calc(min(50%, 400px));\\n}\",{\"id\":\"p1176\"},{\"id\":\"p1174\"},{\"id\":\"p1175\"}],\"margin\":0,\"sizing_mode\":\"stretch_width\",\"align\":\"start\"}}]}}],\"callbacks\":{\"type\":\"map\"}}};\n",
       "  var render_items = [{\"docid\":\"f6305bf3-9397-4ceb-b6f9-fd8ed14c967b\",\"roots\":{\"p1173\":\"a32e5e18-985b-4aa0-9503-539a0e458e95\"},\"root_ids\":[\"p1173\"]}];\n",
       "  var docs = Object.values(docs_json)\n",
       "  if (!docs) {\n",
       "    return\n",
       "  }\n",
       "  const py_version = docs[0].version.replace('rc', '-rc.')\n",
       "  const is_dev = py_version.indexOf(\"+\") !== -1 || py_version.indexOf(\"-\") !== -1\n",
       "  function embed_document(root) {\n",
       "    var Bokeh = get_bokeh(root)\n",
       "    Bokeh.embed.embed_items_notebook(docs_json, render_items);\n",
       "    for (const render_item of render_items) {\n",
       "      for (const root_id of render_item.root_ids) {\n",
       "\tconst id_el = document.getElementById(root_id)\n",
       "\tif (id_el.children.length && (id_el.children[0].className === 'bk-root')) {\n",
       "\t  const root_el = id_el.children[0]\n",
       "\t  root_el.id = root_el.id + '-rendered'\n",
       "\t}\n",
       "      }\n",
       "    }\n",
       "  }\n",
       "  function get_bokeh(root) {\n",
       "    if (root.Bokeh === undefined) {\n",
       "      return null\n",
       "    } else if (root.Bokeh.version !== py_version && !is_dev) {\n",
       "      if (root.Bokeh.versions === undefined || !root.Bokeh.versions.has(py_version)) {\n",
       "\treturn null\n",
       "      }\n",
       "      return root.Bokeh.versions.get(py_version);\n",
       "    } else if (root.Bokeh.version === py_version) {\n",
       "      return root.Bokeh\n",
       "    }\n",
       "    return null\n",
       "  }\n",
       "  function is_loaded(root) {\n",
       "    var Bokeh = get_bokeh(root)\n",
       "    return (Bokeh != null && Bokeh.Panel !== undefined)\n",
       "  }\n",
       "  if (is_loaded(root)) {\n",
       "    embed_document(root);\n",
       "  } else {\n",
       "    var attempts = 0;\n",
       "    var timer = setInterval(function(root) {\n",
       "      if (is_loaded(root)) {\n",
       "        clearInterval(timer);\n",
       "        embed_document(root);\n",
       "      } else if (document.readyState == \"complete\") {\n",
       "        attempts++;\n",
       "        if (attempts > 200) {\n",
       "          clearInterval(timer);\n",
       "\t  var Bokeh = get_bokeh(root)\n",
       "\t  if (Bokeh == null || Bokeh.Panel == null) {\n",
       "            console.warn(\"Panel: ERROR: Unable to run Panel code because Bokeh or Panel library is missing\");\n",
       "\t  } else {\n",
       "\t    console.warn(\"Panel: WARNING: Attempting to render but not all required libraries could be resolved.\")\n",
       "\t    embed_document(root)\n",
       "\t  }\n",
       "        }\n",
       "      }\n",
       "    }, 25, root)\n",
       "  }\n",
       "})(window);</script>"
      ],
      "text/plain": [
       ":Overlay\n",
       "   .Tiles.I  :Tiles   [x,y]\n",
       "   .Points.I :Points   [longitude,latitude]   (size,city,mag)"
      ]
     },
     "execution_count": 31,
     "metadata": {
      "application/vnd.holoviews_exec.v0+json": {
       "id": "p1173"
      }
     },
     "output_type": "execute_result"
    }
   ],
   "source": [
    "Apikey=\"6ba5d1a969e64287a72cb371a742eea1\"\n",
    "def get_city_name(latitude, longitude):\n",
    "    url = f'https://api.geoapify.com/v1/geocode/reverse?lat={latitude}&lon={longitude}&apiKey={Apikey}'\n",
    "    response = requests.get(url)\n",
    "    data = response.json()\n",
    "    city = data['features'][0]['properties'].get('city')\n",
    "    if not city:\n",
    "        city = data['features'][0]['properties'].get('village')\n",
    "    return city\n",
    "\n",
    "\n",
    "df_dis['city'] = df_dis.apply(lambda row: get_city_name(row['latitude'], row['longitude']), axis=1)\n",
    "\n",
    "plot = df_dis.hvplot.points(x='longitude', y='latitude', geo=True, alpha=1, size=\"size\",\n",
    "                            hover_cols=['city','mag'], title='Map 2', \n",
    "                            tiles='OSM', color=\"crimson\", frame_width=1200, frame_height=600)\n",
    "plot"
   ]
  }
 ],
 "metadata": {
  "kernelspec": {
   "display_name": "base",
   "language": "python",
   "name": "python3"
  },
  "language_info": {
   "codemirror_mode": {
    "name": "ipython",
    "version": 3
   },
   "file_extension": ".py",
   "mimetype": "text/x-python",
   "name": "python",
   "nbconvert_exporter": "python",
   "pygments_lexer": "ipython3",
   "version": "3.11.3"
  },
  "orig_nbformat": 4
 },
 "nbformat": 4,
 "nbformat_minor": 2
}
