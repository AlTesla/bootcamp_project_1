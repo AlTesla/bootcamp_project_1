{
 "cells": [
  {
   "cell_type": "code",
   "execution_count": 2,
   "metadata": {},
   "outputs": [],
   "source": [
    "import pandas as pd\n",
    "from pathlib import Path"
   ]
  },
  {
   "cell_type": "code",
   "execution_count": 3,
   "metadata": {},
   "outputs": [],
   "source": [
    "file = Path(\"../Resources/TurkeyEarthquakes_2008_2023.csv\")"
   ]
  },
  {
   "cell_type": "code",
   "execution_count": 4,
   "metadata": {},
   "outputs": [
    {
     "name": "stdout",
     "output_type": "stream",
     "text": [
      "<class 'pandas.core.frame.DataFrame'>\n",
      "RangeIndex: 7770 entries, 0 to 7769\n",
      "Data columns (total 22 columns):\n",
      " #   Column           Non-Null Count  Dtype  \n",
      "---  ------           --------------  -----  \n",
      " 0   time             7770 non-null   object \n",
      " 1   latitude         7770 non-null   float64\n",
      " 2   longitude        7770 non-null   float64\n",
      " 3   depth            7770 non-null   float64\n",
      " 4   mag              7770 non-null   float64\n",
      " 5   magType          7770 non-null   object \n",
      " 6   nst              3718 non-null   float64\n",
      " 7   gap              7139 non-null   float64\n",
      " 8   dmin             4421 non-null   float64\n",
      " 9   rms              5688 non-null   float64\n",
      " 10  net              7770 non-null   object \n",
      " 11  id               7770 non-null   object \n",
      " 12  updated          7770 non-null   object \n",
      " 13  place            7724 non-null   object \n",
      " 14  type             7770 non-null   object \n",
      " 15  horizontalError  4567 non-null   float64\n",
      " 16  depthError       5406 non-null   float64\n",
      " 17  magError         4954 non-null   float64\n",
      " 18  magNst           6091 non-null   float64\n",
      " 19  status           7770 non-null   object \n",
      " 20  locationSource   7770 non-null   object \n",
      " 21  magSource        7770 non-null   object \n",
      "dtypes: float64(12), object(10)\n",
      "memory usage: 1.3+ MB\n"
     ]
    }
   ],
   "source": [
    "original_df = pd.read_csv(file)\n",
    "original_df.info()"
   ]
  },
  {
   "cell_type": "code",
   "execution_count": 5,
   "metadata": {},
   "outputs": [
    {
     "data": {
      "text/plain": [
       "Index(['time', 'latitude', 'longitude', 'depth', 'mag', 'magType', 'nst',\n",
       "       'gap', 'dmin', 'rms', 'net', 'id', 'updated', 'place', 'type',\n",
       "       'horizontalError', 'depthError', 'magError', 'magNst', 'status',\n",
       "       'locationSource', 'magSource'],\n",
       "      dtype='object')"
      ]
     },
     "execution_count": 5,
     "metadata": {},
     "output_type": "execute_result"
    }
   ],
   "source": [
    "original_df.columns\n"
   ]
  },
  {
   "cell_type": "code",
   "execution_count": 7,
   "metadata": {},
   "outputs": [
    {
     "name": "stdout",
     "output_type": "stream",
     "text": [
      "<class 'pandas.core.frame.DataFrame'>\n",
      "RangeIndex: 7770 entries, 0 to 7769\n",
      "Data columns (total 13 columns):\n",
      " #   Column          Non-Null Count  Dtype  \n",
      "---  ------          --------------  -----  \n",
      " 0   time            7770 non-null   object \n",
      " 1   latitude        7770 non-null   float64\n",
      " 2   longitude       7770 non-null   float64\n",
      " 3   depth           7770 non-null   float64\n",
      " 4   mag             7770 non-null   float64\n",
      " 5   magType         7770 non-null   object \n",
      " 6   net             7770 non-null   object \n",
      " 7   id              7770 non-null   object \n",
      " 8   updated         7770 non-null   object \n",
      " 9   type            7770 non-null   object \n",
      " 10  status          7770 non-null   object \n",
      " 11  locationSource  7770 non-null   object \n",
      " 12  magSource       7770 non-null   object \n",
      "dtypes: float64(4), object(9)\n",
      "memory usage: 789.3+ KB\n"
     ]
    }
   ],
   "source": [
    "df = original_df[['time', 'latitude', 'longitude', 'depth', \n",
    "                  'mag', 'magType', 'net', 'id', 'updated',\n",
    "                  'type', 'status','locationSource', 'magSource']].copy()\n",
    "df.info()"
   ]
  },
  {
   "cell_type": "code",
   "execution_count": 9,
   "metadata": {},
   "outputs": [
    {
     "data": {
      "text/html": [
       "<div>\n",
       "<style scoped>\n",
       "    .dataframe tbody tr th:only-of-type {\n",
       "        vertical-align: middle;\n",
       "    }\n",
       "\n",
       "    .dataframe tbody tr th {\n",
       "        vertical-align: top;\n",
       "    }\n",
       "\n",
       "    .dataframe thead th {\n",
       "        text-align: right;\n",
       "    }\n",
       "</style>\n",
       "<table border=\"1\" class=\"dataframe\">\n",
       "  <thead>\n",
       "    <tr style=\"text-align: right;\">\n",
       "      <th></th>\n",
       "      <th>time</th>\n",
       "      <th>latitude</th>\n",
       "      <th>longitude</th>\n",
       "      <th>depth</th>\n",
       "      <th>mag</th>\n",
       "      <th>magType</th>\n",
       "      <th>net</th>\n",
       "      <th>id</th>\n",
       "      <th>updated</th>\n",
       "      <th>type</th>\n",
       "      <th>status</th>\n",
       "      <th>locationSource</th>\n",
       "      <th>magSource</th>\n",
       "    </tr>\n",
       "  </thead>\n",
       "  <tbody>\n",
       "    <tr>\n",
       "      <th>0</th>\n",
       "      <td>2023-07-19T14:14:47.038Z</td>\n",
       "      <td>36.4116</td>\n",
       "      <td>53.9089</td>\n",
       "      <td>10.000</td>\n",
       "      <td>4.3</td>\n",
       "      <td>mb</td>\n",
       "      <td>us</td>\n",
       "      <td>us7000kgw7</td>\n",
       "      <td>2023-07-19T20:19:41.040Z</td>\n",
       "      <td>earthquake</td>\n",
       "      <td>reviewed</td>\n",
       "      <td>us</td>\n",
       "      <td>us</td>\n",
       "    </tr>\n",
       "    <tr>\n",
       "      <th>1</th>\n",
       "      <td>2023-07-18T20:30:55.209Z</td>\n",
       "      <td>45.0385</td>\n",
       "      <td>23.0251</td>\n",
       "      <td>12.806</td>\n",
       "      <td>4.0</td>\n",
       "      <td>mb</td>\n",
       "      <td>us</td>\n",
       "      <td>us7000kgn3</td>\n",
       "      <td>2023-07-19T04:47:16.666Z</td>\n",
       "      <td>earthquake</td>\n",
       "      <td>reviewed</td>\n",
       "      <td>us</td>\n",
       "      <td>us</td>\n",
       "    </tr>\n",
       "    <tr>\n",
       "      <th>2</th>\n",
       "      <td>2023-07-17T12:04:26.739Z</td>\n",
       "      <td>36.5808</td>\n",
       "      <td>23.0401</td>\n",
       "      <td>70.563</td>\n",
       "      <td>4.2</td>\n",
       "      <td>mb</td>\n",
       "      <td>us</td>\n",
       "      <td>us7000kgby</td>\n",
       "      <td>2023-07-17T12:24:40.040Z</td>\n",
       "      <td>earthquake</td>\n",
       "      <td>reviewed</td>\n",
       "      <td>us</td>\n",
       "      <td>us</td>\n",
       "    </tr>\n",
       "    <tr>\n",
       "      <th>3</th>\n",
       "      <td>2023-07-11T09:52:19.105Z</td>\n",
       "      <td>39.3973</td>\n",
       "      <td>26.2615</td>\n",
       "      <td>10.000</td>\n",
       "      <td>3.4</td>\n",
       "      <td>ml</td>\n",
       "      <td>us</td>\n",
       "      <td>us7000ketw</td>\n",
       "      <td>2023-07-11T13:19:44.229Z</td>\n",
       "      <td>earthquake</td>\n",
       "      <td>reviewed</td>\n",
       "      <td>us</td>\n",
       "      <td>us</td>\n",
       "    </tr>\n",
       "    <tr>\n",
       "      <th>4</th>\n",
       "      <td>2023-07-09T02:27:36.163Z</td>\n",
       "      <td>38.0000</td>\n",
       "      <td>36.3643</td>\n",
       "      <td>5.736</td>\n",
       "      <td>3.5</td>\n",
       "      <td>ml</td>\n",
       "      <td>us</td>\n",
       "      <td>us6000kr1s</td>\n",
       "      <td>2023-07-10T02:41:16.388Z</td>\n",
       "      <td>earthquake</td>\n",
       "      <td>reviewed</td>\n",
       "      <td>us</td>\n",
       "      <td>us</td>\n",
       "    </tr>\n",
       "  </tbody>\n",
       "</table>\n",
       "</div>"
      ],
      "text/plain": [
       "                       time  latitude  longitude   depth  mag magType net  \\\n",
       "0  2023-07-19T14:14:47.038Z   36.4116    53.9089  10.000  4.3      mb  us   \n",
       "1  2023-07-18T20:30:55.209Z   45.0385    23.0251  12.806  4.0      mb  us   \n",
       "2  2023-07-17T12:04:26.739Z   36.5808    23.0401  70.563  4.2      mb  us   \n",
       "3  2023-07-11T09:52:19.105Z   39.3973    26.2615  10.000  3.4      ml  us   \n",
       "4  2023-07-09T02:27:36.163Z   38.0000    36.3643   5.736  3.5      ml  us   \n",
       "\n",
       "           id                   updated        type    status locationSource  \\\n",
       "0  us7000kgw7  2023-07-19T20:19:41.040Z  earthquake  reviewed             us   \n",
       "1  us7000kgn3  2023-07-19T04:47:16.666Z  earthquake  reviewed             us   \n",
       "2  us7000kgby  2023-07-17T12:24:40.040Z  earthquake  reviewed             us   \n",
       "3  us7000ketw  2023-07-11T13:19:44.229Z  earthquake  reviewed             us   \n",
       "4  us6000kr1s  2023-07-10T02:41:16.388Z  earthquake  reviewed             us   \n",
       "\n",
       "  magSource  \n",
       "0        us  \n",
       "1        us  \n",
       "2        us  \n",
       "3        us  \n",
       "4        us  "
      ]
     },
     "execution_count": 9,
     "metadata": {},
     "output_type": "execute_result"
    }
   ],
   "source": [
    "df.head()"
   ]
  }
 ],
 "metadata": {
  "kernelspec": {
   "display_name": "base",
   "language": "python",
   "name": "python3"
  },
  "language_info": {
   "codemirror_mode": {
    "name": "ipython",
    "version": 3
   },
   "file_extension": ".py",
   "mimetype": "text/x-python",
   "name": "python",
   "nbconvert_exporter": "python",
   "pygments_lexer": "ipython3",
   "version": "3.11.3"
  },
  "orig_nbformat": 4
 },
 "nbformat": 4,
 "nbformat_minor": 2
}
