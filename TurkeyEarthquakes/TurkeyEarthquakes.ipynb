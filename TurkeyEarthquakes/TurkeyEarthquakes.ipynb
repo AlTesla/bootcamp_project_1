{
 "cells": [
  {
   "cell_type": "markdown",
   "metadata": {},
   "source": [
    "# Turkey Earthquake "
   ]
  },
  {
   "cell_type": "markdown",
   "metadata": {},
   "source": [
    "## Project 1 Team 2\n",
    "Cecilia Lizcano, \n",
    "Omar Alejandro Vallejo, \n",
    "Erica Alvarez, \n",
    "Roberto Rodas, \n",
    "Alvaro Corona"
   ]
  },
  {
   "cell_type": "code",
   "execution_count": 1,
   "metadata": {},
   "outputs": [
    {
     "data": {
      "application/javascript": "(function(root) {\n  function now() {\n    return new Date();\n  }\n\n  var force = true;\n  var py_version = '3.1.1'.replace('rc', '-rc.');\n  var is_dev = py_version.indexOf(\"+\") !== -1 || py_version.indexOf(\"-\") !== -1;\n  var reloading = false;\n  var Bokeh = root.Bokeh;\n  var bokeh_loaded = Bokeh != null && (Bokeh.version === py_version || (Bokeh.versions !== undefined && Bokeh.versions.has(py_version)));\n\n  if (typeof (root._bokeh_timeout) === \"undefined\" || force) {\n    root._bokeh_timeout = Date.now() + 5000;\n    root._bokeh_failed_load = false;\n  }\n\n  function run_callbacks() {\n    try {\n      root._bokeh_onload_callbacks.forEach(function(callback) {\n        if (callback != null)\n          callback();\n      });\n    } finally {\n      delete root._bokeh_onload_callbacks;\n    }\n    console.debug(\"Bokeh: all callbacks have finished\");\n  }\n\n  function load_libs(css_urls, js_urls, js_modules, js_exports, callback) {\n    if (css_urls == null) css_urls = [];\n    if (js_urls == null) js_urls = [];\n    if (js_modules == null) js_modules = [];\n    if (js_exports == null) js_exports = {};\n\n    root._bokeh_onload_callbacks.push(callback);\n\n    if (root._bokeh_is_loading > 0) {\n      console.debug(\"Bokeh: BokehJS is being loaded, scheduling callback at\", now());\n      return null;\n    }\n    if (js_urls.length === 0 && js_modules.length === 0 && Object.keys(js_exports).length === 0) {\n      run_callbacks();\n      return null;\n    }\n    if (!reloading) {\n      console.debug(\"Bokeh: BokehJS not loaded, scheduling load and callback at\", now());\n    }\n\n    function on_load() {\n      root._bokeh_is_loading--;\n      if (root._bokeh_is_loading === 0) {\n        console.debug(\"Bokeh: all BokehJS libraries/stylesheets loaded\");\n        run_callbacks()\n      }\n    }\n    window._bokeh_on_load = on_load\n\n    function on_error() {\n      console.error(\"failed to load \" + url);\n    }\n\n    var skip = [];\n    if (window.requirejs) {\n      window.requirejs.config({'packages': {}, 'paths': {'jspanel': 'https://cdn.jsdelivr.net/npm/jspanel4@4.12.0/dist/jspanel', 'jspanel-modal': 'https://cdn.jsdelivr.net/npm/jspanel4@4.12.0/dist/extensions/modal/jspanel.modal', 'jspanel-tooltip': 'https://cdn.jsdelivr.net/npm/jspanel4@4.12.0/dist/extensions/tooltip/jspanel.tooltip', 'jspanel-hint': 'https://cdn.jsdelivr.net/npm/jspanel4@4.12.0/dist/extensions/hint/jspanel.hint', 'jspanel-layout': 'https://cdn.jsdelivr.net/npm/jspanel4@4.12.0/dist/extensions/layout/jspanel.layout', 'jspanel-contextmenu': 'https://cdn.jsdelivr.net/npm/jspanel4@4.12.0/dist/extensions/contextmenu/jspanel.contextmenu', 'jspanel-dock': 'https://cdn.jsdelivr.net/npm/jspanel4@4.12.0/dist/extensions/dock/jspanel.dock', 'gridstack': 'https://cdn.jsdelivr.net/npm/gridstack@7.2.3/dist/gridstack-all', 'notyf': 'https://cdn.jsdelivr.net/npm/notyf@3/notyf.min'}, 'shim': {'jspanel': {'exports': 'jsPanel'}, 'gridstack': {'exports': 'GridStack'}}});\n      require([\"jspanel\"], function(jsPanel) {\n\twindow.jsPanel = jsPanel\n\ton_load()\n      })\n      require([\"jspanel-modal\"], function() {\n\ton_load()\n      })\n      require([\"jspanel-tooltip\"], function() {\n\ton_load()\n      })\n      require([\"jspanel-hint\"], function() {\n\ton_load()\n      })\n      require([\"jspanel-layout\"], function() {\n\ton_load()\n      })\n      require([\"jspanel-contextmenu\"], function() {\n\ton_load()\n      })\n      require([\"jspanel-dock\"], function() {\n\ton_load()\n      })\n      require([\"gridstack\"], function(GridStack) {\n\twindow.GridStack = GridStack\n\ton_load()\n      })\n      require([\"notyf\"], function() {\n\ton_load()\n      })\n      root._bokeh_is_loading = css_urls.length + 9;\n    } else {\n      root._bokeh_is_loading = css_urls.length + js_urls.length + js_modules.length + Object.keys(js_exports).length;\n    }\n\n    var existing_stylesheets = []\n    var links = document.getElementsByTagName('link')\n    for (var i = 0; i < links.length; i++) {\n      var link = links[i]\n      if (link.href != null) {\n\texisting_stylesheets.push(link.href)\n      }\n    }\n    for (var i = 0; i < css_urls.length; i++) {\n      var url = css_urls[i];\n      if (existing_stylesheets.indexOf(url) !== -1) {\n\ton_load()\n\tcontinue;\n      }\n      const element = document.createElement(\"link\");\n      element.onload = on_load;\n      element.onerror = on_error;\n      element.rel = \"stylesheet\";\n      element.type = \"text/css\";\n      element.href = url;\n      console.debug(\"Bokeh: injecting link tag for BokehJS stylesheet: \", url);\n      document.body.appendChild(element);\n    }    if (((window['jsPanel'] !== undefined) && (!(window['jsPanel'] instanceof HTMLElement))) || window.requirejs) {\n      var urls = ['https://cdn.holoviz.org/panel/1.1.0/dist/bundled/floatpanel/jspanel4@4.12.0/dist/jspanel.js', 'https://cdn.holoviz.org/panel/1.1.0/dist/bundled/floatpanel/jspanel4@4.12.0/dist/extensions/modal/jspanel.modal.js', 'https://cdn.holoviz.org/panel/1.1.0/dist/bundled/floatpanel/jspanel4@4.12.0/dist/extensions/tooltip/jspanel.tooltip.js', 'https://cdn.holoviz.org/panel/1.1.0/dist/bundled/floatpanel/jspanel4@4.12.0/dist/extensions/hint/jspanel.hint.js', 'https://cdn.holoviz.org/panel/1.1.0/dist/bundled/floatpanel/jspanel4@4.12.0/dist/extensions/layout/jspanel.layout.js', 'https://cdn.holoviz.org/panel/1.1.0/dist/bundled/floatpanel/jspanel4@4.12.0/dist/extensions/contextmenu/jspanel.contextmenu.js', 'https://cdn.holoviz.org/panel/1.1.0/dist/bundled/floatpanel/jspanel4@4.12.0/dist/extensions/dock/jspanel.dock.js'];\n      for (var i = 0; i < urls.length; i++) {\n        skip.push(urls[i])\n      }\n    }    if (((window['GridStack'] !== undefined) && (!(window['GridStack'] instanceof HTMLElement))) || window.requirejs) {\n      var urls = ['https://cdn.holoviz.org/panel/1.1.0/dist/bundled/gridstack/gridstack@7.2.3/dist/gridstack-all.js'];\n      for (var i = 0; i < urls.length; i++) {\n        skip.push(urls[i])\n      }\n    }    if (((window['Notyf'] !== undefined) && (!(window['Notyf'] instanceof HTMLElement))) || window.requirejs) {\n      var urls = ['https://cdn.holoviz.org/panel/1.1.0/dist/bundled/notificationarea/notyf@3/notyf.min.js'];\n      for (var i = 0; i < urls.length; i++) {\n        skip.push(urls[i])\n      }\n    }    var existing_scripts = []\n    var scripts = document.getElementsByTagName('script')\n    for (var i = 0; i < scripts.length; i++) {\n      var script = scripts[i]\n      if (script.src != null) {\n\texisting_scripts.push(script.src)\n      }\n    }\n    for (var i = 0; i < js_urls.length; i++) {\n      var url = js_urls[i];\n      if (skip.indexOf(url) !== -1 || existing_scripts.indexOf(url) !== -1) {\n\tif (!window.requirejs) {\n\t  on_load();\n\t}\n\tcontinue;\n      }\n      var element = document.createElement('script');\n      element.onload = on_load;\n      element.onerror = on_error;\n      element.async = false;\n      element.src = url;\n      console.debug(\"Bokeh: injecting script tag for BokehJS library: \", url);\n      document.head.appendChild(element);\n    }\n    for (var i = 0; i < js_modules.length; i++) {\n      var url = js_modules[i];\n      if (skip.indexOf(url) !== -1 || existing_scripts.indexOf(url) !== -1) {\n\tif (!window.requirejs) {\n\t  on_load();\n\t}\n\tcontinue;\n      }\n      var element = document.createElement('script');\n      element.onload = on_load;\n      element.onerror = on_error;\n      element.async = false;\n      element.src = url;\n      element.type = \"module\";\n      console.debug(\"Bokeh: injecting script tag for BokehJS library: \", url);\n      document.head.appendChild(element);\n    }\n    for (const name in js_exports) {\n      var url = js_exports[name];\n      if (skip.indexOf(url) >= 0 || root[name] != null) {\n\tif (!window.requirejs) {\n\t  on_load();\n\t}\n\tcontinue;\n      }\n      var element = document.createElement('script');\n      element.onerror = on_error;\n      element.async = false;\n      element.type = \"module\";\n      console.debug(\"Bokeh: injecting script tag for BokehJS library: \", url);\n      element.textContent = `\n      import ${name} from \"${url}\"\n      window.${name} = ${name}\n      window._bokeh_on_load()\n      `\n      document.head.appendChild(element);\n    }\n    if (!js_urls.length && !js_modules.length) {\n      on_load()\n    }\n  };\n\n  function inject_raw_css(css) {\n    const element = document.createElement(\"style\");\n    element.appendChild(document.createTextNode(css));\n    document.body.appendChild(element);\n  }\n\n  var js_urls = [\"https://cdn.bokeh.org/bokeh/release/bokeh-3.1.1.min.js\", \"https://cdn.bokeh.org/bokeh/release/bokeh-gl-3.1.1.min.js\", \"https://cdn.bokeh.org/bokeh/release/bokeh-widgets-3.1.1.min.js\", \"https://cdn.bokeh.org/bokeh/release/bokeh-tables-3.1.1.min.js\", \"https://cdn.holoviz.org/panel/1.1.0/dist/panel.min.js\"];\n  var js_modules = [];\n  var js_exports = {};\n  var css_urls = [];\n  var inline_js = [    function(Bokeh) {\n      Bokeh.set_log_level(\"info\");\n    },\nfunction(Bokeh) {} // ensure no trailing comma for IE\n  ];\n\n  function run_inline_js() {\n    if ((root.Bokeh !== undefined) || (force === true)) {\n      for (var i = 0; i < inline_js.length; i++) {\n        inline_js[i].call(root, root.Bokeh);\n      }\n      // Cache old bokeh versions\n      if (Bokeh != undefined && !reloading) {\n\tvar NewBokeh = root.Bokeh;\n\tif (Bokeh.versions === undefined) {\n\t  Bokeh.versions = new Map();\n\t}\n\tif (NewBokeh.version !== Bokeh.version) {\n\t  Bokeh.versions.set(NewBokeh.version, NewBokeh)\n\t}\n\troot.Bokeh = Bokeh;\n      }} else if (Date.now() < root._bokeh_timeout) {\n      setTimeout(run_inline_js, 100);\n    } else if (!root._bokeh_failed_load) {\n      console.log(\"Bokeh: BokehJS failed to load within specified timeout.\");\n      root._bokeh_failed_load = true;\n    }\n    root._bokeh_is_initializing = false\n  }\n\n  function load_or_wait() {\n    // Implement a backoff loop that tries to ensure we do not load multiple\n    // versions of Bokeh and its dependencies at the same time.\n    // In recent versions we use the root._bokeh_is_initializing flag\n    // to determine whether there is an ongoing attempt to initialize\n    // bokeh, however for backward compatibility we also try to ensure\n    // that we do not start loading a newer (Panel>=1.0 and Bokeh>3) version\n    // before older versions are fully initialized.\n    if (root._bokeh_is_initializing && Date.now() > root._bokeh_timeout) {\n      root._bokeh_is_initializing = false;\n      root._bokeh_onload_callbacks = undefined;\n      console.log(\"Bokeh: BokehJS was loaded multiple times but one version failed to initialize.\");\n      load_or_wait();\n    } else if (root._bokeh_is_initializing || (typeof root._bokeh_is_initializing === \"undefined\" && root._bokeh_onload_callbacks !== undefined)) {\n      setTimeout(load_or_wait, 100);\n    } else {\n      Bokeh = root.Bokeh;\n      bokeh_loaded = Bokeh != null && (Bokeh.version === py_version || (Bokeh.versions !== undefined && Bokeh.versions.has(py_version)));\n      root._bokeh_is_initializing = true\n      root._bokeh_onload_callbacks = []\n      if (!reloading && (!bokeh_loaded || is_dev)) {\n\troot.Bokeh = undefined;\n      }\n      load_libs(css_urls, js_urls, js_modules, js_exports, function() {\n\tconsole.debug(\"Bokeh: BokehJS plotting callback run at\", now());\n\trun_inline_js();\n      });\n    }\n  }\n  // Give older versions of the autoload script a head-start to ensure\n  // they initialize before we start loading newer version.\n  setTimeout(load_or_wait, 100)\n}(window));",
      "application/vnd.holoviews_load.v0+json": ""
     },
     "metadata": {},
     "output_type": "display_data"
    },
    {
     "data": {
      "application/javascript": "\nif ((window.PyViz === undefined) || (window.PyViz instanceof HTMLElement)) {\n  window.PyViz = {comms: {}, comm_status:{}, kernels:{}, receivers: {}, plot_index: []}\n}\n\n\n    function JupyterCommManager() {\n    }\n\n    JupyterCommManager.prototype.register_target = function(plot_id, comm_id, msg_handler) {\n      if (window.comm_manager || ((window.Jupyter !== undefined) && (Jupyter.notebook.kernel != null))) {\n        var comm_manager = window.comm_manager || Jupyter.notebook.kernel.comm_manager;\n        comm_manager.register_target(comm_id, function(comm) {\n          comm.on_msg(msg_handler);\n        });\n      } else if ((plot_id in window.PyViz.kernels) && (window.PyViz.kernels[plot_id])) {\n        window.PyViz.kernels[plot_id].registerCommTarget(comm_id, function(comm) {\n          comm.onMsg = msg_handler;\n        });\n      } else if (typeof google != 'undefined' && google.colab.kernel != null) {\n        google.colab.kernel.comms.registerTarget(comm_id, (comm) => {\n          var messages = comm.messages[Symbol.asyncIterator]();\n          function processIteratorResult(result) {\n            var message = result.value;\n            console.log(message)\n            var content = {data: message.data, comm_id};\n            var buffers = []\n            for (var buffer of message.buffers || []) {\n              buffers.push(new DataView(buffer))\n            }\n            var metadata = message.metadata || {};\n            var msg = {content, buffers, metadata}\n            msg_handler(msg);\n            return messages.next().then(processIteratorResult);\n          }\n          return messages.next().then(processIteratorResult);\n        })\n      }\n    }\n\n    JupyterCommManager.prototype.get_client_comm = function(plot_id, comm_id, msg_handler) {\n      if (comm_id in window.PyViz.comms) {\n        return window.PyViz.comms[comm_id];\n      } else if (window.comm_manager || ((window.Jupyter !== undefined) && (Jupyter.notebook.kernel != null))) {\n        var comm_manager = window.comm_manager || Jupyter.notebook.kernel.comm_manager;\n        var comm = comm_manager.new_comm(comm_id, {}, {}, {}, comm_id);\n        if (msg_handler) {\n          comm.on_msg(msg_handler);\n        }\n      } else if ((plot_id in window.PyViz.kernels) && (window.PyViz.kernels[plot_id])) {\n        var comm = window.PyViz.kernels[plot_id].connectToComm(comm_id);\n        comm.open();\n        if (msg_handler) {\n          comm.onMsg = msg_handler;\n        }\n      } else if (typeof google != 'undefined' && google.colab.kernel != null) {\n        var comm_promise = google.colab.kernel.comms.open(comm_id)\n        comm_promise.then((comm) => {\n          window.PyViz.comms[comm_id] = comm;\n          if (msg_handler) {\n            var messages = comm.messages[Symbol.asyncIterator]();\n            function processIteratorResult(result) {\n              var message = result.value;\n              var content = {data: message.data};\n              var metadata = message.metadata || {comm_id};\n              var msg = {content, metadata}\n              msg_handler(msg);\n              return messages.next().then(processIteratorResult);\n            }\n            return messages.next().then(processIteratorResult);\n          }\n        }) \n        var sendClosure = (data, metadata, buffers, disposeOnDone) => {\n          return comm_promise.then((comm) => {\n            comm.send(data, metadata, buffers, disposeOnDone);\n          });\n        };\n        var comm = {\n          send: sendClosure\n        };\n      }\n      window.PyViz.comms[comm_id] = comm;\n      return comm;\n    }\n    window.PyViz.comm_manager = new JupyterCommManager();\n    \n\n\nvar JS_MIME_TYPE = 'application/javascript';\nvar HTML_MIME_TYPE = 'text/html';\nvar EXEC_MIME_TYPE = 'application/vnd.holoviews_exec.v0+json';\nvar CLASS_NAME = 'output';\n\n/**\n * Render data to the DOM node\n */\nfunction render(props, node) {\n  var div = document.createElement(\"div\");\n  var script = document.createElement(\"script\");\n  node.appendChild(div);\n  node.appendChild(script);\n}\n\n/**\n * Handle when a new output is added\n */\nfunction handle_add_output(event, handle) {\n  var output_area = handle.output_area;\n  var output = handle.output;\n  if ((output.data == undefined) || (!output.data.hasOwnProperty(EXEC_MIME_TYPE))) {\n    return\n  }\n  var id = output.metadata[EXEC_MIME_TYPE][\"id\"];\n  var toinsert = output_area.element.find(\".\" + CLASS_NAME.split(' ')[0]);\n  if (id !== undefined) {\n    var nchildren = toinsert.length;\n    var html_node = toinsert[nchildren-1].children[0];\n    html_node.innerHTML = output.data[HTML_MIME_TYPE];\n    var scripts = [];\n    var nodelist = html_node.querySelectorAll(\"script\");\n    for (var i in nodelist) {\n      if (nodelist.hasOwnProperty(i)) {\n        scripts.push(nodelist[i])\n      }\n    }\n\n    scripts.forEach( function (oldScript) {\n      var newScript = document.createElement(\"script\");\n      var attrs = [];\n      var nodemap = oldScript.attributes;\n      for (var j in nodemap) {\n        if (nodemap.hasOwnProperty(j)) {\n          attrs.push(nodemap[j])\n        }\n      }\n      attrs.forEach(function(attr) { newScript.setAttribute(attr.name, attr.value) });\n      newScript.appendChild(document.createTextNode(oldScript.innerHTML));\n      oldScript.parentNode.replaceChild(newScript, oldScript);\n    });\n    if (JS_MIME_TYPE in output.data) {\n      toinsert[nchildren-1].children[1].textContent = output.data[JS_MIME_TYPE];\n    }\n    output_area._hv_plot_id = id;\n    if ((window.Bokeh !== undefined) && (id in Bokeh.index)) {\n      window.PyViz.plot_index[id] = Bokeh.index[id];\n    } else {\n      window.PyViz.plot_index[id] = null;\n    }\n  } else if (output.metadata[EXEC_MIME_TYPE][\"server_id\"] !== undefined) {\n    var bk_div = document.createElement(\"div\");\n    bk_div.innerHTML = output.data[HTML_MIME_TYPE];\n    var script_attrs = bk_div.children[0].attributes;\n    for (var i = 0; i < script_attrs.length; i++) {\n      toinsert[toinsert.length - 1].childNodes[1].setAttribute(script_attrs[i].name, script_attrs[i].value);\n    }\n    // store reference to server id on output_area\n    output_area._bokeh_server_id = output.metadata[EXEC_MIME_TYPE][\"server_id\"];\n  }\n}\n\n/**\n * Handle when an output is cleared or removed\n */\nfunction handle_clear_output(event, handle) {\n  var id = handle.cell.output_area._hv_plot_id;\n  var server_id = handle.cell.output_area._bokeh_server_id;\n  if (((id === undefined) || !(id in PyViz.plot_index)) && (server_id !== undefined)) { return; }\n  var comm = window.PyViz.comm_manager.get_client_comm(\"hv-extension-comm\", \"hv-extension-comm\", function () {});\n  if (server_id !== null) {\n    comm.send({event_type: 'server_delete', 'id': server_id});\n    return;\n  } else if (comm !== null) {\n    comm.send({event_type: 'delete', 'id': id});\n  }\n  delete PyViz.plot_index[id];\n  if ((window.Bokeh !== undefined) & (id in window.Bokeh.index)) {\n    var doc = window.Bokeh.index[id].model.document\n    doc.clear();\n    const i = window.Bokeh.documents.indexOf(doc);\n    if (i > -1) {\n      window.Bokeh.documents.splice(i, 1);\n    }\n  }\n}\n\n/**\n * Handle kernel restart event\n */\nfunction handle_kernel_cleanup(event, handle) {\n  delete PyViz.comms[\"hv-extension-comm\"];\n  window.PyViz.plot_index = {}\n}\n\n/**\n * Handle update_display_data messages\n */\nfunction handle_update_output(event, handle) {\n  handle_clear_output(event, {cell: {output_area: handle.output_area}})\n  handle_add_output(event, handle)\n}\n\nfunction register_renderer(events, OutputArea) {\n  function append_mime(data, metadata, element) {\n    // create a DOM node to render to\n    var toinsert = this.create_output_subarea(\n    metadata,\n    CLASS_NAME,\n    EXEC_MIME_TYPE\n    );\n    this.keyboard_manager.register_events(toinsert);\n    // Render to node\n    var props = {data: data, metadata: metadata[EXEC_MIME_TYPE]};\n    render(props, toinsert[0]);\n    element.append(toinsert);\n    return toinsert\n  }\n\n  events.on('output_added.OutputArea', handle_add_output);\n  events.on('output_updated.OutputArea', handle_update_output);\n  events.on('clear_output.CodeCell', handle_clear_output);\n  events.on('delete.Cell', handle_clear_output);\n  events.on('kernel_ready.Kernel', handle_kernel_cleanup);\n\n  OutputArea.prototype.register_mime_type(EXEC_MIME_TYPE, append_mime, {\n    safe: true,\n    index: 0\n  });\n}\n\nif (window.Jupyter !== undefined) {\n  try {\n    var events = require('base/js/events');\n    var OutputArea = require('notebook/js/outputarea').OutputArea;\n    if (OutputArea.prototype.mime_types().indexOf(EXEC_MIME_TYPE) == -1) {\n      register_renderer(events, OutputArea);\n    }\n  } catch(err) {\n  }\n}\n",
      "application/vnd.holoviews_load.v0+json": ""
     },
     "metadata": {},
     "output_type": "display_data"
    },
    {
     "data": {
      "text/html": [
       "<style>*[data-root-id],\n",
       "*[data-root-id] > * {\n",
       "  box-sizing: border-box;\n",
       "  font-family: var(--jp-ui-font-family);\n",
       "  font-size: var(--jp-ui-font-size1);\n",
       "  color: var(--vscode-editor-foreground, var(--jp-ui-font-color1));\n",
       "}\n",
       "\n",
       "/* Override VSCode background color */\n",
       ".cell-output-ipywidget-background:has(> .cell-output-ipywidget-background\n",
       "    > .lm-Widget\n",
       "    > *[data-root-id]),\n",
       ".cell-output-ipywidget-background:has(> .lm-Widget > *[data-root-id]) {\n",
       "  background-color: transparent !important;\n",
       "}\n",
       "</style>"
      ]
     },
     "metadata": {},
     "output_type": "display_data"
    }
   ],
   "source": [
    "import pandas as pd\n",
    "from pathlib import Path\n",
    "import matplotlib.pyplot as plt\n",
    "from shapely.geometry import Point\n",
    "import geopandas as gpd\n",
    "from geopandas import GeoDataFrame\n",
    "import hvplot.pandas\n",
    "import requests\n",
    "from api_keys import geoapify_key"
   ]
  },
  {
   "cell_type": "code",
   "execution_count": 2,
   "metadata": {},
   "outputs": [],
   "source": [
    "import numpy as np\n",
    "import seaborn as sns"
   ]
  },
  {
   "cell_type": "code",
   "execution_count": 3,
   "metadata": {},
   "outputs": [],
   "source": [
    "import warnings\n",
    "warnings.filterwarnings(\"ignore\")"
   ]
  },
  {
   "cell_type": "code",
   "execution_count": 4,
   "metadata": {},
   "outputs": [],
   "source": [
    "file = Path(\"../Resources/TurkeyEarthquakes_2008_2023.csv\")"
   ]
  },
  {
   "cell_type": "code",
   "execution_count": 5,
   "metadata": {},
   "outputs": [
    {
     "name": "stdout",
     "output_type": "stream",
     "text": [
      "<class 'pandas.core.frame.DataFrame'>\n",
      "RangeIndex: 7770 entries, 0 to 7769\n",
      "Data columns (total 22 columns):\n",
      " #   Column           Non-Null Count  Dtype  \n",
      "---  ------           --------------  -----  \n",
      " 0   time             7770 non-null   object \n",
      " 1   latitude         7770 non-null   float64\n",
      " 2   longitude        7770 non-null   float64\n",
      " 3   depth            7770 non-null   float64\n",
      " 4   mag              7770 non-null   float64\n",
      " 5   magType          7770 non-null   object \n",
      " 6   nst              3718 non-null   float64\n",
      " 7   gap              7139 non-null   float64\n",
      " 8   dmin             4421 non-null   float64\n",
      " 9   rms              5688 non-null   float64\n",
      " 10  net              7770 non-null   object \n",
      " 11  id               7770 non-null   object \n",
      " 12  updated          7770 non-null   object \n",
      " 13  place            7724 non-null   object \n",
      " 14  type             7770 non-null   object \n",
      " 15  horizontalError  4567 non-null   float64\n",
      " 16  depthError       5406 non-null   float64\n",
      " 17  magError         4954 non-null   float64\n",
      " 18  magNst           6091 non-null   float64\n",
      " 19  status           7770 non-null   object \n",
      " 20  locationSource   7770 non-null   object \n",
      " 21  magSource        7770 non-null   object \n",
      "dtypes: float64(12), object(10)\n",
      "memory usage: 1.3+ MB\n"
     ]
    }
   ],
   "source": [
    "original_df = pd.read_csv(file)\n",
    "original_df.info()"
   ]
  },
  {
   "cell_type": "code",
   "execution_count": 6,
   "metadata": {},
   "outputs": [
    {
     "data": {
      "text/plain": [
       "Index(['time', 'latitude', 'longitude', 'depth', 'mag', 'magType', 'nst',\n",
       "       'gap', 'dmin', 'rms', 'net', 'id', 'updated', 'place', 'type',\n",
       "       'horizontalError', 'depthError', 'magError', 'magNst', 'status',\n",
       "       'locationSource', 'magSource'],\n",
       "      dtype='object')"
      ]
     },
     "execution_count": 6,
     "metadata": {},
     "output_type": "execute_result"
    }
   ],
   "source": [
    "original_df.columns"
   ]
  },
  {
   "cell_type": "code",
   "execution_count": 7,
   "metadata": {},
   "outputs": [
    {
     "name": "stdout",
     "output_type": "stream",
     "text": [
      "<class 'pandas.core.frame.DataFrame'>\n",
      "RangeIndex: 7770 entries, 0 to 7769\n",
      "Data columns (total 13 columns):\n",
      " #   Column          Non-Null Count  Dtype  \n",
      "---  ------          --------------  -----  \n",
      " 0   time            7770 non-null   object \n",
      " 1   latitude        7770 non-null   float64\n",
      " 2   longitude       7770 non-null   float64\n",
      " 3   depth           7770 non-null   float64\n",
      " 4   mag             7770 non-null   float64\n",
      " 5   magType         7770 non-null   object \n",
      " 6   net             7770 non-null   object \n",
      " 7   id              7770 non-null   object \n",
      " 8   updated         7770 non-null   object \n",
      " 9   type            7770 non-null   object \n",
      " 10  status          7770 non-null   object \n",
      " 11  locationSource  7770 non-null   object \n",
      " 12  magSource       7770 non-null   object \n",
      "dtypes: float64(4), object(9)\n",
      "memory usage: 789.3+ KB\n"
     ]
    }
   ],
   "source": [
    "df = original_df[['time', 'latitude', 'longitude', 'depth', \n",
    "                  'mag', 'magType', 'net', 'id', 'updated',\n",
    "                  'type', 'status','locationSource', 'magSource']].copy()\n",
    "df.info()"
   ]
  },
  {
   "cell_type": "code",
   "execution_count": 8,
   "metadata": {},
   "outputs": [
    {
     "data": {
      "text/html": [
       "<div>\n",
       "<style scoped>\n",
       "    .dataframe tbody tr th:only-of-type {\n",
       "        vertical-align: middle;\n",
       "    }\n",
       "\n",
       "    .dataframe tbody tr th {\n",
       "        vertical-align: top;\n",
       "    }\n",
       "\n",
       "    .dataframe thead th {\n",
       "        text-align: right;\n",
       "    }\n",
       "</style>\n",
       "<table border=\"1\" class=\"dataframe\">\n",
       "  <thead>\n",
       "    <tr style=\"text-align: right;\">\n",
       "      <th></th>\n",
       "      <th>time</th>\n",
       "      <th>latitude</th>\n",
       "      <th>longitude</th>\n",
       "      <th>depth</th>\n",
       "      <th>mag</th>\n",
       "      <th>magType</th>\n",
       "      <th>net</th>\n",
       "      <th>id</th>\n",
       "      <th>updated</th>\n",
       "      <th>type</th>\n",
       "      <th>status</th>\n",
       "      <th>locationSource</th>\n",
       "      <th>magSource</th>\n",
       "    </tr>\n",
       "  </thead>\n",
       "  <tbody>\n",
       "    <tr>\n",
       "      <th>0</th>\n",
       "      <td>2023-07-19T14:14:47.038Z</td>\n",
       "      <td>36.4116</td>\n",
       "      <td>53.9089</td>\n",
       "      <td>10.000</td>\n",
       "      <td>4.3</td>\n",
       "      <td>mb</td>\n",
       "      <td>us</td>\n",
       "      <td>us7000kgw7</td>\n",
       "      <td>2023-07-19T20:19:41.040Z</td>\n",
       "      <td>earthquake</td>\n",
       "      <td>reviewed</td>\n",
       "      <td>us</td>\n",
       "      <td>us</td>\n",
       "    </tr>\n",
       "    <tr>\n",
       "      <th>1</th>\n",
       "      <td>2023-07-18T20:30:55.209Z</td>\n",
       "      <td>45.0385</td>\n",
       "      <td>23.0251</td>\n",
       "      <td>12.806</td>\n",
       "      <td>4.0</td>\n",
       "      <td>mb</td>\n",
       "      <td>us</td>\n",
       "      <td>us7000kgn3</td>\n",
       "      <td>2023-07-19T04:47:16.666Z</td>\n",
       "      <td>earthquake</td>\n",
       "      <td>reviewed</td>\n",
       "      <td>us</td>\n",
       "      <td>us</td>\n",
       "    </tr>\n",
       "    <tr>\n",
       "      <th>2</th>\n",
       "      <td>2023-07-17T12:04:26.739Z</td>\n",
       "      <td>36.5808</td>\n",
       "      <td>23.0401</td>\n",
       "      <td>70.563</td>\n",
       "      <td>4.2</td>\n",
       "      <td>mb</td>\n",
       "      <td>us</td>\n",
       "      <td>us7000kgby</td>\n",
       "      <td>2023-07-17T12:24:40.040Z</td>\n",
       "      <td>earthquake</td>\n",
       "      <td>reviewed</td>\n",
       "      <td>us</td>\n",
       "      <td>us</td>\n",
       "    </tr>\n",
       "    <tr>\n",
       "      <th>3</th>\n",
       "      <td>2023-07-11T09:52:19.105Z</td>\n",
       "      <td>39.3973</td>\n",
       "      <td>26.2615</td>\n",
       "      <td>10.000</td>\n",
       "      <td>3.4</td>\n",
       "      <td>ml</td>\n",
       "      <td>us</td>\n",
       "      <td>us7000ketw</td>\n",
       "      <td>2023-07-11T13:19:44.229Z</td>\n",
       "      <td>earthquake</td>\n",
       "      <td>reviewed</td>\n",
       "      <td>us</td>\n",
       "      <td>us</td>\n",
       "    </tr>\n",
       "    <tr>\n",
       "      <th>4</th>\n",
       "      <td>2023-07-09T02:27:36.163Z</td>\n",
       "      <td>38.0000</td>\n",
       "      <td>36.3643</td>\n",
       "      <td>5.736</td>\n",
       "      <td>3.5</td>\n",
       "      <td>ml</td>\n",
       "      <td>us</td>\n",
       "      <td>us6000kr1s</td>\n",
       "      <td>2023-07-10T02:41:16.388Z</td>\n",
       "      <td>earthquake</td>\n",
       "      <td>reviewed</td>\n",
       "      <td>us</td>\n",
       "      <td>us</td>\n",
       "    </tr>\n",
       "  </tbody>\n",
       "</table>\n",
       "</div>"
      ],
      "text/plain": [
       "                       time  latitude  longitude   depth  mag magType net  \\\n",
       "0  2023-07-19T14:14:47.038Z   36.4116    53.9089  10.000  4.3      mb  us   \n",
       "1  2023-07-18T20:30:55.209Z   45.0385    23.0251  12.806  4.0      mb  us   \n",
       "2  2023-07-17T12:04:26.739Z   36.5808    23.0401  70.563  4.2      mb  us   \n",
       "3  2023-07-11T09:52:19.105Z   39.3973    26.2615  10.000  3.4      ml  us   \n",
       "4  2023-07-09T02:27:36.163Z   38.0000    36.3643   5.736  3.5      ml  us   \n",
       "\n",
       "           id                   updated        type    status locationSource  \\\n",
       "0  us7000kgw7  2023-07-19T20:19:41.040Z  earthquake  reviewed             us   \n",
       "1  us7000kgn3  2023-07-19T04:47:16.666Z  earthquake  reviewed             us   \n",
       "2  us7000kgby  2023-07-17T12:24:40.040Z  earthquake  reviewed             us   \n",
       "3  us7000ketw  2023-07-11T13:19:44.229Z  earthquake  reviewed             us   \n",
       "4  us6000kr1s  2023-07-10T02:41:16.388Z  earthquake  reviewed             us   \n",
       "\n",
       "  magSource  \n",
       "0        us  \n",
       "1        us  \n",
       "2        us  \n",
       "3        us  \n",
       "4        us  "
      ]
     },
     "execution_count": 8,
     "metadata": {},
     "output_type": "execute_result"
    }
   ],
   "source": [
    "df.head()"
   ]
  },
  {
   "cell_type": "code",
   "execution_count": 9,
   "metadata": {},
   "outputs": [],
   "source": [
    "df['year'] = pd.DatetimeIndex(df['time']).year\n",
    "df['month'] = pd.DatetimeIndex(df['time']).month"
   ]
  },
  {
   "cell_type": "code",
   "execution_count": 10,
   "metadata": {},
   "outputs": [
    {
     "data": {
      "text/html": [
       "<div>\n",
       "<style scoped>\n",
       "    .dataframe tbody tr th:only-of-type {\n",
       "        vertical-align: middle;\n",
       "    }\n",
       "\n",
       "    .dataframe tbody tr th {\n",
       "        vertical-align: top;\n",
       "    }\n",
       "\n",
       "    .dataframe thead th {\n",
       "        text-align: right;\n",
       "    }\n",
       "</style>\n",
       "<table border=\"1\" class=\"dataframe\">\n",
       "  <thead>\n",
       "    <tr style=\"text-align: right;\">\n",
       "      <th></th>\n",
       "      <th>time</th>\n",
       "      <th>latitude</th>\n",
       "      <th>longitude</th>\n",
       "      <th>depth</th>\n",
       "      <th>mag</th>\n",
       "      <th>magType</th>\n",
       "      <th>net</th>\n",
       "      <th>id</th>\n",
       "      <th>updated</th>\n",
       "      <th>type</th>\n",
       "      <th>status</th>\n",
       "      <th>locationSource</th>\n",
       "      <th>magSource</th>\n",
       "      <th>year</th>\n",
       "      <th>month</th>\n",
       "    </tr>\n",
       "  </thead>\n",
       "  <tbody>\n",
       "    <tr>\n",
       "      <th>0</th>\n",
       "      <td>2023-07-19T14:14:47.038Z</td>\n",
       "      <td>36.4116</td>\n",
       "      <td>53.9089</td>\n",
       "      <td>10.000</td>\n",
       "      <td>4.3</td>\n",
       "      <td>mb</td>\n",
       "      <td>us</td>\n",
       "      <td>us7000kgw7</td>\n",
       "      <td>2023-07-19T20:19:41.040Z</td>\n",
       "      <td>earthquake</td>\n",
       "      <td>reviewed</td>\n",
       "      <td>us</td>\n",
       "      <td>us</td>\n",
       "      <td>2023</td>\n",
       "      <td>7</td>\n",
       "    </tr>\n",
       "    <tr>\n",
       "      <th>1</th>\n",
       "      <td>2023-07-18T20:30:55.209Z</td>\n",
       "      <td>45.0385</td>\n",
       "      <td>23.0251</td>\n",
       "      <td>12.806</td>\n",
       "      <td>4.0</td>\n",
       "      <td>mb</td>\n",
       "      <td>us</td>\n",
       "      <td>us7000kgn3</td>\n",
       "      <td>2023-07-19T04:47:16.666Z</td>\n",
       "      <td>earthquake</td>\n",
       "      <td>reviewed</td>\n",
       "      <td>us</td>\n",
       "      <td>us</td>\n",
       "      <td>2023</td>\n",
       "      <td>7</td>\n",
       "    </tr>\n",
       "    <tr>\n",
       "      <th>2</th>\n",
       "      <td>2023-07-17T12:04:26.739Z</td>\n",
       "      <td>36.5808</td>\n",
       "      <td>23.0401</td>\n",
       "      <td>70.563</td>\n",
       "      <td>4.2</td>\n",
       "      <td>mb</td>\n",
       "      <td>us</td>\n",
       "      <td>us7000kgby</td>\n",
       "      <td>2023-07-17T12:24:40.040Z</td>\n",
       "      <td>earthquake</td>\n",
       "      <td>reviewed</td>\n",
       "      <td>us</td>\n",
       "      <td>us</td>\n",
       "      <td>2023</td>\n",
       "      <td>7</td>\n",
       "    </tr>\n",
       "    <tr>\n",
       "      <th>3</th>\n",
       "      <td>2023-07-11T09:52:19.105Z</td>\n",
       "      <td>39.3973</td>\n",
       "      <td>26.2615</td>\n",
       "      <td>10.000</td>\n",
       "      <td>3.4</td>\n",
       "      <td>ml</td>\n",
       "      <td>us</td>\n",
       "      <td>us7000ketw</td>\n",
       "      <td>2023-07-11T13:19:44.229Z</td>\n",
       "      <td>earthquake</td>\n",
       "      <td>reviewed</td>\n",
       "      <td>us</td>\n",
       "      <td>us</td>\n",
       "      <td>2023</td>\n",
       "      <td>7</td>\n",
       "    </tr>\n",
       "    <tr>\n",
       "      <th>4</th>\n",
       "      <td>2023-07-09T02:27:36.163Z</td>\n",
       "      <td>38.0000</td>\n",
       "      <td>36.3643</td>\n",
       "      <td>5.736</td>\n",
       "      <td>3.5</td>\n",
       "      <td>ml</td>\n",
       "      <td>us</td>\n",
       "      <td>us6000kr1s</td>\n",
       "      <td>2023-07-10T02:41:16.388Z</td>\n",
       "      <td>earthquake</td>\n",
       "      <td>reviewed</td>\n",
       "      <td>us</td>\n",
       "      <td>us</td>\n",
       "      <td>2023</td>\n",
       "      <td>7</td>\n",
       "    </tr>\n",
       "  </tbody>\n",
       "</table>\n",
       "</div>"
      ],
      "text/plain": [
       "                       time  latitude  longitude   depth  mag magType net  \\\n",
       "0  2023-07-19T14:14:47.038Z   36.4116    53.9089  10.000  4.3      mb  us   \n",
       "1  2023-07-18T20:30:55.209Z   45.0385    23.0251  12.806  4.0      mb  us   \n",
       "2  2023-07-17T12:04:26.739Z   36.5808    23.0401  70.563  4.2      mb  us   \n",
       "3  2023-07-11T09:52:19.105Z   39.3973    26.2615  10.000  3.4      ml  us   \n",
       "4  2023-07-09T02:27:36.163Z   38.0000    36.3643   5.736  3.5      ml  us   \n",
       "\n",
       "           id                   updated        type    status locationSource  \\\n",
       "0  us7000kgw7  2023-07-19T20:19:41.040Z  earthquake  reviewed             us   \n",
       "1  us7000kgn3  2023-07-19T04:47:16.666Z  earthquake  reviewed             us   \n",
       "2  us7000kgby  2023-07-17T12:24:40.040Z  earthquake  reviewed             us   \n",
       "3  us7000ketw  2023-07-11T13:19:44.229Z  earthquake  reviewed             us   \n",
       "4  us6000kr1s  2023-07-10T02:41:16.388Z  earthquake  reviewed             us   \n",
       "\n",
       "  magSource  year  month  \n",
       "0        us  2023      7  \n",
       "1        us  2023      7  \n",
       "2        us  2023      7  \n",
       "3        us  2023      7  \n",
       "4        us  2023      7  "
      ]
     },
     "execution_count": 10,
     "metadata": {},
     "output_type": "execute_result"
    }
   ],
   "source": [
    "df.head()"
   ]
  },
  {
   "cell_type": "code",
   "execution_count": 11,
   "metadata": {},
   "outputs": [
    {
     "data": {
      "text/plain": [
       "array(['earthquake', 'explosion'], dtype=object)"
      ]
     },
     "execution_count": 11,
     "metadata": {},
     "output_type": "execute_result"
    }
   ],
   "source": [
    "df['type'].unique()"
   ]
  },
  {
   "cell_type": "markdown",
   "metadata": {},
   "source": [
    "## EDA Questions "
   ]
  },
  {
   "cell_type": "markdown",
   "metadata": {},
   "source": [
    "### 1. What was the date and time of the most disastrous earthquake recorded in Turkey according to the dataset?\n"
   ]
  },
  {
   "cell_type": "code",
   "execution_count": 12,
   "metadata": {},
   "outputs": [
    {
     "data": {
      "text/html": [
       "<div>\n",
       "<style scoped>\n",
       "    .dataframe tbody tr th:only-of-type {\n",
       "        vertical-align: middle;\n",
       "    }\n",
       "\n",
       "    .dataframe tbody tr th {\n",
       "        vertical-align: top;\n",
       "    }\n",
       "\n",
       "    .dataframe thead th {\n",
       "        text-align: right;\n",
       "    }\n",
       "</style>\n",
       "<table border=\"1\" class=\"dataframe\">\n",
       "  <thead>\n",
       "    <tr style=\"text-align: right;\">\n",
       "      <th></th>\n",
       "      <th>time</th>\n",
       "      <th>latitude</th>\n",
       "      <th>longitude</th>\n",
       "      <th>depth</th>\n",
       "      <th>mag</th>\n",
       "      <th>magType</th>\n",
       "      <th>net</th>\n",
       "      <th>id</th>\n",
       "      <th>updated</th>\n",
       "      <th>type</th>\n",
       "      <th>status</th>\n",
       "      <th>locationSource</th>\n",
       "      <th>magSource</th>\n",
       "      <th>year</th>\n",
       "      <th>month</th>\n",
       "    </tr>\n",
       "  </thead>\n",
       "  <tbody>\n",
       "    <tr>\n",
       "      <th>709</th>\n",
       "      <td>2023-02-06T01:17:34.342Z</td>\n",
       "      <td>37.2256</td>\n",
       "      <td>37.0143</td>\n",
       "      <td>10.000</td>\n",
       "      <td>7.8</td>\n",
       "      <td>mww</td>\n",
       "      <td>us</td>\n",
       "      <td>us6000jllz</td>\n",
       "      <td>2023-07-19T08:32:38.718Z</td>\n",
       "      <td>earthquake</td>\n",
       "      <td>reviewed</td>\n",
       "      <td>us</td>\n",
       "      <td>us</td>\n",
       "      <td>2023</td>\n",
       "      <td>2</td>\n",
       "    </tr>\n",
       "    <tr>\n",
       "      <th>605</th>\n",
       "      <td>2023-02-06T10:24:48.811Z</td>\n",
       "      <td>38.0106</td>\n",
       "      <td>37.1962</td>\n",
       "      <td>7.432</td>\n",
       "      <td>7.5</td>\n",
       "      <td>mww</td>\n",
       "      <td>us</td>\n",
       "      <td>us6000jlqa</td>\n",
       "      <td>2023-06-17T18:00:10.939Z</td>\n",
       "      <td>earthquake</td>\n",
       "      <td>reviewed</td>\n",
       "      <td>us</td>\n",
       "      <td>us</td>\n",
       "      <td>2023</td>\n",
       "      <td>2</td>\n",
       "    </tr>\n",
       "    <tr>\n",
       "      <th>3382</th>\n",
       "      <td>2017-11-12T18:18:17.180Z</td>\n",
       "      <td>34.9109</td>\n",
       "      <td>45.9592</td>\n",
       "      <td>19.000</td>\n",
       "      <td>7.3</td>\n",
       "      <td>mww</td>\n",
       "      <td>us</td>\n",
       "      <td>us2000bmcg</td>\n",
       "      <td>2022-05-03T20:02:36.492Z</td>\n",
       "      <td>earthquake</td>\n",
       "      <td>reviewed</td>\n",
       "      <td>us</td>\n",
       "      <td>us</td>\n",
       "      <td>2017</td>\n",
       "      <td>11</td>\n",
       "    </tr>\n",
       "    <tr>\n",
       "      <th>5871</th>\n",
       "      <td>2011-10-23T10:41:23.250Z</td>\n",
       "      <td>38.7210</td>\n",
       "      <td>43.5080</td>\n",
       "      <td>18.000</td>\n",
       "      <td>7.1</td>\n",
       "      <td>mww</td>\n",
       "      <td>us</td>\n",
       "      <td>usp000j9rr</td>\n",
       "      <td>2022-04-08T22:08:47.620Z</td>\n",
       "      <td>earthquake</td>\n",
       "      <td>reviewed</td>\n",
       "      <td>us</td>\n",
       "      <td>us</td>\n",
       "      <td>2011</td>\n",
       "      <td>10</td>\n",
       "    </tr>\n",
       "    <tr>\n",
       "      <th>1734</th>\n",
       "      <td>2020-10-30T11:51:27.348Z</td>\n",
       "      <td>37.8973</td>\n",
       "      <td>26.7838</td>\n",
       "      <td>21.000</td>\n",
       "      <td>7.0</td>\n",
       "      <td>mww</td>\n",
       "      <td>us</td>\n",
       "      <td>us7000c7y0</td>\n",
       "      <td>2023-03-28T14:51:23.263Z</td>\n",
       "      <td>earthquake</td>\n",
       "      <td>reviewed</td>\n",
       "      <td>us</td>\n",
       "      <td>us</td>\n",
       "      <td>2020</td>\n",
       "      <td>10</td>\n",
       "    </tr>\n",
       "  </tbody>\n",
       "</table>\n",
       "</div>"
      ],
      "text/plain": [
       "                          time  latitude  longitude   depth  mag magType net  \\\n",
       "709   2023-02-06T01:17:34.342Z   37.2256    37.0143  10.000  7.8     mww  us   \n",
       "605   2023-02-06T10:24:48.811Z   38.0106    37.1962   7.432  7.5     mww  us   \n",
       "3382  2017-11-12T18:18:17.180Z   34.9109    45.9592  19.000  7.3     mww  us   \n",
       "5871  2011-10-23T10:41:23.250Z   38.7210    43.5080  18.000  7.1     mww  us   \n",
       "1734  2020-10-30T11:51:27.348Z   37.8973    26.7838  21.000  7.0     mww  us   \n",
       "\n",
       "              id                   updated        type    status  \\\n",
       "709   us6000jllz  2023-07-19T08:32:38.718Z  earthquake  reviewed   \n",
       "605   us6000jlqa  2023-06-17T18:00:10.939Z  earthquake  reviewed   \n",
       "3382  us2000bmcg  2022-05-03T20:02:36.492Z  earthquake  reviewed   \n",
       "5871  usp000j9rr  2022-04-08T22:08:47.620Z  earthquake  reviewed   \n",
       "1734  us7000c7y0  2023-03-28T14:51:23.263Z  earthquake  reviewed   \n",
       "\n",
       "     locationSource magSource  year  month  \n",
       "709              us        us  2023      2  \n",
       "605              us        us  2023      2  \n",
       "3382             us        us  2017     11  \n",
       "5871             us        us  2011     10  \n",
       "1734             us        us  2020     10  "
      ]
     },
     "execution_count": 12,
     "metadata": {},
     "output_type": "execute_result"
    }
   ],
   "source": [
    "df_increase = df.copy()\n",
    "df_increase.sort_values(by='mag', ascending=False, inplace=True)\n",
    "df_disastrous = df_increase.head(5)\n",
    "df_disastrous "
   ]
  },
  {
   "cell_type": "code",
   "execution_count": 13,
   "metadata": {},
   "outputs": [
    {
     "data": {
      "image/png": "[encoded data removed]",
      "text/plain": [
       "<Figure size 600x300 with 1 Axes>"
      ]
     },
     "metadata": {},
     "output_type": "display_data"
    }
   ],
   "source": [
    "x= pd.to_datetime(df_disastrous['time'], format='%Y-%m-%dT%H:%M:%S.%fZ').dt.strftime('%Y-%m-%d %H:%M:%S')\n",
    "y= df_disastrous['mag']\n",
    "plt.figure(figsize=(6, 3))\n",
    "plt.bar(x, y, color='crimson')\n",
    "plt.xticks(rotation = 65)\n",
    "plt.title('The five largest earthquakes \\non the richter scale in the last 15 years')\n",
    "#\n",
    "plt.ylim(6.9, 7.9)\n",
    "plt.show()"
   ]
  },
  {
   "cell_type": "markdown",
   "metadata": {},
   "source": [
    "### 2. During what period of time did the seismic activity increase in turkey?"
   ]
  },
  {
   "cell_type": "code",
   "execution_count": 14,
   "metadata": {},
   "outputs": [],
   "source": [
    "df_time_range = df.copy()\n",
    "df_time_range = df_time_range.query(\"'2022-02-23' < time <= '2023-06-24'\")\n",
    "df_increase = df_time_range.copy()\n",
    "df_time_range = df_time_range.query(\"mag >= 5\")\n",
    "df_time_range.sort_values(by=['time'], ascending=True, inplace=True)"
   ]
  },
  {
   "cell_type": "code",
   "execution_count": 15,
   "metadata": {},
   "outputs": [
    {
     "data": {
      "text/html": [
       "<div>\n",
       "<style scoped>\n",
       "    .dataframe tbody tr th:only-of-type {\n",
       "        vertical-align: middle;\n",
       "    }\n",
       "\n",
       "    .dataframe tbody tr th {\n",
       "        vertical-align: top;\n",
       "    }\n",
       "\n",
       "    .dataframe thead th {\n",
       "        text-align: right;\n",
       "    }\n",
       "</style>\n",
       "<table border=\"1\" class=\"dataframe\">\n",
       "  <thead>\n",
       "    <tr style=\"text-align: right;\">\n",
       "      <th></th>\n",
       "      <th>time</th>\n",
       "      <th>latitude</th>\n",
       "      <th>longitude</th>\n",
       "      <th>depth</th>\n",
       "      <th>mag</th>\n",
       "      <th>magType</th>\n",
       "      <th>net</th>\n",
       "      <th>id</th>\n",
       "      <th>updated</th>\n",
       "      <th>type</th>\n",
       "      <th>status</th>\n",
       "      <th>locationSource</th>\n",
       "      <th>magSource</th>\n",
       "      <th>year</th>\n",
       "      <th>month</th>\n",
       "      <th>color</th>\n",
       "    </tr>\n",
       "  </thead>\n",
       "  <tbody>\n",
       "    <tr>\n",
       "      <th>1015</th>\n",
       "      <td>2022-04-09T14:02:15.496Z</td>\n",
       "      <td>38.1155</td>\n",
       "      <td>38.6617</td>\n",
       "      <td>10.000</td>\n",
       "      <td>5.3</td>\n",
       "      <td>mww</td>\n",
       "      <td>us</td>\n",
       "      <td>us7000h0wh</td>\n",
       "      <td>2022-06-20T22:07:34.040Z</td>\n",
       "      <td>earthquake</td>\n",
       "      <td>reviewed</td>\n",
       "      <td>us</td>\n",
       "      <td>us</td>\n",
       "      <td>2022</td>\n",
       "      <td>4</td>\n",
       "      <td>gold</td>\n",
       "    </tr>\n",
       "    <tr>\n",
       "      <th>943</th>\n",
       "      <td>2022-06-10T01:40:21.404Z</td>\n",
       "      <td>34.8354</td>\n",
       "      <td>33.8695</td>\n",
       "      <td>47.150</td>\n",
       "      <td>5.0</td>\n",
       "      <td>mww</td>\n",
       "      <td>us</td>\n",
       "      <td>us7000hgcl</td>\n",
       "      <td>2022-08-13T21:52:43.040Z</td>\n",
       "      <td>earthquake</td>\n",
       "      <td>reviewed</td>\n",
       "      <td>us</td>\n",
       "      <td>us</td>\n",
       "      <td>2022</td>\n",
       "      <td>6</td>\n",
       "      <td>palegreen</td>\n",
       "    </tr>\n",
       "    <tr>\n",
       "      <th>939</th>\n",
       "      <td>2022-06-12T18:35:20.871Z</td>\n",
       "      <td>38.7366</td>\n",
       "      <td>43.5068</td>\n",
       "      <td>10.000</td>\n",
       "      <td>5.2</td>\n",
       "      <td>mww</td>\n",
       "      <td>us</td>\n",
       "      <td>us7000hgyu</td>\n",
       "      <td>2022-08-21T00:16:32.040Z</td>\n",
       "      <td>earthquake</td>\n",
       "      <td>reviewed</td>\n",
       "      <td>us</td>\n",
       "      <td>us</td>\n",
       "      <td>2022</td>\n",
       "      <td>6</td>\n",
       "      <td>gold</td>\n",
       "    </tr>\n",
       "    <tr>\n",
       "      <th>890</th>\n",
       "      <td>2022-08-14T03:24:22.958Z</td>\n",
       "      <td>37.9952</td>\n",
       "      <td>27.1512</td>\n",
       "      <td>11.697</td>\n",
       "      <td>5.0</td>\n",
       "      <td>mww</td>\n",
       "      <td>us</td>\n",
       "      <td>us6000ianw</td>\n",
       "      <td>2022-10-28T02:25:49.040Z</td>\n",
       "      <td>earthquake</td>\n",
       "      <td>reviewed</td>\n",
       "      <td>us</td>\n",
       "      <td>us</td>\n",
       "      <td>2022</td>\n",
       "      <td>8</td>\n",
       "      <td>palegreen</td>\n",
       "    </tr>\n",
       "    <tr>\n",
       "      <th>875</th>\n",
       "      <td>2022-08-31T10:10:11.426Z</td>\n",
       "      <td>37.5527</td>\n",
       "      <td>26.8515</td>\n",
       "      <td>10.926</td>\n",
       "      <td>5.4</td>\n",
       "      <td>mww</td>\n",
       "      <td>us</td>\n",
       "      <td>us7000i3yp</td>\n",
       "      <td>2022-11-06T04:36:59.040Z</td>\n",
       "      <td>earthquake</td>\n",
       "      <td>reviewed</td>\n",
       "      <td>us</td>\n",
       "      <td>us</td>\n",
       "      <td>2022</td>\n",
       "      <td>8</td>\n",
       "      <td>gold</td>\n",
       "    </tr>\n",
       "  </tbody>\n",
       "</table>\n",
       "</div>"
      ],
      "text/plain": [
       "                          time  latitude  longitude   depth  mag magType net  \\\n",
       "1015  2022-04-09T14:02:15.496Z   38.1155    38.6617  10.000  5.3     mww  us   \n",
       "943   2022-06-10T01:40:21.404Z   34.8354    33.8695  47.150  5.0     mww  us   \n",
       "939   2022-06-12T18:35:20.871Z   38.7366    43.5068  10.000  5.2     mww  us   \n",
       "890   2022-08-14T03:24:22.958Z   37.9952    27.1512  11.697  5.0     mww  us   \n",
       "875   2022-08-31T10:10:11.426Z   37.5527    26.8515  10.926  5.4     mww  us   \n",
       "\n",
       "              id                   updated        type    status  \\\n",
       "1015  us7000h0wh  2022-06-20T22:07:34.040Z  earthquake  reviewed   \n",
       "943   us7000hgcl  2022-08-13T21:52:43.040Z  earthquake  reviewed   \n",
       "939   us7000hgyu  2022-08-21T00:16:32.040Z  earthquake  reviewed   \n",
       "890   us6000ianw  2022-10-28T02:25:49.040Z  earthquake  reviewed   \n",
       "875   us7000i3yp  2022-11-06T04:36:59.040Z  earthquake  reviewed   \n",
       "\n",
       "     locationSource magSource  year  month      color  \n",
       "1015             us        us  2022      4       gold  \n",
       "943              us        us  2022      6  palegreen  \n",
       "939              us        us  2022      6       gold  \n",
       "890              us        us  2022      8  palegreen  \n",
       "875              us        us  2022      8       gold  "
      ]
     },
     "execution_count": 15,
     "metadata": {},
     "output_type": "execute_result"
    }
   ],
   "source": [
    "bins = [0, 5.0, 6.0, 7.0, 10.0]\n",
    "labels = ['palegreen', 'gold', 'darkorange', 'crimson']\n",
    "df_time_range['color'] = pd.cut(df['mag'], bins=bins, labels=labels)\n",
    "df_time_range.head()"
   ]
  },
  {
   "cell_type": "code",
   "execution_count": 16,
   "metadata": {},
   "outputs": [
    {
     "data": {
      "image/png": "[encoded data removed]",
      "text/plain": [
       "<Figure size 2100x600 with 1 Axes>"
      ]
     },
     "metadata": {},
     "output_type": "display_data"
    }
   ],
   "source": [
    "x= pd.to_datetime(df_time_range['time'], format='%Y-%m-%dT%H:%M:%S.%fZ').dt.strftime('%Y-%m-%d %H:%M:%S')\n",
    "y= df_time_range['mag']\n",
    "plt.figure(figsize=(21, 6))\n",
    "plt.xticks(rotation = 90)\n",
    "#plt.xticks([])\n",
    "plt.axvline(x=20.5)\n",
    "plt.axvline(x=60.5)\n",
    "plt.title('Chart 4')\n",
    "plt.text(1, 7.5, 'february 2022 to january 2023')\n",
    "plt.text(38, 7.5, 'february 2023')\n",
    "plt.text(63, 7.5, 'march to june 2023')\n",
    "plt.tick_params(axis='x', pad=0)\n",
    "plt.ylim(4.8, 8)\n",
    "plt.bar(x, y, color=df_time_range['color'])\n",
    "plt.show()"
   ]
  },
  {
   "cell_type": "code",
   "execution_count": 17,
   "metadata": {},
   "outputs": [],
   "source": [
    "df_disastrous_copy = df.copy()\n",
    "df_disastrous_copy = df_disastrous_copy.query(\"mag >= 5\")\n",
    "df_disastrous_copy['year'] = df_disastrous_copy['year'].astype(str)\n",
    "df_disastrous_copy['month'] = df_disastrous_copy['month'].astype(str)\n",
    "df_disastrous_copy['year_month'] = df_disastrous_copy['year'] +'-'+ df_disastrous_copy['month']\n",
    "df_disastrous_copy = df_disastrous_copy.query(\"'2021-06-24' < time <= '2023-06-24'\")\n"
   ]
  },
  {
   "cell_type": "code",
   "execution_count": 18,
   "metadata": {},
   "outputs": [],
   "source": [
    "grouped = df_disastrous_copy.groupby(['year_month']).size().reset_index(name='count')\n",
    "grouped['sort']=[5,6,7,1,2,3,4,8,13,14,15,9,10,11,12,16,17,18,19,20,21]\n",
    "grouped.sort_values(by='sort', ascending=True, inplace=True)"
   ]
  },
  {
   "cell_type": "code",
   "execution_count": 19,
   "metadata": {},
   "outputs": [],
   "source": [
    "bins = [0, 2, 10, 100]\n",
    "labels = ['gold', 'darkorange', 'crimson']\n",
    "grouped['color'] = pd.cut(grouped['count'], bins=bins, labels=labels)"
   ]
  },
  {
   "cell_type": "code",
   "execution_count": 20,
   "metadata": {},
   "outputs": [
    {
     "data": {
      "image/png": "[encoded data removed]",
      "text/plain": [
       "<Figure size 800x400 with 1 Axes>"
      ]
     },
     "metadata": {},
     "output_type": "display_data"
    }
   ],
   "source": [
    "x= grouped['year_month']\n",
    "y= grouped['count']\n",
    "plt.figure(figsize=(8, 4))\n",
    "#plt.title('EarthQuake amount per month from june 2021 to june 2023 \\n greater than 5 on richter scale')\n",
    "plt.title('Chart 3')\n",
    "plt.xticks(rotation = 90)\n",
    "plt.bar(x, y, color=grouped['color'])\n",
    "plt.show()"
   ]
  },
  {
   "cell_type": "code",
   "execution_count": 21,
   "metadata": {},
   "outputs": [],
   "source": [
    "grouped2 = df_disastrous_copy.groupby(['year_month'])['mag'].max().reset_index() \n",
    "\n",
    "bins = [0, 5.0, 6.0, 7.0, 10.0]\n",
    "labels = ['palegreen', 'gold', 'darkorange', 'crimson']\n",
    "grouped2['color'] = pd.cut(grouped2['mag'], bins=bins, labels=labels)\n",
    "\n",
    "grouped2['sort']=[5,6,7,1,2,3,4,8,14,15,16,9,10,11,12,13,17,18,19,20,21]\n",
    "grouped2.sort_values(by='sort', ascending=True, inplace=True)\n"
   ]
  },
  {
   "cell_type": "code",
   "execution_count": 22,
   "metadata": {},
   "outputs": [
    {
     "data": {
      "image/png": "[encoded data removed]",
      "text/plain": [
       "<Figure size 600x300 with 1 Axes>"
      ]
     },
     "metadata": {},
     "output_type": "display_data"
    }
   ],
   "source": [
    "x= grouped2['year_month']\n",
    "y= grouped2['mag']\n",
    "plt.figure(figsize=(6, 3))\n",
    "#plt.title('The greatest Earthquakes per month from june 2021 to june 2023 \\n greater than 5 on richter scale')\n",
    "plt.title('Chart 2')\n",
    "plt.xticks(rotation = 90)\n",
    "plt.ylim(4.5, 8)\n",
    "plt.bar(x, y, color=grouped2['color'])\n",
    "plt.show()"
   ]
  },
  {
   "cell_type": "markdown",
   "metadata": {},
   "source": [
    "### 3. What was the magnitude of the most devastating earthquake in Turkey's history according to the dataset?"
   ]
  },
  {
   "cell_type": "code",
   "execution_count": 23,
   "metadata": {},
   "outputs": [
    {
     "data": {
      "text/html": [
       "<div>\n",
       "<style scoped>\n",
       "    .dataframe tbody tr th:only-of-type {\n",
       "        vertical-align: middle;\n",
       "    }\n",
       "\n",
       "    .dataframe tbody tr th {\n",
       "        vertical-align: top;\n",
       "    }\n",
       "\n",
       "    .dataframe thead th {\n",
       "        text-align: right;\n",
       "    }\n",
       "</style>\n",
       "<table border=\"1\" class=\"dataframe\">\n",
       "  <thead>\n",
       "    <tr style=\"text-align: right;\">\n",
       "      <th></th>\n",
       "      <th>time</th>\n",
       "      <th>latitude</th>\n",
       "      <th>longitude</th>\n",
       "      <th>depth</th>\n",
       "      <th>mag</th>\n",
       "      <th>magType</th>\n",
       "      <th>net</th>\n",
       "      <th>id</th>\n",
       "      <th>updated</th>\n",
       "      <th>type</th>\n",
       "      <th>status</th>\n",
       "      <th>locationSource</th>\n",
       "      <th>magSource</th>\n",
       "      <th>year</th>\n",
       "      <th>month</th>\n",
       "    </tr>\n",
       "  </thead>\n",
       "  <tbody>\n",
       "    <tr>\n",
       "      <th>709</th>\n",
       "      <td>2023-02-06T01:17:34.342Z</td>\n",
       "      <td>37.2256</td>\n",
       "      <td>37.0143</td>\n",
       "      <td>10.0</td>\n",
       "      <td>7.8</td>\n",
       "      <td>mww</td>\n",
       "      <td>us</td>\n",
       "      <td>us6000jllz</td>\n",
       "      <td>2023-07-19T08:32:38.718Z</td>\n",
       "      <td>earthquake</td>\n",
       "      <td>reviewed</td>\n",
       "      <td>us</td>\n",
       "      <td>us</td>\n",
       "      <td>2023</td>\n",
       "      <td>2</td>\n",
       "    </tr>\n",
       "  </tbody>\n",
       "</table>\n",
       "</div>"
      ],
      "text/plain": [
       "                         time  latitude  longitude  depth  mag magType net  \\\n",
       "709  2023-02-06T01:17:34.342Z   37.2256    37.0143   10.0  7.8     mww  us   \n",
       "\n",
       "             id                   updated        type    status  \\\n",
       "709  us6000jllz  2023-07-19T08:32:38.718Z  earthquake  reviewed   \n",
       "\n",
       "    locationSource magSource  year  month  \n",
       "709             us        us  2023      2  "
      ]
     },
     "execution_count": 23,
     "metadata": {},
     "output_type": "execute_result"
    }
   ],
   "source": [
    "df_increase = df.copy()\n",
    "df_increase.sort_values(by='mag', ascending=False, inplace=True)\n",
    "df_disastrous3 = df_increase.head(1)\n",
    "df_disastrous3 "
   ]
  },
  {
   "cell_type": "code",
   "execution_count": 24,
   "metadata": {},
   "outputs": [
    {
     "name": "stdout",
     "output_type": "stream",
     "text": [
      "The strongest magnitude is 7.8 the date 2023-02-06T01:17:34.342Z at the depth of 10.0. \n",
      "Which is considered the most powerful earthquake.  \n",
      "That has occurred in the selected country in relation to the database\n"
     ]
    }
   ],
   "source": [
    "dato_mas_grande = 7.8\n",
    "column_to_check = 'mag'\n",
    "x= df[column_to_check].max()\n",
    "indice_dato_mas_grande = df[df[column_to_check] == dato_mas_grande].index[0]\n",
    "y = df.at[indice_dato_mas_grande, 'time']\n",
    "z=df.at[indice_dato_mas_grande, 'type']\n",
    "w=df.at[indice_dato_mas_grande, 'depth']\n",
    "print(f'The strongest magnitude is {x} the date {y} at the depth of {w}. \\nWhich is considered the most powerful {z}.  \\nThat has occurred in the selected country in relation to the database')"
   ]
  },
  {
   "cell_type": "markdown",
   "metadata": {},
   "source": [
    "### 4. In which specific region of Turkey did the most destructive earthquake recorded in the dataset occur?"
   ]
  },
  {
   "cell_type": "code",
   "execution_count": 25,
   "metadata": {},
   "outputs": [],
   "source": [
    "df_max_region=df.copy()\n",
    "df_max_region = df_max_region.query(\"mag >= 5\")\n",
    "df_max_region.sort_values(by='mag', ascending=False, inplace=True)\n",
    "df_max_region = df_max_region.head(50)\n",
    "\n",
    "grouped = df_max_region.groupby(['mag', 'id', 'latitude', 'longitude']).size().reset_index(name='count')\n",
    "grouped = grouped.sort_values(by='mag', ascending=False)"
   ]
  },
  {
   "cell_type": "code",
   "execution_count": 26,
   "metadata": {},
   "outputs": [
    {
     "data": {
      "text/html": [
       "<div>\n",
       "<style scoped>\n",
       "    .dataframe tbody tr th:only-of-type {\n",
       "        vertical-align: middle;\n",
       "    }\n",
       "\n",
       "    .dataframe tbody tr th {\n",
       "        vertical-align: top;\n",
       "    }\n",
       "\n",
       "    .dataframe thead th {\n",
       "        text-align: right;\n",
       "    }\n",
       "</style>\n",
       "<table border=\"1\" class=\"dataframe\">\n",
       "  <thead>\n",
       "    <tr style=\"text-align: right;\">\n",
       "      <th></th>\n",
       "      <th>mag</th>\n",
       "      <th>id</th>\n",
       "      <th>latitude</th>\n",
       "      <th>longitude</th>\n",
       "      <th>count</th>\n",
       "    </tr>\n",
       "  </thead>\n",
       "  <tbody>\n",
       "    <tr>\n",
       "      <th>49</th>\n",
       "      <td>7.8</td>\n",
       "      <td>us6000jllz</td>\n",
       "      <td>37.2256</td>\n",
       "      <td>37.0143</td>\n",
       "      <td>1</td>\n",
       "    </tr>\n",
       "  </tbody>\n",
       "</table>\n",
       "</div>"
      ],
      "text/plain": [
       "    mag          id  latitude  longitude  count\n",
       "49  7.8  us6000jllz   37.2256    37.0143      1"
      ]
     },
     "execution_count": 26,
     "metadata": {},
     "output_type": "execute_result"
    }
   ],
   "source": [
    "Max_region=grouped.loc[grouped['id'] == 'us6000jllz']\n",
    "Max_region"
   ]
  },
  {
   "cell_type": "code",
   "execution_count": 27,
   "metadata": {},
   "outputs": [],
   "source": [
    "geometry = [Point(xy) for xy in zip(Max_region['longitude'], Max_region['latitude'])]\n",
    "gdf= GeoDataFrame(Max_region, geometry=geometry)"
   ]
  },
  {
   "cell_type": "code",
   "execution_count": 28,
   "metadata": {},
   "outputs": [
    {
     "data": {
      "text/plain": [
       "Text(0.5, 1.0, 'Map 1')"
      ]
     },
     "execution_count": 28,
     "metadata": {},
     "output_type": "execute_result"
    },
    {
     "data": {
      "image/png": "[encoded data removed]",
      "text/plain": [
       "<Figure size 1000x600 with 1 Axes>"
      ]
     },
     "metadata": {},
     "output_type": "display_data"
    }
   ],
   "source": [
    "world_filepath = gpd.datasets.get_path('naturalearth_lowres')\n",
    "world = gpd.read_file(world_filepath)\n",
    "world.head()\n",
    "turkey = world.loc[world['name'] == 'Turkey'] # get Turkey row\n",
    "map_1 = gdf.plot(ax=turkey.plot(figsize=(10, 6), color='palegreen'), marker='o', color='crimson', markersize=55)\n",
    "map_1.set_title('Map 1')"
   ]
  },
  {
   "cell_type": "markdown",
   "metadata": {},
   "source": [
    "### 5. What was the depth of the epicenter of the most devastating earthquake recorded in Turkey, according to the dataset?"
   ]
  },
  {
   "cell_type": "code",
   "execution_count": 29,
   "metadata": {},
   "outputs": [
    {
     "data": {
      "text/html": [
       "<div>\n",
       "<style scoped>\n",
       "    .dataframe tbody tr th:only-of-type {\n",
       "        vertical-align: middle;\n",
       "    }\n",
       "\n",
       "    .dataframe tbody tr th {\n",
       "        vertical-align: top;\n",
       "    }\n",
       "\n",
       "    .dataframe thead th {\n",
       "        text-align: right;\n",
       "    }\n",
       "</style>\n",
       "<table border=\"1\" class=\"dataframe\">\n",
       "  <thead>\n",
       "    <tr style=\"text-align: right;\">\n",
       "      <th></th>\n",
       "      <th>depth</th>\n",
       "      <th>mag</th>\n",
       "    </tr>\n",
       "  </thead>\n",
       "  <tbody>\n",
       "    <tr>\n",
       "      <th>4647</th>\n",
       "      <td>184.33</td>\n",
       "      <td>4.2</td>\n",
       "    </tr>\n",
       "    <tr>\n",
       "      <th>3829</th>\n",
       "      <td>174.95</td>\n",
       "      <td>4.6</td>\n",
       "    </tr>\n",
       "    <tr>\n",
       "      <th>1287</th>\n",
       "      <td>172.60</td>\n",
       "      <td>4.2</td>\n",
       "    </tr>\n",
       "    <tr>\n",
       "      <th>6931</th>\n",
       "      <td>170.00</td>\n",
       "      <td>3.9</td>\n",
       "    </tr>\n",
       "    <tr>\n",
       "      <th>5955</th>\n",
       "      <td>168.30</td>\n",
       "      <td>4.1</td>\n",
       "    </tr>\n",
       "    <tr>\n",
       "      <th>3628</th>\n",
       "      <td>167.87</td>\n",
       "      <td>4.6</td>\n",
       "    </tr>\n",
       "    <tr>\n",
       "      <th>1689</th>\n",
       "      <td>167.69</td>\n",
       "      <td>4.0</td>\n",
       "    </tr>\n",
       "    <tr>\n",
       "      <th>6709</th>\n",
       "      <td>166.00</td>\n",
       "      <td>3.6</td>\n",
       "    </tr>\n",
       "    <tr>\n",
       "      <th>6186</th>\n",
       "      <td>165.00</td>\n",
       "      <td>5.1</td>\n",
       "    </tr>\n",
       "    <tr>\n",
       "      <th>5415</th>\n",
       "      <td>161.00</td>\n",
       "      <td>4.1</td>\n",
       "    </tr>\n",
       "  </tbody>\n",
       "</table>\n",
       "</div>"
      ],
      "text/plain": [
       "       depth  mag\n",
       "4647  184.33  4.2\n",
       "3829  174.95  4.6\n",
       "1287  172.60  4.2\n",
       "6931  170.00  3.9\n",
       "5955  168.30  4.1\n",
       "3628  167.87  4.6\n",
       "1689  167.69  4.0\n",
       "6709  166.00  3.6\n",
       "6186  165.00  5.1\n",
       "5415  161.00  4.1"
      ]
     },
     "execution_count": 29,
     "metadata": {},
     "output_type": "execute_result"
    }
   ],
   "source": [
    "# Sumarizes the dataframe\n",
    "df_depth = df[['depth', 'mag']].copy()\n",
    "df_depth.sort_values(by='depth', ascending=False, inplace=True)\n",
    "#df_depth = df_depth.query(\"mag >= 5\")\n",
    "df_depth.head(10)"
   ]
  },
  {
   "cell_type": "code",
   "execution_count": 30,
   "metadata": {},
   "outputs": [
    {
     "data": {
      "image/png": "[encoded data removed]",
      "text/plain": [
       "<Figure size 1500x600 with 1 Axes>"
      ]
     },
     "metadata": {},
     "output_type": "display_data"
    }
   ],
   "source": [
    "# Scatter plot: Relation betwent depth and magnitud\n",
    "x= df_depth['depth']\n",
    "y= df_depth['mag']\n",
    "plt.figure(figsize=(15, 6))\n",
    "plt.xticks(rotation = 90)\n",
    "plt.ylim(2, 7)\n",
    "plt.xlim(-4, 180)\n",
    "plt.scatter(x, y,color = 'green', s = 5)\n",
    "plt.xlabel(\"Depth Vs Magnitud\")\n",
    "plt.show()"
   ]
  },
  {
   "cell_type": "code",
   "execution_count": 31,
   "metadata": {},
   "outputs": [
    {
     "data": {
      "text/plain": [
       "Text(0.5, 1.0, 'Depth Frequency(Boxplot)')"
      ]
     },
     "execution_count": 31,
     "metadata": {},
     "output_type": "execute_result"
    },
    {
     "data": {
      "image/png": "[encoded data removed]",
      "text/plain": [
       "<Figure size 1500x300 with 2 Axes>"
      ]
     },
     "metadata": {},
     "output_type": "display_data"
    }
   ],
   "source": [
    "fig, axs = plt.subplots(nrows=1, ncols=2, figsize=(15, 3))\n",
    "# plot violin plot\n",
    "axs[0].violinplot(df_depth['depth'],\n",
    "                  showmeans=True,\n",
    "                  showmedians=True,\n",
    "                  vert=False)\n",
    "axs[0].set_title('Depth Frequency (Violin Plot)')\n",
    "\n",
    "# plot box plot\n",
    "axs[1].boxplot(df_depth['depth'], vert=False, patch_artist=True)\n",
    "axs[1].set_title('Depth Frequency(Boxplot)')"
   ]
  },
  {
   "cell_type": "markdown",
   "metadata": {},
   "source": [
    "### 6. Which were the main cities or localities affected by the most catastrophic earthquake in Turkey according to the dataset?"
   ]
  },
  {
   "cell_type": "code",
   "execution_count": 32,
   "metadata": {},
   "outputs": [
    {
     "data": {
      "text/html": [
       "<div>\n",
       "<style scoped>\n",
       "    .dataframe tbody tr th:only-of-type {\n",
       "        vertical-align: middle;\n",
       "    }\n",
       "\n",
       "    .dataframe tbody tr th {\n",
       "        vertical-align: top;\n",
       "    }\n",
       "\n",
       "    .dataframe thead th {\n",
       "        text-align: right;\n",
       "    }\n",
       "</style>\n",
       "<table border=\"1\" class=\"dataframe\">\n",
       "  <thead>\n",
       "    <tr style=\"text-align: right;\">\n",
       "      <th></th>\n",
       "      <th>time</th>\n",
       "      <th>latitude</th>\n",
       "      <th>longitude</th>\n",
       "      <th>depth</th>\n",
       "      <th>mag</th>\n",
       "      <th>magType</th>\n",
       "      <th>net</th>\n",
       "      <th>id</th>\n",
       "      <th>updated</th>\n",
       "      <th>type</th>\n",
       "      <th>status</th>\n",
       "      <th>locationSource</th>\n",
       "      <th>magSource</th>\n",
       "      <th>year</th>\n",
       "      <th>month</th>\n",
       "      <th>size</th>\n",
       "    </tr>\n",
       "  </thead>\n",
       "  <tbody>\n",
       "    <tr>\n",
       "      <th>709</th>\n",
       "      <td>2023-02-06T01:17:34.342Z</td>\n",
       "      <td>37.2256</td>\n",
       "      <td>37.0143</td>\n",
       "      <td>10.000</td>\n",
       "      <td>7.8</td>\n",
       "      <td>mww</td>\n",
       "      <td>us</td>\n",
       "      <td>us6000jllz</td>\n",
       "      <td>2023-07-19T08:32:38.718Z</td>\n",
       "      <td>earthquake</td>\n",
       "      <td>reviewed</td>\n",
       "      <td>us</td>\n",
       "      <td>us</td>\n",
       "      <td>2023</td>\n",
       "      <td>2</td>\n",
       "      <td>112.672411</td>\n",
       "    </tr>\n",
       "    <tr>\n",
       "      <th>605</th>\n",
       "      <td>2023-02-06T10:24:48.811Z</td>\n",
       "      <td>38.0106</td>\n",
       "      <td>37.1962</td>\n",
       "      <td>7.432</td>\n",
       "      <td>7.5</td>\n",
       "      <td>mww</td>\n",
       "      <td>us</td>\n",
       "      <td>us6000jlqa</td>\n",
       "      <td>2023-06-17T18:00:10.939Z</td>\n",
       "      <td>earthquake</td>\n",
       "      <td>reviewed</td>\n",
       "      <td>us</td>\n",
       "      <td>us</td>\n",
       "      <td>2023</td>\n",
       "      <td>2</td>\n",
       "      <td>102.953450</td>\n",
       "    </tr>\n",
       "    <tr>\n",
       "      <th>3382</th>\n",
       "      <td>2017-11-12T18:18:17.180Z</td>\n",
       "      <td>34.9109</td>\n",
       "      <td>45.9592</td>\n",
       "      <td>19.000</td>\n",
       "      <td>7.3</td>\n",
       "      <td>mww</td>\n",
       "      <td>us</td>\n",
       "      <td>us2000bmcg</td>\n",
       "      <td>2022-05-03T20:02:36.492Z</td>\n",
       "      <td>earthquake</td>\n",
       "      <td>reviewed</td>\n",
       "      <td>us</td>\n",
       "      <td>us</td>\n",
       "      <td>2017</td>\n",
       "      <td>11</td>\n",
       "      <td>96.748130</td>\n",
       "    </tr>\n",
       "    <tr>\n",
       "      <th>5871</th>\n",
       "      <td>2011-10-23T10:41:23.250Z</td>\n",
       "      <td>38.7210</td>\n",
       "      <td>43.5080</td>\n",
       "      <td>18.000</td>\n",
       "      <td>7.1</td>\n",
       "      <td>mww</td>\n",
       "      <td>us</td>\n",
       "      <td>usp000j9rr</td>\n",
       "      <td>2022-04-08T22:08:47.620Z</td>\n",
       "      <td>earthquake</td>\n",
       "      <td>reviewed</td>\n",
       "      <td>us</td>\n",
       "      <td>us</td>\n",
       "      <td>2011</td>\n",
       "      <td>10</td>\n",
       "      <td>90.759940</td>\n",
       "    </tr>\n",
       "    <tr>\n",
       "      <th>1734</th>\n",
       "      <td>2020-10-30T11:51:27.348Z</td>\n",
       "      <td>37.8973</td>\n",
       "      <td>26.7838</td>\n",
       "      <td>21.000</td>\n",
       "      <td>7.0</td>\n",
       "      <td>mww</td>\n",
       "      <td>us</td>\n",
       "      <td>us7000c7y0</td>\n",
       "      <td>2023-03-28T14:51:23.263Z</td>\n",
       "      <td>earthquake</td>\n",
       "      <td>reviewed</td>\n",
       "      <td>us</td>\n",
       "      <td>us</td>\n",
       "      <td>2020</td>\n",
       "      <td>10</td>\n",
       "      <td>87.846708</td>\n",
       "    </tr>\n",
       "  </tbody>\n",
       "</table>\n",
       "</div>"
      ],
      "text/plain": [
       "                          time  latitude  longitude   depth  mag magType net  \\\n",
       "709   2023-02-06T01:17:34.342Z   37.2256    37.0143  10.000  7.8     mww  us   \n",
       "605   2023-02-06T10:24:48.811Z   38.0106    37.1962   7.432  7.5     mww  us   \n",
       "3382  2017-11-12T18:18:17.180Z   34.9109    45.9592  19.000  7.3     mww  us   \n",
       "5871  2011-10-23T10:41:23.250Z   38.7210    43.5080  18.000  7.1     mww  us   \n",
       "1734  2020-10-30T11:51:27.348Z   37.8973    26.7838  21.000  7.0     mww  us   \n",
       "\n",
       "              id                   updated        type    status  \\\n",
       "709   us6000jllz  2023-07-19T08:32:38.718Z  earthquake  reviewed   \n",
       "605   us6000jlqa  2023-06-17T18:00:10.939Z  earthquake  reviewed   \n",
       "3382  us2000bmcg  2022-05-03T20:02:36.492Z  earthquake  reviewed   \n",
       "5871  usp000j9rr  2022-04-08T22:08:47.620Z  earthquake  reviewed   \n",
       "1734  us7000c7y0  2023-03-28T14:51:23.263Z  earthquake  reviewed   \n",
       "\n",
       "     locationSource magSource  year  month        size  \n",
       "709              us        us  2023      2  112.672411  \n",
       "605              us        us  2023      2  102.953450  \n",
       "3382             us        us  2017     11   96.748130  \n",
       "5871             us        us  2011     10   90.759940  \n",
       "1734             us        us  2020     10   87.846708  "
      ]
     },
     "execution_count": 32,
     "metadata": {},
     "output_type": "execute_result"
    }
   ],
   "source": [
    "df_disastrous[\"size\"]=df_disastrous[\"mag\"] ** 2.3\n",
    "df_disastrous.head(5)"
   ]
  },
  {
   "cell_type": "code",
   "execution_count": 33,
   "metadata": {},
   "outputs": [],
   "source": [
    "df_dis=df_disastrous.head(5)"
   ]
  },
  {
   "cell_type": "code",
   "execution_count": 34,
   "metadata": {},
   "outputs": [
    {
     "ename": "RuntimeError",
     "evalue": "To use bokeh.io image export functions you need selenium ('conda install selenium' or 'pip install selenium')",
     "output_type": "error",
     "traceback": [
      "\u001b[1;31m---------------------------------------------------------------------------\u001b[0m",
      "\u001b[1;31mModuleNotFoundError\u001b[0m                       Traceback (most recent call last)",
      "File \u001b[1;32mc:\\Users\\alvar\\anaconda3\\Lib\\site-packages\\bokeh\\util\\dependencies.py:80\u001b[0m, in \u001b[0;36mimport_required\u001b[1;34m(mod_name, error_msg)\u001b[0m\n\u001b[0;32m     79\u001b[0m \u001b[39mtry\u001b[39;00m:\n\u001b[1;32m---> 80\u001b[0m     \u001b[39mreturn\u001b[39;00m import_module(mod_name)\n\u001b[0;32m     81\u001b[0m \u001b[39mexcept\u001b[39;00m \u001b[39mImportError\u001b[39;00m \u001b[39mas\u001b[39;00m e:\n",
      "File \u001b[1;32mc:\\Users\\alvar\\anaconda3\\Lib\\importlib\\__init__.py:126\u001b[0m, in \u001b[0;36mimport_module\u001b[1;34m(name, package)\u001b[0m\n\u001b[0;32m    125\u001b[0m         level \u001b[39m+\u001b[39m\u001b[39m=\u001b[39m \u001b[39m1\u001b[39m\n\u001b[1;32m--> 126\u001b[0m \u001b[39mreturn\u001b[39;00m _bootstrap\u001b[39m.\u001b[39m_gcd_import(name[level:], package, level)\n",
      "File \u001b[1;32m<frozen importlib._bootstrap>:1206\u001b[0m, in \u001b[0;36m_gcd_import\u001b[1;34m(name, package, level)\u001b[0m\n",
      "File \u001b[1;32m<frozen importlib._bootstrap>:1178\u001b[0m, in \u001b[0;36m_find_and_load\u001b[1;34m(name, import_)\u001b[0m\n",
      "File \u001b[1;32m<frozen importlib._bootstrap>:1128\u001b[0m, in \u001b[0;36m_find_and_load_unlocked\u001b[1;34m(name, import_)\u001b[0m\n",
      "File \u001b[1;32m<frozen importlib._bootstrap>:241\u001b[0m, in \u001b[0;36m_call_with_frames_removed\u001b[1;34m(f, *args, **kwds)\u001b[0m\n",
      "File \u001b[1;32m<frozen importlib._bootstrap>:1206\u001b[0m, in \u001b[0;36m_gcd_import\u001b[1;34m(name, package, level)\u001b[0m\n",
      "File \u001b[1;32m<frozen importlib._bootstrap>:1178\u001b[0m, in \u001b[0;36m_find_and_load\u001b[1;34m(name, import_)\u001b[0m\n",
      "File \u001b[1;32m<frozen importlib._bootstrap>:1142\u001b[0m, in \u001b[0;36m_find_and_load_unlocked\u001b[1;34m(name, import_)\u001b[0m\n",
      "\u001b[1;31mModuleNotFoundError\u001b[0m: No module named 'selenium'",
      "\nThe above exception was the direct cause of the following exception:\n",
      "\u001b[1;31mRuntimeError\u001b[0m                              Traceback (most recent call last)",
      "Cell \u001b[1;32mIn[34], line 18\u001b[0m\n\u001b[0;32m     14\u001b[0m plot \u001b[39m=\u001b[39m df_dis\u001b[39m.\u001b[39mhvplot\u001b[39m.\u001b[39mpoints(x\u001b[39m=\u001b[39m\u001b[39m'\u001b[39m\u001b[39mlongitude\u001b[39m\u001b[39m'\u001b[39m, y\u001b[39m=\u001b[39m\u001b[39m'\u001b[39m\u001b[39mlatitude\u001b[39m\u001b[39m'\u001b[39m, geo\u001b[39m=\u001b[39m\u001b[39mTrue\u001b[39;00m, alpha\u001b[39m=\u001b[39m\u001b[39m1\u001b[39m, size\u001b[39m=\u001b[39m\u001b[39m\"\u001b[39m\u001b[39msize\u001b[39m\u001b[39m\"\u001b[39m,\n\u001b[0;32m     15\u001b[0m                             hover_cols\u001b[39m=\u001b[39m[\u001b[39m'\u001b[39m\u001b[39mcity\u001b[39m\u001b[39m'\u001b[39m,\u001b[39m'\u001b[39m\u001b[39mmag\u001b[39m\u001b[39m'\u001b[39m], title\u001b[39m=\u001b[39m\u001b[39m'\u001b[39m\u001b[39mMap 2\u001b[39m\u001b[39m'\u001b[39m, \n\u001b[0;32m     16\u001b[0m                             tiles\u001b[39m=\u001b[39m\u001b[39m'\u001b[39m\u001b[39mOSM\u001b[39m\u001b[39m'\u001b[39m, color\u001b[39m=\u001b[39m\u001b[39m\"\u001b[39m\u001b[39mcrimson\u001b[39m\u001b[39m\"\u001b[39m, frame_width\u001b[39m=\u001b[39m\u001b[39m1200\u001b[39m, frame_height\u001b[39m=\u001b[39m\u001b[39m600\u001b[39m)\n\u001b[0;32m     17\u001b[0m plot\n\u001b[1;32m---> 18\u001b[0m hvplot\u001b[39m.\u001b[39msave(plot, \u001b[39m'\u001b[39m\u001b[39mmap_2.png\u001b[39m\u001b[39m'\u001b[39m)\n",
      "File \u001b[1;32mc:\\Users\\alvar\\anaconda3\\Lib\\site-packages\\holoviews\\util\\__init__.py:808\u001b[0m, in \u001b[0;36msave\u001b[1;34m(obj, filename, fmt, backend, resources, toolbar, title, **kwargs)\u001b[0m\n\u001b[0;32m    806\u001b[0m     \u001b[39mif\u001b[39;00m formats[\u001b[39m-\u001b[39m\u001b[39m1\u001b[39m] \u001b[39min\u001b[39;00m supported:\n\u001b[0;32m    807\u001b[0m         filename \u001b[39m=\u001b[39m \u001b[39m'\u001b[39m\u001b[39m.\u001b[39m\u001b[39m'\u001b[39m\u001b[39m.\u001b[39mjoin(formats[:\u001b[39m-\u001b[39m\u001b[39m1\u001b[39m])\n\u001b[1;32m--> 808\u001b[0m \u001b[39mreturn\u001b[39;00m renderer_obj\u001b[39m.\u001b[39msave(obj, filename, fmt\u001b[39m=\u001b[39mfmt, resources\u001b[39m=\u001b[39mresources,\n\u001b[0;32m    809\u001b[0m                          title\u001b[39m=\u001b[39mtitle)\n",
      "File \u001b[1;32mc:\\Users\\alvar\\anaconda3\\Lib\\site-packages\\holoviews\\plotting\\renderer.py:597\u001b[0m, in \u001b[0;36mRenderer.save\u001b[1;34m(self_or_cls, obj, basename, fmt, key, info, options, resources, title, **kwargs)\u001b[0m\n\u001b[0;32m    594\u001b[0m     plot\u001b[39m.\u001b[39mlayout\u001b[39m.\u001b[39msave(basename, embed\u001b[39m=\u001b[39m\u001b[39mTrue\u001b[39;00m, resources\u001b[39m=\u001b[39mresources, title\u001b[39m=\u001b[39mtitle)\n\u001b[0;32m    595\u001b[0m     \u001b[39mreturn\u001b[39;00m\n\u001b[1;32m--> 597\u001b[0m rendered \u001b[39m=\u001b[39m self_or_cls(plot, fmt)\n\u001b[0;32m    598\u001b[0m \u001b[39mif\u001b[39;00m rendered \u001b[39mis\u001b[39;00m \u001b[39mNone\u001b[39;00m: \u001b[39mreturn\u001b[39;00m\n\u001b[0;32m    599\u001b[0m (data, info) \u001b[39m=\u001b[39m rendered\n",
      "File \u001b[1;32mc:\\Users\\alvar\\anaconda3\\Lib\\site-packages\\holoviews\\plotting\\renderer.py:200\u001b[0m, in \u001b[0;36mRenderer.__call__\u001b[1;34m(self, obj, fmt, **kwargs)\u001b[0m\n\u001b[0;32m    198\u001b[0m     \u001b[39mreturn\u001b[39;00m \u001b[39mself\u001b[39m\u001b[39m.\u001b[39mstatic_html(plot), info\n\u001b[0;32m    199\u001b[0m \u001b[39melse\u001b[39;00m:\n\u001b[1;32m--> 200\u001b[0m     data \u001b[39m=\u001b[39m \u001b[39mself\u001b[39m\u001b[39m.\u001b[39m_figure_data(plot, fmt, \u001b[39m*\u001b[39m\u001b[39m*\u001b[39mkwargs)\n\u001b[0;32m    201\u001b[0m     data \u001b[39m=\u001b[39m \u001b[39mself\u001b[39m\u001b[39m.\u001b[39m_apply_post_render_hooks(data, obj, fmt)\n\u001b[0;32m    202\u001b[0m     \u001b[39mreturn\u001b[39;00m data, info\n",
      "File \u001b[1;32mc:\\Users\\alvar\\anaconda3\\Lib\\site-packages\\holoviews\\plotting\\bokeh\\renderer.py:127\u001b[0m, in \u001b[0;36mBokehRenderer._figure_data\u001b[1;34m(self, plot, fmt, doc, as_script, **kwargs)\u001b[0m\n\u001b[0;32m    125\u001b[0m \u001b[39melif\u001b[39;00m fmt \u001b[39m==\u001b[39m \u001b[39m'\u001b[39m\u001b[39mpng\u001b[39m\u001b[39m'\u001b[39m:\n\u001b[0;32m    126\u001b[0m     \u001b[39mfrom\u001b[39;00m \u001b[39mbokeh\u001b[39;00m\u001b[39m.\u001b[39;00m\u001b[39mio\u001b[39;00m\u001b[39m.\u001b[39;00m\u001b[39mexport\u001b[39;00m \u001b[39mimport\u001b[39;00m get_screenshot_as_png\n\u001b[1;32m--> 127\u001b[0m     img \u001b[39m=\u001b[39m get_screenshot_as_png(plot\u001b[39m.\u001b[39mstate, driver\u001b[39m=\u001b[39mstate\u001b[39m.\u001b[39mwebdriver)\n\u001b[0;32m    128\u001b[0m     imgByteArr \u001b[39m=\u001b[39m BytesIO()\n\u001b[0;32m    129\u001b[0m     img\u001b[39m.\u001b[39msave(imgByteArr, \u001b[39mformat\u001b[39m\u001b[39m=\u001b[39m\u001b[39m'\u001b[39m\u001b[39mPNG\u001b[39m\u001b[39m'\u001b[39m)\n",
      "File \u001b[1;32mc:\\Users\\alvar\\anaconda3\\Lib\\site-packages\\bokeh\\io\\export.py:246\u001b[0m, in \u001b[0;36mget_screenshot_as_png\u001b[1;34m(obj, driver, timeout, resources, width, height, state)\u001b[0m\n\u001b[0;32m    219\u001b[0m \u001b[39mdef\u001b[39;00m \u001b[39mget_screenshot_as_png\u001b[39m(obj: UIElement \u001b[39m|\u001b[39m Document, \u001b[39m*\u001b[39m, driver: WebDriver \u001b[39m|\u001b[39m \u001b[39mNone\u001b[39;00m \u001b[39m=\u001b[39m \u001b[39mNone\u001b[39;00m, timeout: \u001b[39mint\u001b[39m \u001b[39m=\u001b[39m \u001b[39m5\u001b[39m,\n\u001b[0;32m    220\u001b[0m         resources: Resources \u001b[39m=\u001b[39m INLINE, width: \u001b[39mint\u001b[39m \u001b[39m|\u001b[39m \u001b[39mNone\u001b[39;00m \u001b[39m=\u001b[39m \u001b[39mNone\u001b[39;00m, height: \u001b[39mint\u001b[39m \u001b[39m|\u001b[39m \u001b[39mNone\u001b[39;00m \u001b[39m=\u001b[39m \u001b[39mNone\u001b[39;00m, state: State \u001b[39m|\u001b[39m \u001b[39mNone\u001b[39;00m \u001b[39m=\u001b[39m \u001b[39mNone\u001b[39;00m) \u001b[39m-\u001b[39m\u001b[39m>\u001b[39m Image\u001b[39m.\u001b[39mImage:\n\u001b[0;32m    221\u001b[0m \u001b[39m    \u001b[39m\u001b[39m''' Get a screenshot of a ``UIElement`` object.\u001b[39;00m\n\u001b[0;32m    222\u001b[0m \n\u001b[0;32m    223\u001b[0m \u001b[39m    Args:\u001b[39;00m\n\u001b[1;32m   (...)\u001b[0m\n\u001b[0;32m    244\u001b[0m \n\u001b[0;32m    245\u001b[0m \u001b[39m    '''\u001b[39;00m\n\u001b[1;32m--> 246\u001b[0m     \u001b[39mfrom\u001b[39;00m \u001b[39m.\u001b[39;00m\u001b[39mwebdriver\u001b[39;00m \u001b[39mimport\u001b[39;00m webdriver_control\n\u001b[0;32m    248\u001b[0m     \u001b[39mwith\u001b[39;00m _tmp_html() \u001b[39mas\u001b[39;00m tmp:\n\u001b[0;32m    249\u001b[0m         theme \u001b[39m=\u001b[39m (state \u001b[39mor\u001b[39;00m curstate())\u001b[39m.\u001b[39mdocument\u001b[39m.\u001b[39mtheme\n",
      "File \u001b[1;32mc:\\Users\\alvar\\anaconda3\\Lib\\site-packages\\bokeh\\io\\webdriver.py:24\u001b[0m\n\u001b[0;32m     19\u001b[0m \u001b[39m#-----------------------------------------------------------------------------\u001b[39;00m\n\u001b[0;32m     20\u001b[0m \u001b[39m# Imports\u001b[39;00m\n\u001b[0;32m     21\u001b[0m \u001b[39m#-----------------------------------------------------------------------------\u001b[39;00m\n\u001b[0;32m     23\u001b[0m \u001b[39mfrom\u001b[39;00m \u001b[39m.\u001b[39;00m\u001b[39m.\u001b[39;00m\u001b[39mutil\u001b[39;00m\u001b[39m.\u001b[39;00m\u001b[39mdependencies\u001b[39;00m \u001b[39mimport\u001b[39;00m import_required \u001b[39m# isort:skip\u001b[39;00m\n\u001b[1;32m---> 24\u001b[0m import_required(\u001b[39m\"\u001b[39m\u001b[39mselenium.webdriver\u001b[39m\u001b[39m\"\u001b[39m,\n\u001b[0;32m     25\u001b[0m                 \u001b[39m\"\u001b[39m\u001b[39mTo use bokeh.io image export functions you need selenium \u001b[39m\u001b[39m\"\u001b[39m\n\u001b[0;32m     26\u001b[0m                 \u001b[39m\"\u001b[39m\u001b[39m(\u001b[39m\u001b[39m'\u001b[39m\u001b[39mconda install selenium\u001b[39m\u001b[39m'\u001b[39m\u001b[39m or \u001b[39m\u001b[39m'\u001b[39m\u001b[39mpip install selenium\u001b[39m\u001b[39m'\u001b[39m\u001b[39m)\u001b[39m\u001b[39m\"\u001b[39m)\n\u001b[0;32m     28\u001b[0m \u001b[39m# Standard library imports\u001b[39;00m\n\u001b[0;32m     29\u001b[0m \u001b[39mimport\u001b[39;00m \u001b[39matexit\u001b[39;00m\n",
      "File \u001b[1;32mc:\\Users\\alvar\\anaconda3\\Lib\\site-packages\\bokeh\\util\\dependencies.py:82\u001b[0m, in \u001b[0;36mimport_required\u001b[1;34m(mod_name, error_msg)\u001b[0m\n\u001b[0;32m     80\u001b[0m     \u001b[39mreturn\u001b[39;00m import_module(mod_name)\n\u001b[0;32m     81\u001b[0m \u001b[39mexcept\u001b[39;00m \u001b[39mImportError\u001b[39;00m \u001b[39mas\u001b[39;00m e:\n\u001b[1;32m---> 82\u001b[0m     \u001b[39mraise\u001b[39;00m \u001b[39mRuntimeError\u001b[39;00m(error_msg) \u001b[39mfrom\u001b[39;00m \u001b[39me\u001b[39;00m\n",
      "\u001b[1;31mRuntimeError\u001b[0m: To use bokeh.io image export functions you need selenium ('conda install selenium' or 'pip install selenium')"
     ]
    }
   ],
   "source": [
    "Apikey=geoapify_key\n",
    "def get_city_name(latitude, longitude):\n",
    "    url = f'https://api.geoapify.com/v1/geocode/reverse?lat={latitude}&lon={longitude}&apiKey={Apikey}'\n",
    "    response = requests.get(url)\n",
    "    data = response.json()\n",
    "    city = data['features'][0]['properties'].get('city')\n",
    "    if not city:\n",
    "        city = data['features'][0]['properties'].get('village')\n",
    "    return city\n",
    "\n",
    "\n",
    "df_dis['city'] = df_dis.apply(lambda row: get_city_name(row['latitude'], row['longitude']), axis=1)\n",
    "\n",
    "plot = df_dis.hvplot.points(x='longitude', y='latitude', geo=True, alpha=1, size=\"size\",\n",
    "                            hover_cols=['city','mag'], title='Map 2', \n",
    "                            tiles='OSM', color=\"crimson\", frame_width=1200, frame_height=600)\n",
    "plot\n",
    "hvplot.save(plot, 'map_2.png')"
   ]
  }
 ],
 "metadata": {
  "kernelspec": {
   "display_name": "base",
   "language": "python",
   "name": "python3"
  },
  "language_info": {
   "codemirror_mode": {
    "name": "ipython",
    "version": 3
   },
   "file_extension": ".py",
   "mimetype": "text/x-python",
   "name": "python",
   "nbconvert_exporter": "python",
   "pygments_lexer": "ipython3",
   "version": "3.11.3"
  },
  "orig_nbformat": 4
 },
 "nbformat": 4,
 "nbformat_minor": 2
}
